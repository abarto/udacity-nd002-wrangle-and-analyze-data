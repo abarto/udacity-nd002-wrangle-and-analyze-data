{
 "cells": [
  {
   "cell_type": "markdown",
   "metadata": {
    "extensions": {
     "jupyter_dashboards": {
      "version": 1,
      "views": {
       "grid_default": {
        "col": 0,
        "height": 4,
        "hidden": false,
        "row": 0,
        "width": 4
       },
       "report_default": {
        "hidden": false
       }
      }
     }
    }
   },
   "source": [
    "# Project: Wrangling and Analyze Data"
   ]
  },
  {
   "cell_type": "code",
   "execution_count": 1,
   "metadata": {},
   "outputs": [],
   "source": [
    "import sqlite3\n",
    "import urllib\n",
    "\n",
    "from configparser import ConfigParser\n",
    "from io import BytesIO\n",
    "from itertools import islice\n",
    "from json import dump, loads\n",
    "from os import environ\n",
    "from pathlib import Path\n",
    "\n",
    "import requests\n",
    "import tweepy\n",
    "\n",
    "import numpy as np\n",
    "import pandas as pd\n",
    "import seaborn as sns\n",
    "import matplotlib.pyplot as plt\n",
    "from IPython.display import clear_output, display, Image\n",
    "\n",
    "sns.set_theme(style=\"darkgrid\")\n",
    "%matplotlib inline"
   ]
  },
  {
   "cell_type": "markdown",
   "metadata": {},
   "source": [
    "<span style=\"color: red;\">We'll store all downloaded and generated files in this directory. We create it if it doesn't exist.</span>"
   ]
  },
  {
   "cell_type": "code",
   "execution_count": 2,
   "metadata": {},
   "outputs": [],
   "source": [
    "data_dir = Path(\"data\")\n",
    "data_dir.mkdir(exist_ok=True)"
   ]
  },
  {
   "cell_type": "markdown",
   "metadata": {},
   "source": [
    "## Table of Contents\n",
    "\n",
    "* [Data Gathering](#data-gathering)\n",
    "* [Assessing Data](#assessing-data)\n",
    "    * [twitter_archived_enhanced_df](#twitter-archived-enhanced-df)\n",
    "    * [image_predictions_df](#image-predictions-df)\n",
    "    * [tweet_json_txt_df](#tweet_json_txt_df)\n",
    "* [Quality issues](#quality-issues)\n",
    "* [Tidiness issues](#tidiness-issues)\n",
    "* [Cleaning Data](#cleaning-data)\n",
    "* [Storing Data](#storing-data)\n",
    "* [Analyzing and Visualizing Data](#analyzing-and-visualizing-data)"
   ]
  },
  {
   "cell_type": "markdown",
   "metadata": {},
   "source": [
    "## Data Gathering<a class=\"anchor\" id=\"data-gathering\"></a>\n",
    "In the cell below, gather **all** three pieces of data for this project and load them in the notebook. **Note:** the methods required to gather each data are different.\n",
    "1. Directly download the WeRateDogs Twitter archive data (twitter_archive_enhanced.csv)"
   ]
  },
  {
   "cell_type": "markdown",
   "metadata": {
    "extensions": {
     "jupyter_dashboards": {
      "version": 1,
      "views": {
       "grid_default": {
        "hidden": true
       },
       "report_default": {
        "hidden": true
       }
      }
     }
    }
   },
   "source": [
    "<span style=\"color: red;\">We have to assume this file was downloaded manually, we'll first check if it exists, and if it doesn't, we'll download it and open it as if it was already on the filesystem.</span>"
   ]
  },
  {
   "cell_type": "code",
   "execution_count": 3,
   "metadata": {},
   "outputs": [],
   "source": [
    "twitter_archived_enhanced_csv = data_dir / \"twitter-archive-enhanced.csv\""
   ]
  },
  {
   "cell_type": "code",
   "execution_count": 4,
   "metadata": {},
   "outputs": [],
   "source": [
    "if not twitter_archived_enhanced_csv.exists():\n",
    "    with requests.get(\n",
    "        \"https://d17h27t6h515a5.cloudfront.net/topher/2017/August/59a4e958_twitter-archive-enhanced/twitter-archive-enhanced.csv\",\n",
    "        stream=True\n",
    "    ) as response:\n",
    "        response.raise_for_status()\n",
    "        with open(twitter_archived_enhanced_csv, \"wb\") as f:\n",
    "            for chunk in response.iter_content(chunk_size=32768):  \n",
    "                f.write(chunk)"
   ]
  },
  {
   "cell_type": "markdown",
   "metadata": {},
   "source": [
    "<span style=\"color: red;\">Before we open the file, let's check the first few lines to determine the proper way of open it with pandas:</span>"
   ]
  },
  {
   "cell_type": "code",
   "execution_count": 5,
   "metadata": {},
   "outputs": [
    {
     "name": "stdout",
     "output_type": "stream",
     "text": [
      "tweet_id,in_reply_to_status_id,in_reply_to_user_id,timestamp,source,text,retweeted_status_id,retweeted_status_user_id,retweeted_status_timestamp,expanded_urls,rating_numerator,rating_denominator,name,doggo,floofer,pupper,puppo\n",
      "\n",
      "892420643555336193,,,2017-08-01 16:23:56 +0000,\"<a href=\"\"http://twitter.com/download/iphone\"\" rel=\"\"nofollow\"\">Twitter for iPhone</a>\",This is Phineas. He's a mystical boy. Only ever appears in the hole of a donut. 13/10 https://t.co/MgUWQ76dJU,,,,https://twitter.com/dog_rates/status/892420643555336193/photo/1,13,10,Phineas,None,None,None,None\n",
      "\n",
      "892177421306343426,,,2017-08-01 00:17:27 +0000,\"<a href=\"\"http://twitter.com/download/iphone\"\" rel=\"\"nofollow\"\">Twitter for iPhone</a>\",\"This is Tilly. She's just checking pup on you. Hopes you're doing ok. If not, she's available for pats, snugs, boops, the whole bit. 13/10 https://t.co/0Xxu71qeIV\",,,,https://twitter.com/dog_rates/status/892177421306343426/photo/1,13,10,Tilly,None,None,None,None\n",
      "\n",
      "891815181378084864,,,2017-07-31 00:18:03 +0000,\"<a href=\"\"http://twitter.com/download/iphone\"\" rel=\"\"nofollow\"\">Twitter for iPhone</a>\",This is Archie. He is a rare Norwegian Pouncing Corgo. Lives in the tall grass. You never know when one may strike. 12/10 https://t.co/wUnZnhtVJB,,,,https://twitter.com/dog_rates/status/891815181378084864/photo/1,12,10,Archie,None,None,None,None\n",
      "\n",
      "891689557279858688,,,2017-07-30 15:58:51 +0000,\"<a href=\"\"http://twitter.com/download/iphone\"\" rel=\"\"nofollow\"\">Twitter for iPhone</a>\",This is Darla. She commenced a snooze mid meal. 13/10 happens to the best of us https://t.co/tD36da7qLQ,,,,https://twitter.com/dog_rates/status/891689557279858688/photo/1,13,10,Darla,None,None,None,None\n",
      "\n"
     ]
    }
   ],
   "source": [
    "with open(twitter_archived_enhanced_csv, \"r\") as f:\n",
    "    for line in islice(f, 5):\n",
    "        print(line)"
   ]
  },
  {
   "cell_type": "markdown",
   "metadata": {},
   "source": [
    "<span style=\"color: red;\">There's nothing out of the ordinary, so we can just use ``pandas.read_csv`` as usual:</span>"
   ]
  },
  {
   "cell_type": "code",
   "execution_count": 6,
   "metadata": {},
   "outputs": [],
   "source": [
    "twitter_archived_enhanced_df = pd.read_csv(twitter_archived_enhanced_csv)"
   ]
  },
  {
   "cell_type": "code",
   "execution_count": 7,
   "metadata": {},
   "outputs": [
    {
     "data": {
      "text/html": [
       "<div>\n",
       "<style scoped>\n",
       "    .dataframe tbody tr th:only-of-type {\n",
       "        vertical-align: middle;\n",
       "    }\n",
       "\n",
       "    .dataframe tbody tr th {\n",
       "        vertical-align: top;\n",
       "    }\n",
       "\n",
       "    .dataframe thead th {\n",
       "        text-align: right;\n",
       "    }\n",
       "</style>\n",
       "<table border=\"1\" class=\"dataframe\">\n",
       "  <thead>\n",
       "    <tr style=\"text-align: right;\">\n",
       "      <th></th>\n",
       "      <th>tweet_id</th>\n",
       "      <th>in_reply_to_status_id</th>\n",
       "      <th>in_reply_to_user_id</th>\n",
       "      <th>timestamp</th>\n",
       "      <th>source</th>\n",
       "      <th>text</th>\n",
       "      <th>retweeted_status_id</th>\n",
       "      <th>retweeted_status_user_id</th>\n",
       "      <th>retweeted_status_timestamp</th>\n",
       "      <th>expanded_urls</th>\n",
       "      <th>rating_numerator</th>\n",
       "      <th>rating_denominator</th>\n",
       "      <th>name</th>\n",
       "      <th>doggo</th>\n",
       "      <th>floofer</th>\n",
       "      <th>pupper</th>\n",
       "      <th>puppo</th>\n",
       "    </tr>\n",
       "  </thead>\n",
       "  <tbody>\n",
       "    <tr>\n",
       "      <th>0</th>\n",
       "      <td>892420643555336193</td>\n",
       "      <td>NaN</td>\n",
       "      <td>NaN</td>\n",
       "      <td>2017-08-01 16:23:56 +0000</td>\n",
       "      <td>&lt;a href=\"http://twitter.com/download/iphone\" r...</td>\n",
       "      <td>This is Phineas. He's a mystical boy. Only eve...</td>\n",
       "      <td>NaN</td>\n",
       "      <td>NaN</td>\n",
       "      <td>NaN</td>\n",
       "      <td>https://twitter.com/dog_rates/status/892420643...</td>\n",
       "      <td>13</td>\n",
       "      <td>10</td>\n",
       "      <td>Phineas</td>\n",
       "      <td>None</td>\n",
       "      <td>None</td>\n",
       "      <td>None</td>\n",
       "      <td>None</td>\n",
       "    </tr>\n",
       "  </tbody>\n",
       "</table>\n",
       "</div>"
      ],
      "text/plain": [
       "             tweet_id  in_reply_to_status_id  in_reply_to_user_id  \\\n",
       "0  892420643555336193                    NaN                  NaN   \n",
       "\n",
       "                   timestamp  \\\n",
       "0  2017-08-01 16:23:56 +0000   \n",
       "\n",
       "                                              source  \\\n",
       "0  <a href=\"http://twitter.com/download/iphone\" r...   \n",
       "\n",
       "                                                text  retweeted_status_id  \\\n",
       "0  This is Phineas. He's a mystical boy. Only eve...                  NaN   \n",
       "\n",
       "   retweeted_status_user_id retweeted_status_timestamp  \\\n",
       "0                       NaN                        NaN   \n",
       "\n",
       "                                       expanded_urls  rating_numerator  \\\n",
       "0  https://twitter.com/dog_rates/status/892420643...                13   \n",
       "\n",
       "   rating_denominator     name doggo floofer pupper puppo  \n",
       "0                  10  Phineas  None    None   None  None  "
      ]
     },
     "execution_count": 7,
     "metadata": {},
     "output_type": "execute_result"
    }
   ],
   "source": [
    "twitter_archived_enhanced_df.head(1)"
   ]
  },
  {
   "cell_type": "markdown",
   "metadata": {},
   "source": [
    "2. Use the Requests library to download the tweet image prediction (image_predictions.tsv)"
   ]
  },
  {
   "cell_type": "markdown",
   "metadata": {},
   "source": [
    "<span style=\"color: red;\">Since we're hitting an external service, we first check if we haven't saved the loaded dataframe before. This isn't part of the wrangling process per se, but a convenience to avoid hitting external services mutiple times while running the notebook.</span>"
   ]
  },
  {
   "cell_type": "code",
   "execution_count": 8,
   "metadata": {},
   "outputs": [],
   "source": [
    "image_predictions_df = None"
   ]
  },
  {
   "cell_type": "code",
   "execution_count": 9,
   "metadata": {},
   "outputs": [],
   "source": [
    "image_predictions_df_pkl = data_dir / \"image_predictions_df.pkl\""
   ]
  },
  {
   "cell_type": "code",
   "execution_count": 10,
   "metadata": {},
   "outputs": [],
   "source": [
    "if image_predictions_df_pkl.exists():\n",
    "    image_predictions_df = pd.read_pickle(image_predictions_df_pkl)"
   ]
  },
  {
   "cell_type": "markdown",
   "metadata": {},
   "source": [
    "<span style=\"color: red;\">If we haven't created the local pickled version, proceed with the expected download process:</span>"
   ]
  },
  {
   "cell_type": "code",
   "execution_count": 11,
   "metadata": {},
   "outputs": [],
   "source": [
    "image_predictions_tsv_url = \"https://d17h27t6h515a5.cloudfront.net/topher/2017/August/599fd2ad_image-predictions/image-predictions.tsv\""
   ]
  },
  {
   "cell_type": "code",
   "execution_count": 12,
   "metadata": {},
   "outputs": [],
   "source": [
    "if image_predictions_df is None:\n",
    "    # First we read the first few lines of the file to determine the right way of ingesting it with pandas\n",
    "    with requests.get(image_predictions_tsv_url) as response:\n",
    "        response.raise_for_status()\n",
    "        \n",
    "        for line in islice(\n",
    "            filter(lambda l: bool(l), response.iter_lines(decode_unicode=True)),  # Filter out empty lines\n",
    "            5                                                                     # Take only the first 5 lines\n",
    "        ):\n",
    "            print(line)"
   ]
  },
  {
   "cell_type": "markdown",
   "metadata": {},
   "source": [
    "<span style=\"color: red;\">As we might have guessed by the file extension, this is a tab separated file with a header, which pandas can handle without any issues if the right ``sep`` value is used:</span>"
   ]
  },
  {
   "cell_type": "code",
   "execution_count": 13,
   "metadata": {},
   "outputs": [],
   "source": [
    "if image_predictions_df is None:\n",
    "    with requests.get(image_predictions_tsv_url) as response:\n",
    "        response.raise_for_status()\n",
    "        image_predictions_df = pd.read_csv(BytesIO(response.content), sep=\"\\t\")\n",
    "        image_predictions_df.to_pickle(image_predictions_df_pkl)"
   ]
  },
  {
   "cell_type": "markdown",
   "metadata": {},
   "source": [
    "<span style=\"color: red;\">Alternatively, we could have saved the file and then open it with pandas:</span>\n",
    "\n",
    "```python\n",
    "with requests.get(image_predictions_tsv_url) as response:\n",
    "    response.raise_for_status()\n",
    "    \n",
    "    with open(data_dir / \"image_predictions.tsv\", \"wb\") as f:\n",
    "        f.write(response.content)\n",
    "        \n",
    "    image_predictions_df = pd.read_csv(data_dir / \"image_predictions.tsv\", sep=\"\\t\")\n",
    "```\n",
    "\n",
    "<span style=\"color: red;\">Or even better, let pandas handle everything for us:</span>\n",
    "\n",
    "```python     \n",
    "image_predictions_df = pd.read_csv(image_predictions_tsv_url, sep=\"\\t\")\n",
    "```"
   ]
  },
  {
   "cell_type": "code",
   "execution_count": 14,
   "metadata": {},
   "outputs": [
    {
     "data": {
      "text/html": [
       "<div>\n",
       "<style scoped>\n",
       "    .dataframe tbody tr th:only-of-type {\n",
       "        vertical-align: middle;\n",
       "    }\n",
       "\n",
       "    .dataframe tbody tr th {\n",
       "        vertical-align: top;\n",
       "    }\n",
       "\n",
       "    .dataframe thead th {\n",
       "        text-align: right;\n",
       "    }\n",
       "</style>\n",
       "<table border=\"1\" class=\"dataframe\">\n",
       "  <thead>\n",
       "    <tr style=\"text-align: right;\">\n",
       "      <th></th>\n",
       "      <th>tweet_id</th>\n",
       "      <th>jpg_url</th>\n",
       "      <th>img_num</th>\n",
       "      <th>p1</th>\n",
       "      <th>p1_conf</th>\n",
       "      <th>p1_dog</th>\n",
       "      <th>p2</th>\n",
       "      <th>p2_conf</th>\n",
       "      <th>p2_dog</th>\n",
       "      <th>p3</th>\n",
       "      <th>p3_conf</th>\n",
       "      <th>p3_dog</th>\n",
       "    </tr>\n",
       "  </thead>\n",
       "  <tbody>\n",
       "    <tr>\n",
       "      <th>0</th>\n",
       "      <td>666020888022790149</td>\n",
       "      <td>https://pbs.twimg.com/media/CT4udn0WwAA0aMy.jpg</td>\n",
       "      <td>1</td>\n",
       "      <td>Welsh_springer_spaniel</td>\n",
       "      <td>0.465074</td>\n",
       "      <td>True</td>\n",
       "      <td>collie</td>\n",
       "      <td>0.156665</td>\n",
       "      <td>True</td>\n",
       "      <td>Shetland_sheepdog</td>\n",
       "      <td>0.061428</td>\n",
       "      <td>True</td>\n",
       "    </tr>\n",
       "    <tr>\n",
       "      <th>1</th>\n",
       "      <td>666029285002620928</td>\n",
       "      <td>https://pbs.twimg.com/media/CT42GRgUYAA5iDo.jpg</td>\n",
       "      <td>1</td>\n",
       "      <td>redbone</td>\n",
       "      <td>0.506826</td>\n",
       "      <td>True</td>\n",
       "      <td>miniature_pinscher</td>\n",
       "      <td>0.074192</td>\n",
       "      <td>True</td>\n",
       "      <td>Rhodesian_ridgeback</td>\n",
       "      <td>0.072010</td>\n",
       "      <td>True</td>\n",
       "    </tr>\n",
       "    <tr>\n",
       "      <th>2</th>\n",
       "      <td>666033412701032449</td>\n",
       "      <td>https://pbs.twimg.com/media/CT4521TWwAEvMyu.jpg</td>\n",
       "      <td>1</td>\n",
       "      <td>German_shepherd</td>\n",
       "      <td>0.596461</td>\n",
       "      <td>True</td>\n",
       "      <td>malinois</td>\n",
       "      <td>0.138584</td>\n",
       "      <td>True</td>\n",
       "      <td>bloodhound</td>\n",
       "      <td>0.116197</td>\n",
       "      <td>True</td>\n",
       "    </tr>\n",
       "    <tr>\n",
       "      <th>3</th>\n",
       "      <td>666044226329800704</td>\n",
       "      <td>https://pbs.twimg.com/media/CT5Dr8HUEAA-lEu.jpg</td>\n",
       "      <td>1</td>\n",
       "      <td>Rhodesian_ridgeback</td>\n",
       "      <td>0.408143</td>\n",
       "      <td>True</td>\n",
       "      <td>redbone</td>\n",
       "      <td>0.360687</td>\n",
       "      <td>True</td>\n",
       "      <td>miniature_pinscher</td>\n",
       "      <td>0.222752</td>\n",
       "      <td>True</td>\n",
       "    </tr>\n",
       "    <tr>\n",
       "      <th>4</th>\n",
       "      <td>666049248165822465</td>\n",
       "      <td>https://pbs.twimg.com/media/CT5IQmsXIAAKY4A.jpg</td>\n",
       "      <td>1</td>\n",
       "      <td>miniature_pinscher</td>\n",
       "      <td>0.560311</td>\n",
       "      <td>True</td>\n",
       "      <td>Rottweiler</td>\n",
       "      <td>0.243682</td>\n",
       "      <td>True</td>\n",
       "      <td>Doberman</td>\n",
       "      <td>0.154629</td>\n",
       "      <td>True</td>\n",
       "    </tr>\n",
       "  </tbody>\n",
       "</table>\n",
       "</div>"
      ],
      "text/plain": [
       "             tweet_id                                          jpg_url  \\\n",
       "0  666020888022790149  https://pbs.twimg.com/media/CT4udn0WwAA0aMy.jpg   \n",
       "1  666029285002620928  https://pbs.twimg.com/media/CT42GRgUYAA5iDo.jpg   \n",
       "2  666033412701032449  https://pbs.twimg.com/media/CT4521TWwAEvMyu.jpg   \n",
       "3  666044226329800704  https://pbs.twimg.com/media/CT5Dr8HUEAA-lEu.jpg   \n",
       "4  666049248165822465  https://pbs.twimg.com/media/CT5IQmsXIAAKY4A.jpg   \n",
       "\n",
       "   img_num                      p1   p1_conf  p1_dog                  p2  \\\n",
       "0        1  Welsh_springer_spaniel  0.465074    True              collie   \n",
       "1        1                 redbone  0.506826    True  miniature_pinscher   \n",
       "2        1         German_shepherd  0.596461    True            malinois   \n",
       "3        1     Rhodesian_ridgeback  0.408143    True             redbone   \n",
       "4        1      miniature_pinscher  0.560311    True          Rottweiler   \n",
       "\n",
       "    p2_conf  p2_dog                   p3   p3_conf  p3_dog  \n",
       "0  0.156665    True    Shetland_sheepdog  0.061428    True  \n",
       "1  0.074192    True  Rhodesian_ridgeback  0.072010    True  \n",
       "2  0.138584    True           bloodhound  0.116197    True  \n",
       "3  0.360687    True   miniature_pinscher  0.222752    True  \n",
       "4  0.243682    True             Doberman  0.154629    True  "
      ]
     },
     "execution_count": 14,
     "metadata": {},
     "output_type": "execute_result"
    }
   ],
   "source": [
    "image_predictions_df.head()"
   ]
  },
  {
   "cell_type": "markdown",
   "metadata": {},
   "source": [
    "3. Use the Tweepy library to query additional data via the Twitter API (tweet_json.txt)"
   ]
  },
  {
   "cell_type": "markdown",
   "metadata": {},
   "source": [
    "<span style=\"color: red;\">First we need to instantiate ``tweepy``'s ``API`` object. Notice that Twitter's credentials need to be set in ``config.ini``:</span>"
   ]
  },
  {
   "cell_type": "code",
   "execution_count": 15,
   "metadata": {},
   "outputs": [],
   "source": [
    "config = ConfigParser()\n",
    "config.read(\"config.ini\");"
   ]
  },
  {
   "cell_type": "code",
   "execution_count": 16,
   "metadata": {},
   "outputs": [],
   "source": [
    "assert \"twitter\" in config.sections()\n",
    "assert {'consumer_key', 'consumer_secret', 'access_token', 'access_token_secret'} == set(config[\"twitter\"].keys())\n",
    "assert bool(config[\"twitter\"][\"consumer_key\"])\n",
    "assert bool(config[\"twitter\"][\"consumer_secret\"])\n",
    "assert bool(config[\"twitter\"][\"access_token\"])\n",
    "assert bool(config[\"twitter\"][\"access_token_secret\"])"
   ]
  },
  {
   "cell_type": "code",
   "execution_count": 17,
   "metadata": {},
   "outputs": [],
   "source": [
    "auth = tweepy.OAuthHandler(\n",
    "    config[\"twitter\"][\"consumer_key\"],\n",
    "    config[\"twitter\"][\"consumer_secret\"],\n",
    "    access_token=config[\"twitter\"][\"access_token\"],\n",
    "    access_token_secret=config[\"twitter\"][\"access_token_secret\"]\n",
    ")\n",
    "api = tweepy.API(\n",
    "    auth,\n",
    "    wait_on_rate_limit=True\n",
    ")"
   ]
  },
  {
   "cell_type": "markdown",
   "metadata": {},
   "source": [
    "<span style=\"color: red;\">Given [Twitter's API rate limits](https://developer.twitter.com/en/docs/twitter-api/rate-limits), we need to compute the rate at which we can safely fetch the tweet info based on the total number of tweets. As of this writing, we can only fetch 900 tweets every 15 minutes, so I need to wait at least 1 second ((15 * 60) / 900) between each request. Given that the total number of unique tweets is:</span>"
   ]
  },
  {
   "cell_type": "code",
   "execution_count": 18,
   "metadata": {},
   "outputs": [
    {
     "name": "stdout",
     "output_type": "stream",
     "text": [
      "2356\n"
     ]
    }
   ],
   "source": [
    "total_no_tweets = twitter_archived_enhanced_df.tweet_id.nunique()\n",
    "print(total_no_tweets)"
   ]
  },
  {
   "cell_type": "markdown",
   "metadata": {},
   "source": [
    "<span style=\"color: red;\">It'll take us about 40 minutes to fetch the tweet information.</span>"
   ]
  },
  {
   "cell_type": "code",
   "execution_count": 19,
   "metadata": {},
   "outputs": [],
   "source": [
    "tweet_json_txt = data_dir / \"tweet_json.txt\""
   ]
  },
  {
   "cell_type": "code",
   "execution_count": 20,
   "metadata": {},
   "outputs": [],
   "source": [
    "errors = []  # We'll keep track of errors\n",
    "\n",
    "if not tweet_json_txt.exists():\n",
    "    with open(tweet_json_txt, \"w\") as f:\n",
    "        # We're iterating of unique tweet ids in case there are duplicates on twitter_archived_enhanced_df \n",
    "        for i, tweet_id in enumerate(twitter_archived_enhanced_df.tweet_id.unique(), start=1):\n",
    "            tweet = None\n",
    "            \n",
    "            try:\n",
    "                tweet = api.get_status(\n",
    "                    tweet_id,\n",
    "                    tweet_mode='extended'  # Requesting extended tweets as per https://docs.tweepy.org/en/stable/extended_tweets.html#extended-mode\n",
    "                )\n",
    "\n",
    "                #\n",
    "                # Print progress\n",
    "                #\n",
    "                clear_output(wait=True)\n",
    "                print(f\"{i}/{total_no_tweets}: {tweet_id}\")\n",
    "                \n",
    "                #\n",
    "                # Notice that we're using a JSONL (JSON lines) format. This makes it easier to monitor\n",
    "                # the progress as we can tail tweet_json.txt while we're fetching the info.\n",
    "                #\n",
    "                dump(tweet._json, f)\n",
    "                f.write(\"\\n\")\n",
    "            except Exception as e:\n",
    "                print(f\"Exception raised while fetching tweet status. tweet_id: {tweet_id}, e: {e}\")\n",
    "                errors.append((tweet_id, e, tweet))"
   ]
  },
  {
   "cell_type": "markdown",
   "metadata": {},
   "source": [
    "<span style=\"color: red;\">Let's check how many errors were encountered during the fetch process:</span>"
   ]
  },
  {
   "cell_type": "code",
   "execution_count": 21,
   "metadata": {},
   "outputs": [
    {
     "data": {
      "text/plain": [
       "0"
      ]
     },
     "execution_count": 21,
     "metadata": {},
     "output_type": "execute_result"
    }
   ],
   "source": [
    "len(errors)  # It might be 0 if we skipped fetching the tweet information"
   ]
  },
  {
   "cell_type": "markdown",
   "metadata": {},
   "source": [
    "<span style=\"color: red;\">Let's show the first few lines of ``tweet_json.txt`` to verify it was written correctly. We've used the JSONL (JSON lines) format they're easier to work with then streaming JSON data.</span>"
   ]
  },
  {
   "cell_type": "code",
   "execution_count": 22,
   "metadata": {},
   "outputs": [
    {
     "name": "stdout",
     "output_type": "stream",
     "text": [
      "{\"created_at\": \"Tue Aug 01 16:23:56 +0000 2017\", \"id\": 892420643555336193, \"id_str\": \"892420643555336193\", \"full_text\": \"This is Phineas. He's a mystical boy. Only ever appears in the hole of a donut. 13/10 https://t.co/MgUWQ76dJU\", \"truncated\": false, \"display_text_range\": [0, 85], \"entities\": {\"hashtags\": [], \"symbols\": [], \"user_mentions\": [], \"urls\": [], \"media\": [{\"id\": 892420639486877696, \"id_str\": \"892420639486877696\", \"indices\": [86, 109], \"media_url\": \"http://pbs.twimg.com/media/DGKD1-bXoAAIAUK.jpg\", \"media_url_https\": \"https://pbs.twimg.com/media/DGKD1-bXoAAIAUK.jpg\", \"url\": \"https://t.co/MgUWQ76dJU\", \"display_url\": \"pic.twitter.com/MgUWQ76dJU\", \"expanded_url\": \"https://twitter.com/dog_rates/status/892420643555336193/photo/1\", \"type\": \"photo\", \"sizes\": {\"thumb\": {\"w\": 150, \"h\": 150, \"resize\": \"crop\"}, \"medium\": {\"w\": 540, \"h\": 528, \"resize\": \"fit\"}, \"small\": {\"w\": 540, \"h\": 528, \"resize\": \"fit\"}, \"large\": {\"w\": 540, \"h\": 528, \"resize\": \"fit\"}}}]}, \"extended_entities\": {\"media\": [{\"id\": 892420639486877696, \"id_str\": \"892420639486877696\", \"indices\": [86, 109], \"media_url\": \"http://pbs.twimg.com/media/DGKD1-bXoAAIAUK.jpg\", \"media_url_https\": \"https://pbs.twimg.com/media/DGKD1-bXoAAIAUK.jpg\", \"url\": \"https://t.co/MgUWQ76dJU\", \"display_url\": \"pic.twitter.com/MgUWQ76dJU\", \"expanded_url\": \"https://twitter.com/dog_rates/status/892420643555336193/photo/1\", \"type\": \"photo\", \"sizes\": {\"thumb\": {\"w\": 150, \"h\": 150, \"resize\": \"crop\"}, \"medium\": {\"w\": 540, \"h\": 528, \"resize\": \"fit\"}, \"small\": {\"w\": 540, \"h\": 528, \"resize\": \"fit\"}, \"large\": {\"w\": 540, \"h\": 528, \"resize\": \"fit\"}}}]}, \"source\": \"<a href=\\\"http://twitter.com/download/iphone\\\" rel=\\\"nofollow\\\">Twitter for iPhone</a>\", \"in_reply_to_status_id\": null, \"in_reply_to_status_id_str\": null, \"in_reply_to_user_id\": null, \"in_reply_to_user_id_str\": null, \"in_reply_to_screen_name\": null, \"user\": {\"id\": 4196983835, \"id_str\": \"4196983835\", \"name\": \"WeRateDogs\\u00ae\", \"screen_name\": \"dog_rates\", \"location\": \"all our links \\u279c\", \"description\": \"Your Only Source For Professional Dog Ratings \\nInstagram and Facebook \\u279c WeRateDogs \\npartnerships@weratedogs.com | nonprofit: @15outof10 \\u2800\\u2800\\u2800\\u2800\\u2800\\u2800\\u2800\\u2800\\u2800\\u2800\\u2800\\u2800\", \"url\": \"https://t.co/YPc2XqmwyC\", \"entities\": {\"url\": {\"urls\": [{\"url\": \"https://t.co/YPc2XqmwyC\", \"expanded_url\": \"http://links.weratedogs.com\", \"display_url\": \"links.weratedogs.com\", \"indices\": [0, 23]}]}, \"description\": {\"urls\": []}}, \"protected\": false, \"followers_count\": 9339224, \"friends_count\": 21, \"listed_count\": 7566, \"created_at\": \"Sun Nov 15 21:41:29 +0000 2015\", \"favourites_count\": 147205, \"utc_offset\": null, \"time_zone\": null, \"geo_enabled\": true, \"verified\": true, \"statuses_count\": 16089, \"lang\": null, \"contributors_enabled\": false, \"is_translator\": false, \"is_translation_enabled\": false, \"profile_background_color\": \"000000\", \"profile_background_image_url\": \"http://abs.twimg.com/images/themes/theme1/bg.png\", \"profile_background_image_url_https\": \"https://abs.twimg.com/images/themes/theme1/bg.png\", \"profile_background_tile\": false, \"profile_image_url\": \"http://pbs.twimg.com/profile_images/1552995729014247425/TaJbIdmK_normal.jpg\", \"profile_image_url_https\": \"https://pbs.twimg.com/profile_images/1552995729014247425/TaJbIdmK_normal.jpg\", \"profile_banner_url\": \"https://pbs.twimg.com/profile_banners/4196983835/1617810473\", \"profile_link_color\": \"F5ABB5\", \"profile_sidebar_border_color\": \"000000\", \"profile_sidebar_fill_color\": \"000000\", \"profile_text_color\": \"000000\", \"profile_use_background_image\": false, \"has_extended_profile\": false, \"default_profile\": false, \"default_profile_image\": false, \"following\": true, \"follow_request_sent\": false, \"notifications\": false, \"translator_type\": \"none\", \"withheld_in_countries\": []}, \"geo\": null, \"coordinates\": null, \"place\": null, \"contributors\": null, \"is_quote_status\": false, \"retweet_count\": 6978, \"favorite_count\": 33722, \"favorited\": false, \"retweeted\": false, \"possibly_sensitive\": false, \"possibly_sensitive_appealable\": false, \"lang\": \"en\"}\n",
      "\n",
      "{\"created_at\": \"Tue Aug 01 00:17:27 +0000 2017\", \"id\": 892177421306343426, \"id_str\": \"892177421306343426\", \"full_text\": \"This is Tilly. She's just checking pup on you. Hopes you're doing ok. If not, she's available for pats, snugs, boops, the whole bit. 13/10 https://t.co/0Xxu71qeIV\", \"truncated\": false, \"display_text_range\": [0, 138], \"entities\": {\"hashtags\": [], \"symbols\": [], \"user_mentions\": [], \"urls\": [], \"media\": [{\"id\": 892177413194625024, \"id_str\": \"892177413194625024\", \"indices\": [139, 162], \"media_url\": \"http://pbs.twimg.com/media/DGGmoV4XsAAUL6n.jpg\", \"media_url_https\": \"https://pbs.twimg.com/media/DGGmoV4XsAAUL6n.jpg\", \"url\": \"https://t.co/0Xxu71qeIV\", \"display_url\": \"pic.twitter.com/0Xxu71qeIV\", \"expanded_url\": \"https://twitter.com/dog_rates/status/892177421306343426/photo/1\", \"type\": \"photo\", \"sizes\": {\"thumb\": {\"w\": 150, \"h\": 150, \"resize\": \"crop\"}, \"medium\": {\"w\": 1055, \"h\": 1200, \"resize\": \"fit\"}, \"small\": {\"w\": 598, \"h\": 680, \"resize\": \"fit\"}, \"large\": {\"w\": 1407, \"h\": 1600, \"resize\": \"fit\"}}}]}, \"extended_entities\": {\"media\": [{\"id\": 892177413194625024, \"id_str\": \"892177413194625024\", \"indices\": [139, 162], \"media_url\": \"http://pbs.twimg.com/media/DGGmoV4XsAAUL6n.jpg\", \"media_url_https\": \"https://pbs.twimg.com/media/DGGmoV4XsAAUL6n.jpg\", \"url\": \"https://t.co/0Xxu71qeIV\", \"display_url\": \"pic.twitter.com/0Xxu71qeIV\", \"expanded_url\": \"https://twitter.com/dog_rates/status/892177421306343426/photo/1\", \"type\": \"photo\", \"sizes\": {\"thumb\": {\"w\": 150, \"h\": 150, \"resize\": \"crop\"}, \"medium\": {\"w\": 1055, \"h\": 1200, \"resize\": \"fit\"}, \"small\": {\"w\": 598, \"h\": 680, \"resize\": \"fit\"}, \"large\": {\"w\": 1407, \"h\": 1600, \"resize\": \"fit\"}}}]}, \"source\": \"<a href=\\\"http://twitter.com/download/iphone\\\" rel=\\\"nofollow\\\">Twitter for iPhone</a>\", \"in_reply_to_status_id\": null, \"in_reply_to_status_id_str\": null, \"in_reply_to_user_id\": null, \"in_reply_to_user_id_str\": null, \"in_reply_to_screen_name\": null, \"user\": {\"id\": 4196983835, \"id_str\": \"4196983835\", \"name\": \"WeRateDogs\\u00ae\", \"screen_name\": \"dog_rates\", \"location\": \"all our links \\u279c\", \"description\": \"Your Only Source For Professional Dog Ratings \\nInstagram and Facebook \\u279c WeRateDogs \\npartnerships@weratedogs.com | nonprofit: @15outof10 \\u2800\\u2800\\u2800\\u2800\\u2800\\u2800\\u2800\\u2800\\u2800\\u2800\\u2800\\u2800\", \"url\": \"https://t.co/YPc2XqmwyC\", \"entities\": {\"url\": {\"urls\": [{\"url\": \"https://t.co/YPc2XqmwyC\", \"expanded_url\": \"http://links.weratedogs.com\", \"display_url\": \"links.weratedogs.com\", \"indices\": [0, 23]}]}, \"description\": {\"urls\": []}}, \"protected\": false, \"followers_count\": 9339224, \"friends_count\": 21, \"listed_count\": 7566, \"created_at\": \"Sun Nov 15 21:41:29 +0000 2015\", \"favourites_count\": 147205, \"utc_offset\": null, \"time_zone\": null, \"geo_enabled\": true, \"verified\": true, \"statuses_count\": 16089, \"lang\": null, \"contributors_enabled\": false, \"is_translator\": false, \"is_translation_enabled\": false, \"profile_background_color\": \"000000\", \"profile_background_image_url\": \"http://abs.twimg.com/images/themes/theme1/bg.png\", \"profile_background_image_url_https\": \"https://abs.twimg.com/images/themes/theme1/bg.png\", \"profile_background_tile\": false, \"profile_image_url\": \"http://pbs.twimg.com/profile_images/1552995729014247425/TaJbIdmK_normal.jpg\", \"profile_image_url_https\": \"https://pbs.twimg.com/profile_images/1552995729014247425/TaJbIdmK_normal.jpg\", \"profile_banner_url\": \"https://pbs.twimg.com/profile_banners/4196983835/1617810473\", \"profile_link_color\": \"F5ABB5\", \"profile_sidebar_border_color\": \"000000\", \"profile_sidebar_fill_color\": \"000000\", \"profile_text_color\": \"000000\", \"profile_use_background_image\": false, \"has_extended_profile\": false, \"default_profile\": false, \"default_profile_image\": false, \"following\": true, \"follow_request_sent\": false, \"notifications\": false, \"translator_type\": \"none\", \"withheld_in_countries\": []}, \"geo\": null, \"coordinates\": null, \"place\": null, \"contributors\": null, \"is_quote_status\": false, \"retweet_count\": 5279, \"favorite_count\": 29251, \"favorited\": false, \"retweeted\": false, \"possibly_sensitive\": false, \"possibly_sensitive_appealable\": false, \"lang\": \"en\"}\n",
      "\n",
      "{\"created_at\": \"Mon Jul 31 00:18:03 +0000 2017\", \"id\": 891815181378084864, \"id_str\": \"891815181378084864\", \"full_text\": \"This is Archie. He is a rare Norwegian Pouncing Corgo. Lives in the tall grass. You never know when one may strike. 12/10 https://t.co/wUnZnhtVJB\", \"truncated\": false, \"display_text_range\": [0, 121], \"entities\": {\"hashtags\": [], \"symbols\": [], \"user_mentions\": [], \"urls\": [], \"media\": [{\"id\": 891815175371796480, \"id_str\": \"891815175371796480\", \"indices\": [122, 145], \"media_url\": \"http://pbs.twimg.com/media/DGBdLU1WsAANxJ9.jpg\", \"media_url_https\": \"https://pbs.twimg.com/media/DGBdLU1WsAANxJ9.jpg\", \"url\": \"https://t.co/wUnZnhtVJB\", \"display_url\": \"pic.twitter.com/wUnZnhtVJB\", \"expanded_url\": \"https://twitter.com/dog_rates/status/891815181378084864/photo/1\", \"type\": \"photo\", \"sizes\": {\"thumb\": {\"w\": 150, \"h\": 150, \"resize\": \"crop\"}, \"small\": {\"w\": 510, \"h\": 680, \"resize\": \"fit\"}, \"medium\": {\"w\": 901, \"h\": 1200, \"resize\": \"fit\"}, \"large\": {\"w\": 1201, \"h\": 1600, \"resize\": \"fit\"}}}]}, \"extended_entities\": {\"media\": [{\"id\": 891815175371796480, \"id_str\": \"891815175371796480\", \"indices\": [122, 145], \"media_url\": \"http://pbs.twimg.com/media/DGBdLU1WsAANxJ9.jpg\", \"media_url_https\": \"https://pbs.twimg.com/media/DGBdLU1WsAANxJ9.jpg\", \"url\": \"https://t.co/wUnZnhtVJB\", \"display_url\": \"pic.twitter.com/wUnZnhtVJB\", \"expanded_url\": \"https://twitter.com/dog_rates/status/891815181378084864/photo/1\", \"type\": \"photo\", \"sizes\": {\"thumb\": {\"w\": 150, \"h\": 150, \"resize\": \"crop\"}, \"small\": {\"w\": 510, \"h\": 680, \"resize\": \"fit\"}, \"medium\": {\"w\": 901, \"h\": 1200, \"resize\": \"fit\"}, \"large\": {\"w\": 1201, \"h\": 1600, \"resize\": \"fit\"}}}]}, \"source\": \"<a href=\\\"http://twitter.com/download/iphone\\\" rel=\\\"nofollow\\\">Twitter for iPhone</a>\", \"in_reply_to_status_id\": null, \"in_reply_to_status_id_str\": null, \"in_reply_to_user_id\": null, \"in_reply_to_user_id_str\": null, \"in_reply_to_screen_name\": null, \"user\": {\"id\": 4196983835, \"id_str\": \"4196983835\", \"name\": \"WeRateDogs\\u00ae\", \"screen_name\": \"dog_rates\", \"location\": \"all our links \\u279c\", \"description\": \"Your Only Source For Professional Dog Ratings \\nInstagram and Facebook \\u279c WeRateDogs \\npartnerships@weratedogs.com | nonprofit: @15outof10 \\u2800\\u2800\\u2800\\u2800\\u2800\\u2800\\u2800\\u2800\\u2800\\u2800\\u2800\\u2800\", \"url\": \"https://t.co/YPc2XqmwyC\", \"entities\": {\"url\": {\"urls\": [{\"url\": \"https://t.co/YPc2XqmwyC\", \"expanded_url\": \"http://links.weratedogs.com\", \"display_url\": \"links.weratedogs.com\", \"indices\": [0, 23]}]}, \"description\": {\"urls\": []}}, \"protected\": false, \"followers_count\": 9339224, \"friends_count\": 21, \"listed_count\": 7566, \"created_at\": \"Sun Nov 15 21:41:29 +0000 2015\", \"favourites_count\": 147205, \"utc_offset\": null, \"time_zone\": null, \"geo_enabled\": true, \"verified\": true, \"statuses_count\": 16089, \"lang\": null, \"contributors_enabled\": false, \"is_translator\": false, \"is_translation_enabled\": false, \"profile_background_color\": \"000000\", \"profile_background_image_url\": \"http://abs.twimg.com/images/themes/theme1/bg.png\", \"profile_background_image_url_https\": \"https://abs.twimg.com/images/themes/theme1/bg.png\", \"profile_background_tile\": false, \"profile_image_url\": \"http://pbs.twimg.com/profile_images/1552995729014247425/TaJbIdmK_normal.jpg\", \"profile_image_url_https\": \"https://pbs.twimg.com/profile_images/1552995729014247425/TaJbIdmK_normal.jpg\", \"profile_banner_url\": \"https://pbs.twimg.com/profile_banners/4196983835/1617810473\", \"profile_link_color\": \"F5ABB5\", \"profile_sidebar_border_color\": \"000000\", \"profile_sidebar_fill_color\": \"000000\", \"profile_text_color\": \"000000\", \"profile_use_background_image\": false, \"has_extended_profile\": false, \"default_profile\": false, \"default_profile_image\": false, \"following\": true, \"follow_request_sent\": false, \"notifications\": false, \"translator_type\": \"none\", \"withheld_in_countries\": []}, \"geo\": null, \"coordinates\": null, \"place\": null, \"contributors\": null, \"is_quote_status\": false, \"retweet_count\": 3465, \"favorite_count\": 21985, \"favorited\": false, \"retweeted\": false, \"possibly_sensitive\": false, \"possibly_sensitive_appealable\": false, \"lang\": \"en\"}\n",
      "\n",
      "{\"created_at\": \"Sun Jul 30 15:58:51 +0000 2017\", \"id\": 891689557279858688, \"id_str\": \"891689557279858688\", \"full_text\": \"This is Darla. She commenced a snooze mid meal. 13/10 happens to the best of us https://t.co/tD36da7qLQ\", \"truncated\": false, \"display_text_range\": [0, 79], \"entities\": {\"hashtags\": [], \"symbols\": [], \"user_mentions\": [], \"urls\": [], \"media\": [{\"id\": 891689552724799489, \"id_str\": \"891689552724799489\", \"indices\": [80, 103], \"media_url\": \"http://pbs.twimg.com/media/DF_q7IAWsAEuuN8.jpg\", \"media_url_https\": \"https://pbs.twimg.com/media/DF_q7IAWsAEuuN8.jpg\", \"url\": \"https://t.co/tD36da7qLQ\", \"display_url\": \"pic.twitter.com/tD36da7qLQ\", \"expanded_url\": \"https://twitter.com/dog_rates/status/891689557279858688/photo/1\", \"type\": \"photo\", \"sizes\": {\"thumb\": {\"w\": 150, \"h\": 150, \"resize\": \"crop\"}, \"small\": {\"w\": 510, \"h\": 680, \"resize\": \"fit\"}, \"medium\": {\"w\": 901, \"h\": 1200, \"resize\": \"fit\"}, \"large\": {\"w\": 1201, \"h\": 1600, \"resize\": \"fit\"}}}]}, \"extended_entities\": {\"media\": [{\"id\": 891689552724799489, \"id_str\": \"891689552724799489\", \"indices\": [80, 103], \"media_url\": \"http://pbs.twimg.com/media/DF_q7IAWsAEuuN8.jpg\", \"media_url_https\": \"https://pbs.twimg.com/media/DF_q7IAWsAEuuN8.jpg\", \"url\": \"https://t.co/tD36da7qLQ\", \"display_url\": \"pic.twitter.com/tD36da7qLQ\", \"expanded_url\": \"https://twitter.com/dog_rates/status/891689557279858688/photo/1\", \"type\": \"photo\", \"sizes\": {\"thumb\": {\"w\": 150, \"h\": 150, \"resize\": \"crop\"}, \"small\": {\"w\": 510, \"h\": 680, \"resize\": \"fit\"}, \"medium\": {\"w\": 901, \"h\": 1200, \"resize\": \"fit\"}, \"large\": {\"w\": 1201, \"h\": 1600, \"resize\": \"fit\"}}}]}, \"source\": \"<a href=\\\"http://twitter.com/download/iphone\\\" rel=\\\"nofollow\\\">Twitter for iPhone</a>\", \"in_reply_to_status_id\": null, \"in_reply_to_status_id_str\": null, \"in_reply_to_user_id\": null, \"in_reply_to_user_id_str\": null, \"in_reply_to_screen_name\": null, \"user\": {\"id\": 4196983835, \"id_str\": \"4196983835\", \"name\": \"WeRateDogs\\u00ae\", \"screen_name\": \"dog_rates\", \"location\": \"all our links \\u279c\", \"description\": \"Your Only Source For Professional Dog Ratings \\nInstagram and Facebook \\u279c WeRateDogs \\npartnerships@weratedogs.com | nonprofit: @15outof10 \\u2800\\u2800\\u2800\\u2800\\u2800\\u2800\\u2800\\u2800\\u2800\\u2800\\u2800\\u2800\", \"url\": \"https://t.co/YPc2XqmwyC\", \"entities\": {\"url\": {\"urls\": [{\"url\": \"https://t.co/YPc2XqmwyC\", \"expanded_url\": \"http://links.weratedogs.com\", \"display_url\": \"links.weratedogs.com\", \"indices\": [0, 23]}]}, \"description\": {\"urls\": []}}, \"protected\": false, \"followers_count\": 9339224, \"friends_count\": 21, \"listed_count\": 7566, \"created_at\": \"Sun Nov 15 21:41:29 +0000 2015\", \"favourites_count\": 147205, \"utc_offset\": null, \"time_zone\": null, \"geo_enabled\": true, \"verified\": true, \"statuses_count\": 16089, \"lang\": null, \"contributors_enabled\": false, \"is_translator\": false, \"is_translation_enabled\": false, \"profile_background_color\": \"000000\", \"profile_background_image_url\": \"http://abs.twimg.com/images/themes/theme1/bg.png\", \"profile_background_image_url_https\": \"https://abs.twimg.com/images/themes/theme1/bg.png\", \"profile_background_tile\": false, \"profile_image_url\": \"http://pbs.twimg.com/profile_images/1552995729014247425/TaJbIdmK_normal.jpg\", \"profile_image_url_https\": \"https://pbs.twimg.com/profile_images/1552995729014247425/TaJbIdmK_normal.jpg\", \"profile_banner_url\": \"https://pbs.twimg.com/profile_banners/4196983835/1617810473\", \"profile_link_color\": \"F5ABB5\", \"profile_sidebar_border_color\": \"000000\", \"profile_sidebar_fill_color\": \"000000\", \"profile_text_color\": \"000000\", \"profile_use_background_image\": false, \"has_extended_profile\": false, \"default_profile\": false, \"default_profile_image\": false, \"following\": true, \"follow_request_sent\": false, \"notifications\": false, \"translator_type\": \"none\", \"withheld_in_countries\": []}, \"geo\": null, \"coordinates\": null, \"place\": null, \"contributors\": null, \"is_quote_status\": false, \"retweet_count\": 7198, \"favorite_count\": 36817, \"favorited\": false, \"retweeted\": false, \"possibly_sensitive\": false, \"possibly_sensitive_appealable\": false, \"lang\": \"en\"}\n",
      "\n",
      "{\"created_at\": \"Sat Jul 29 16:00:24 +0000 2017\", \"id\": 891327558926688256, \"id_str\": \"891327558926688256\", \"full_text\": \"This is Franklin. He would like you to stop calling him \\\"cute.\\\" He is a very fierce shark and should be respected as such. 12/10 #BarkWeek https://t.co/AtUZn91f7f\", \"truncated\": false, \"display_text_range\": [0, 138], \"entities\": {\"hashtags\": [{\"text\": \"BarkWeek\", \"indices\": [129, 138]}], \"symbols\": [], \"user_mentions\": [], \"urls\": [], \"media\": [{\"id\": 891327551943041024, \"id_str\": \"891327551943041024\", \"indices\": [139, 162], \"media_url\": \"http://pbs.twimg.com/media/DF6hr6AVYAAZ8G8.jpg\", \"media_url_https\": \"https://pbs.twimg.com/media/DF6hr6AVYAAZ8G8.jpg\", \"url\": \"https://t.co/AtUZn91f7f\", \"display_url\": \"pic.twitter.com/AtUZn91f7f\", \"expanded_url\": \"https://twitter.com/dog_rates/status/891327558926688256/photo/1\", \"type\": \"photo\", \"sizes\": {\"medium\": {\"w\": 720, \"h\": 540, \"resize\": \"fit\"}, \"large\": {\"w\": 720, \"h\": 540, \"resize\": \"fit\"}, \"thumb\": {\"w\": 150, \"h\": 150, \"resize\": \"crop\"}, \"small\": {\"w\": 680, \"h\": 510, \"resize\": \"fit\"}}}]}, \"extended_entities\": {\"media\": [{\"id\": 891327551943041024, \"id_str\": \"891327551943041024\", \"indices\": [139, 162], \"media_url\": \"http://pbs.twimg.com/media/DF6hr6AVYAAZ8G8.jpg\", \"media_url_https\": \"https://pbs.twimg.com/media/DF6hr6AVYAAZ8G8.jpg\", \"url\": \"https://t.co/AtUZn91f7f\", \"display_url\": \"pic.twitter.com/AtUZn91f7f\", \"expanded_url\": \"https://twitter.com/dog_rates/status/891327558926688256/photo/1\", \"type\": \"photo\", \"sizes\": {\"medium\": {\"w\": 720, \"h\": 540, \"resize\": \"fit\"}, \"large\": {\"w\": 720, \"h\": 540, \"resize\": \"fit\"}, \"thumb\": {\"w\": 150, \"h\": 150, \"resize\": \"crop\"}, \"small\": {\"w\": 680, \"h\": 510, \"resize\": \"fit\"}}}, {\"id\": 891327551947157504, \"id_str\": \"891327551947157504\", \"indices\": [139, 162], \"media_url\": \"http://pbs.twimg.com/media/DF6hr6BUMAAzZgT.jpg\", \"media_url_https\": \"https://pbs.twimg.com/media/DF6hr6BUMAAzZgT.jpg\", \"url\": \"https://t.co/AtUZn91f7f\", \"display_url\": \"pic.twitter.com/AtUZn91f7f\", \"expanded_url\": \"https://twitter.com/dog_rates/status/891327558926688256/photo/1\", \"type\": \"photo\", \"sizes\": {\"medium\": {\"w\": 720, \"h\": 540, \"resize\": \"fit\"}, \"large\": {\"w\": 720, \"h\": 540, \"resize\": \"fit\"}, \"thumb\": {\"w\": 150, \"h\": 150, \"resize\": \"crop\"}, \"small\": {\"w\": 680, \"h\": 510, \"resize\": \"fit\"}}}]}, \"source\": \"<a href=\\\"http://twitter.com/download/iphone\\\" rel=\\\"nofollow\\\">Twitter for iPhone</a>\", \"in_reply_to_status_id\": null, \"in_reply_to_status_id_str\": null, \"in_reply_to_user_id\": null, \"in_reply_to_user_id_str\": null, \"in_reply_to_screen_name\": null, \"user\": {\"id\": 4196983835, \"id_str\": \"4196983835\", \"name\": \"WeRateDogs\\u00ae\", \"screen_name\": \"dog_rates\", \"location\": \"all our links \\u279c\", \"description\": \"Your Only Source For Professional Dog Ratings \\nInstagram and Facebook \\u279c WeRateDogs \\npartnerships@weratedogs.com | nonprofit: @15outof10 \\u2800\\u2800\\u2800\\u2800\\u2800\\u2800\\u2800\\u2800\\u2800\\u2800\\u2800\\u2800\", \"url\": \"https://t.co/YPc2XqmwyC\", \"entities\": {\"url\": {\"urls\": [{\"url\": \"https://t.co/YPc2XqmwyC\", \"expanded_url\": \"http://links.weratedogs.com\", \"display_url\": \"links.weratedogs.com\", \"indices\": [0, 23]}]}, \"description\": {\"urls\": []}}, \"protected\": false, \"followers_count\": 9339224, \"friends_count\": 21, \"listed_count\": 7566, \"created_at\": \"Sun Nov 15 21:41:29 +0000 2015\", \"favourites_count\": 147205, \"utc_offset\": null, \"time_zone\": null, \"geo_enabled\": true, \"verified\": true, \"statuses_count\": 16089, \"lang\": null, \"contributors_enabled\": false, \"is_translator\": false, \"is_translation_enabled\": false, \"profile_background_color\": \"000000\", \"profile_background_image_url\": \"http://abs.twimg.com/images/themes/theme1/bg.png\", \"profile_background_image_url_https\": \"https://abs.twimg.com/images/themes/theme1/bg.png\", \"profile_background_tile\": false, \"profile_image_url\": \"http://pbs.twimg.com/profile_images/1552995729014247425/TaJbIdmK_normal.jpg\", \"profile_image_url_https\": \"https://pbs.twimg.com/profile_images/1552995729014247425/TaJbIdmK_normal.jpg\", \"profile_banner_url\": \"https://pbs.twimg.com/profile_banners/4196983835/1617810473\", \"profile_link_color\": \"F5ABB5\", \"profile_sidebar_border_color\": \"000000\", \"profile_sidebar_fill_color\": \"000000\", \"profile_text_color\": \"000000\", \"profile_use_background_image\": false, \"has_extended_profile\": false, \"default_profile\": false, \"default_profile_image\": false, \"following\": true, \"follow_request_sent\": false, \"notifications\": false, \"translator_type\": \"none\", \"withheld_in_countries\": []}, \"geo\": null, \"coordinates\": null, \"place\": null, \"contributors\": null, \"is_quote_status\": false, \"retweet_count\": 7722, \"favorite_count\": 35202, \"favorited\": false, \"retweeted\": false, \"possibly_sensitive\": false, \"possibly_sensitive_appealable\": false, \"lang\": \"en\"}\n",
      "\n"
     ]
    }
   ],
   "source": [
    "with open(tweet_json_txt, \"r\") as f:\n",
    "    for line in islice(f, 5):  # Take only the first 5 lines\n",
    "        print(line)"
   ]
  },
  {
   "cell_type": "markdown",
   "metadata": {},
   "source": [
    "<span style=\"color: red;\">The first few lines are ok. Let's load all of the lines onto a list.</span>"
   ]
  },
  {
   "cell_type": "code",
   "execution_count": 23,
   "metadata": {},
   "outputs": [
    {
     "data": {
      "text/plain": [
       "[{'created_at': 'Tue Aug 01 16:23:56 +0000 2017',\n",
       "  'id': 892420643555336193,\n",
       "  'id_str': '892420643555336193',\n",
       "  'full_text': \"This is Phineas. He's a mystical boy. Only ever appears in the hole of a donut. 13/10 https://t.co/MgUWQ76dJU\",\n",
       "  'truncated': False,\n",
       "  'display_text_range': [0, 85],\n",
       "  'entities': {'hashtags': [],\n",
       "   'symbols': [],\n",
       "   'user_mentions': [],\n",
       "   'urls': [],\n",
       "   'media': [{'id': 892420639486877696,\n",
       "     'id_str': '892420639486877696',\n",
       "     'indices': [86, 109],\n",
       "     'media_url': 'http://pbs.twimg.com/media/DGKD1-bXoAAIAUK.jpg',\n",
       "     'media_url_https': 'https://pbs.twimg.com/media/DGKD1-bXoAAIAUK.jpg',\n",
       "     'url': 'https://t.co/MgUWQ76dJU',\n",
       "     'display_url': 'pic.twitter.com/MgUWQ76dJU',\n",
       "     'expanded_url': 'https://twitter.com/dog_rates/status/892420643555336193/photo/1',\n",
       "     'type': 'photo',\n",
       "     'sizes': {'thumb': {'w': 150, 'h': 150, 'resize': 'crop'},\n",
       "      'medium': {'w': 540, 'h': 528, 'resize': 'fit'},\n",
       "      'small': {'w': 540, 'h': 528, 'resize': 'fit'},\n",
       "      'large': {'w': 540, 'h': 528, 'resize': 'fit'}}}]},\n",
       "  'extended_entities': {'media': [{'id': 892420639486877696,\n",
       "     'id_str': '892420639486877696',\n",
       "     'indices': [86, 109],\n",
       "     'media_url': 'http://pbs.twimg.com/media/DGKD1-bXoAAIAUK.jpg',\n",
       "     'media_url_https': 'https://pbs.twimg.com/media/DGKD1-bXoAAIAUK.jpg',\n",
       "     'url': 'https://t.co/MgUWQ76dJU',\n",
       "     'display_url': 'pic.twitter.com/MgUWQ76dJU',\n",
       "     'expanded_url': 'https://twitter.com/dog_rates/status/892420643555336193/photo/1',\n",
       "     'type': 'photo',\n",
       "     'sizes': {'thumb': {'w': 150, 'h': 150, 'resize': 'crop'},\n",
       "      'medium': {'w': 540, 'h': 528, 'resize': 'fit'},\n",
       "      'small': {'w': 540, 'h': 528, 'resize': 'fit'},\n",
       "      'large': {'w': 540, 'h': 528, 'resize': 'fit'}}}]},\n",
       "  'source': '<a href=\"http://twitter.com/download/iphone\" rel=\"nofollow\">Twitter for iPhone</a>',\n",
       "  'in_reply_to_status_id': None,\n",
       "  'in_reply_to_status_id_str': None,\n",
       "  'in_reply_to_user_id': None,\n",
       "  'in_reply_to_user_id_str': None,\n",
       "  'in_reply_to_screen_name': None,\n",
       "  'user': {'id': 4196983835,\n",
       "   'id_str': '4196983835',\n",
       "   'name': 'WeRateDogs®',\n",
       "   'screen_name': 'dog_rates',\n",
       "   'location': 'all our links ➜',\n",
       "   'description': 'Your Only Source For Professional Dog Ratings \\nInstagram and Facebook ➜ WeRateDogs \\npartnerships@weratedogs.com | nonprofit: @15outof10 ⠀⠀⠀⠀⠀⠀⠀⠀⠀⠀⠀⠀',\n",
       "   'url': 'https://t.co/YPc2XqmwyC',\n",
       "   'entities': {'url': {'urls': [{'url': 'https://t.co/YPc2XqmwyC',\n",
       "       'expanded_url': 'http://links.weratedogs.com',\n",
       "       'display_url': 'links.weratedogs.com',\n",
       "       'indices': [0, 23]}]},\n",
       "    'description': {'urls': []}},\n",
       "   'protected': False,\n",
       "   'followers_count': 9339224,\n",
       "   'friends_count': 21,\n",
       "   'listed_count': 7566,\n",
       "   'created_at': 'Sun Nov 15 21:41:29 +0000 2015',\n",
       "   'favourites_count': 147205,\n",
       "   'utc_offset': None,\n",
       "   'time_zone': None,\n",
       "   'geo_enabled': True,\n",
       "   'verified': True,\n",
       "   'statuses_count': 16089,\n",
       "   'lang': None,\n",
       "   'contributors_enabled': False,\n",
       "   'is_translator': False,\n",
       "   'is_translation_enabled': False,\n",
       "   'profile_background_color': '000000',\n",
       "   'profile_background_image_url': 'http://abs.twimg.com/images/themes/theme1/bg.png',\n",
       "   'profile_background_image_url_https': 'https://abs.twimg.com/images/themes/theme1/bg.png',\n",
       "   'profile_background_tile': False,\n",
       "   'profile_image_url': 'http://pbs.twimg.com/profile_images/1552995729014247425/TaJbIdmK_normal.jpg',\n",
       "   'profile_image_url_https': 'https://pbs.twimg.com/profile_images/1552995729014247425/TaJbIdmK_normal.jpg',\n",
       "   'profile_banner_url': 'https://pbs.twimg.com/profile_banners/4196983835/1617810473',\n",
       "   'profile_link_color': 'F5ABB5',\n",
       "   'profile_sidebar_border_color': '000000',\n",
       "   'profile_sidebar_fill_color': '000000',\n",
       "   'profile_text_color': '000000',\n",
       "   'profile_use_background_image': False,\n",
       "   'has_extended_profile': False,\n",
       "   'default_profile': False,\n",
       "   'default_profile_image': False,\n",
       "   'following': True,\n",
       "   'follow_request_sent': False,\n",
       "   'notifications': False,\n",
       "   'translator_type': 'none',\n",
       "   'withheld_in_countries': []},\n",
       "  'geo': None,\n",
       "  'coordinates': None,\n",
       "  'place': None,\n",
       "  'contributors': None,\n",
       "  'is_quote_status': False,\n",
       "  'retweet_count': 6978,\n",
       "  'favorite_count': 33722,\n",
       "  'favorited': False,\n",
       "  'retweeted': False,\n",
       "  'possibly_sensitive': False,\n",
       "  'possibly_sensitive_appealable': False,\n",
       "  'lang': 'en'},\n",
       " {'created_at': 'Tue Aug 01 00:17:27 +0000 2017',\n",
       "  'id': 892177421306343426,\n",
       "  'id_str': '892177421306343426',\n",
       "  'full_text': \"This is Tilly. She's just checking pup on you. Hopes you're doing ok. If not, she's available for pats, snugs, boops, the whole bit. 13/10 https://t.co/0Xxu71qeIV\",\n",
       "  'truncated': False,\n",
       "  'display_text_range': [0, 138],\n",
       "  'entities': {'hashtags': [],\n",
       "   'symbols': [],\n",
       "   'user_mentions': [],\n",
       "   'urls': [],\n",
       "   'media': [{'id': 892177413194625024,\n",
       "     'id_str': '892177413194625024',\n",
       "     'indices': [139, 162],\n",
       "     'media_url': 'http://pbs.twimg.com/media/DGGmoV4XsAAUL6n.jpg',\n",
       "     'media_url_https': 'https://pbs.twimg.com/media/DGGmoV4XsAAUL6n.jpg',\n",
       "     'url': 'https://t.co/0Xxu71qeIV',\n",
       "     'display_url': 'pic.twitter.com/0Xxu71qeIV',\n",
       "     'expanded_url': 'https://twitter.com/dog_rates/status/892177421306343426/photo/1',\n",
       "     'type': 'photo',\n",
       "     'sizes': {'thumb': {'w': 150, 'h': 150, 'resize': 'crop'},\n",
       "      'medium': {'w': 1055, 'h': 1200, 'resize': 'fit'},\n",
       "      'small': {'w': 598, 'h': 680, 'resize': 'fit'},\n",
       "      'large': {'w': 1407, 'h': 1600, 'resize': 'fit'}}}]},\n",
       "  'extended_entities': {'media': [{'id': 892177413194625024,\n",
       "     'id_str': '892177413194625024',\n",
       "     'indices': [139, 162],\n",
       "     'media_url': 'http://pbs.twimg.com/media/DGGmoV4XsAAUL6n.jpg',\n",
       "     'media_url_https': 'https://pbs.twimg.com/media/DGGmoV4XsAAUL6n.jpg',\n",
       "     'url': 'https://t.co/0Xxu71qeIV',\n",
       "     'display_url': 'pic.twitter.com/0Xxu71qeIV',\n",
       "     'expanded_url': 'https://twitter.com/dog_rates/status/892177421306343426/photo/1',\n",
       "     'type': 'photo',\n",
       "     'sizes': {'thumb': {'w': 150, 'h': 150, 'resize': 'crop'},\n",
       "      'medium': {'w': 1055, 'h': 1200, 'resize': 'fit'},\n",
       "      'small': {'w': 598, 'h': 680, 'resize': 'fit'},\n",
       "      'large': {'w': 1407, 'h': 1600, 'resize': 'fit'}}}]},\n",
       "  'source': '<a href=\"http://twitter.com/download/iphone\" rel=\"nofollow\">Twitter for iPhone</a>',\n",
       "  'in_reply_to_status_id': None,\n",
       "  'in_reply_to_status_id_str': None,\n",
       "  'in_reply_to_user_id': None,\n",
       "  'in_reply_to_user_id_str': None,\n",
       "  'in_reply_to_screen_name': None,\n",
       "  'user': {'id': 4196983835,\n",
       "   'id_str': '4196983835',\n",
       "   'name': 'WeRateDogs®',\n",
       "   'screen_name': 'dog_rates',\n",
       "   'location': 'all our links ➜',\n",
       "   'description': 'Your Only Source For Professional Dog Ratings \\nInstagram and Facebook ➜ WeRateDogs \\npartnerships@weratedogs.com | nonprofit: @15outof10 ⠀⠀⠀⠀⠀⠀⠀⠀⠀⠀⠀⠀',\n",
       "   'url': 'https://t.co/YPc2XqmwyC',\n",
       "   'entities': {'url': {'urls': [{'url': 'https://t.co/YPc2XqmwyC',\n",
       "       'expanded_url': 'http://links.weratedogs.com',\n",
       "       'display_url': 'links.weratedogs.com',\n",
       "       'indices': [0, 23]}]},\n",
       "    'description': {'urls': []}},\n",
       "   'protected': False,\n",
       "   'followers_count': 9339224,\n",
       "   'friends_count': 21,\n",
       "   'listed_count': 7566,\n",
       "   'created_at': 'Sun Nov 15 21:41:29 +0000 2015',\n",
       "   'favourites_count': 147205,\n",
       "   'utc_offset': None,\n",
       "   'time_zone': None,\n",
       "   'geo_enabled': True,\n",
       "   'verified': True,\n",
       "   'statuses_count': 16089,\n",
       "   'lang': None,\n",
       "   'contributors_enabled': False,\n",
       "   'is_translator': False,\n",
       "   'is_translation_enabled': False,\n",
       "   'profile_background_color': '000000',\n",
       "   'profile_background_image_url': 'http://abs.twimg.com/images/themes/theme1/bg.png',\n",
       "   'profile_background_image_url_https': 'https://abs.twimg.com/images/themes/theme1/bg.png',\n",
       "   'profile_background_tile': False,\n",
       "   'profile_image_url': 'http://pbs.twimg.com/profile_images/1552995729014247425/TaJbIdmK_normal.jpg',\n",
       "   'profile_image_url_https': 'https://pbs.twimg.com/profile_images/1552995729014247425/TaJbIdmK_normal.jpg',\n",
       "   'profile_banner_url': 'https://pbs.twimg.com/profile_banners/4196983835/1617810473',\n",
       "   'profile_link_color': 'F5ABB5',\n",
       "   'profile_sidebar_border_color': '000000',\n",
       "   'profile_sidebar_fill_color': '000000',\n",
       "   'profile_text_color': '000000',\n",
       "   'profile_use_background_image': False,\n",
       "   'has_extended_profile': False,\n",
       "   'default_profile': False,\n",
       "   'default_profile_image': False,\n",
       "   'following': True,\n",
       "   'follow_request_sent': False,\n",
       "   'notifications': False,\n",
       "   'translator_type': 'none',\n",
       "   'withheld_in_countries': []},\n",
       "  'geo': None,\n",
       "  'coordinates': None,\n",
       "  'place': None,\n",
       "  'contributors': None,\n",
       "  'is_quote_status': False,\n",
       "  'retweet_count': 5279,\n",
       "  'favorite_count': 29251,\n",
       "  'favorited': False,\n",
       "  'retweeted': False,\n",
       "  'possibly_sensitive': False,\n",
       "  'possibly_sensitive_appealable': False,\n",
       "  'lang': 'en'},\n",
       " {'created_at': 'Mon Jul 31 00:18:03 +0000 2017',\n",
       "  'id': 891815181378084864,\n",
       "  'id_str': '891815181378084864',\n",
       "  'full_text': 'This is Archie. He is a rare Norwegian Pouncing Corgo. Lives in the tall grass. You never know when one may strike. 12/10 https://t.co/wUnZnhtVJB',\n",
       "  'truncated': False,\n",
       "  'display_text_range': [0, 121],\n",
       "  'entities': {'hashtags': [],\n",
       "   'symbols': [],\n",
       "   'user_mentions': [],\n",
       "   'urls': [],\n",
       "   'media': [{'id': 891815175371796480,\n",
       "     'id_str': '891815175371796480',\n",
       "     'indices': [122, 145],\n",
       "     'media_url': 'http://pbs.twimg.com/media/DGBdLU1WsAANxJ9.jpg',\n",
       "     'media_url_https': 'https://pbs.twimg.com/media/DGBdLU1WsAANxJ9.jpg',\n",
       "     'url': 'https://t.co/wUnZnhtVJB',\n",
       "     'display_url': 'pic.twitter.com/wUnZnhtVJB',\n",
       "     'expanded_url': 'https://twitter.com/dog_rates/status/891815181378084864/photo/1',\n",
       "     'type': 'photo',\n",
       "     'sizes': {'thumb': {'w': 150, 'h': 150, 'resize': 'crop'},\n",
       "      'small': {'w': 510, 'h': 680, 'resize': 'fit'},\n",
       "      'medium': {'w': 901, 'h': 1200, 'resize': 'fit'},\n",
       "      'large': {'w': 1201, 'h': 1600, 'resize': 'fit'}}}]},\n",
       "  'extended_entities': {'media': [{'id': 891815175371796480,\n",
       "     'id_str': '891815175371796480',\n",
       "     'indices': [122, 145],\n",
       "     'media_url': 'http://pbs.twimg.com/media/DGBdLU1WsAANxJ9.jpg',\n",
       "     'media_url_https': 'https://pbs.twimg.com/media/DGBdLU1WsAANxJ9.jpg',\n",
       "     'url': 'https://t.co/wUnZnhtVJB',\n",
       "     'display_url': 'pic.twitter.com/wUnZnhtVJB',\n",
       "     'expanded_url': 'https://twitter.com/dog_rates/status/891815181378084864/photo/1',\n",
       "     'type': 'photo',\n",
       "     'sizes': {'thumb': {'w': 150, 'h': 150, 'resize': 'crop'},\n",
       "      'small': {'w': 510, 'h': 680, 'resize': 'fit'},\n",
       "      'medium': {'w': 901, 'h': 1200, 'resize': 'fit'},\n",
       "      'large': {'w': 1201, 'h': 1600, 'resize': 'fit'}}}]},\n",
       "  'source': '<a href=\"http://twitter.com/download/iphone\" rel=\"nofollow\">Twitter for iPhone</a>',\n",
       "  'in_reply_to_status_id': None,\n",
       "  'in_reply_to_status_id_str': None,\n",
       "  'in_reply_to_user_id': None,\n",
       "  'in_reply_to_user_id_str': None,\n",
       "  'in_reply_to_screen_name': None,\n",
       "  'user': {'id': 4196983835,\n",
       "   'id_str': '4196983835',\n",
       "   'name': 'WeRateDogs®',\n",
       "   'screen_name': 'dog_rates',\n",
       "   'location': 'all our links ➜',\n",
       "   'description': 'Your Only Source For Professional Dog Ratings \\nInstagram and Facebook ➜ WeRateDogs \\npartnerships@weratedogs.com | nonprofit: @15outof10 ⠀⠀⠀⠀⠀⠀⠀⠀⠀⠀⠀⠀',\n",
       "   'url': 'https://t.co/YPc2XqmwyC',\n",
       "   'entities': {'url': {'urls': [{'url': 'https://t.co/YPc2XqmwyC',\n",
       "       'expanded_url': 'http://links.weratedogs.com',\n",
       "       'display_url': 'links.weratedogs.com',\n",
       "       'indices': [0, 23]}]},\n",
       "    'description': {'urls': []}},\n",
       "   'protected': False,\n",
       "   'followers_count': 9339224,\n",
       "   'friends_count': 21,\n",
       "   'listed_count': 7566,\n",
       "   'created_at': 'Sun Nov 15 21:41:29 +0000 2015',\n",
       "   'favourites_count': 147205,\n",
       "   'utc_offset': None,\n",
       "   'time_zone': None,\n",
       "   'geo_enabled': True,\n",
       "   'verified': True,\n",
       "   'statuses_count': 16089,\n",
       "   'lang': None,\n",
       "   'contributors_enabled': False,\n",
       "   'is_translator': False,\n",
       "   'is_translation_enabled': False,\n",
       "   'profile_background_color': '000000',\n",
       "   'profile_background_image_url': 'http://abs.twimg.com/images/themes/theme1/bg.png',\n",
       "   'profile_background_image_url_https': 'https://abs.twimg.com/images/themes/theme1/bg.png',\n",
       "   'profile_background_tile': False,\n",
       "   'profile_image_url': 'http://pbs.twimg.com/profile_images/1552995729014247425/TaJbIdmK_normal.jpg',\n",
       "   'profile_image_url_https': 'https://pbs.twimg.com/profile_images/1552995729014247425/TaJbIdmK_normal.jpg',\n",
       "   'profile_banner_url': 'https://pbs.twimg.com/profile_banners/4196983835/1617810473',\n",
       "   'profile_link_color': 'F5ABB5',\n",
       "   'profile_sidebar_border_color': '000000',\n",
       "   'profile_sidebar_fill_color': '000000',\n",
       "   'profile_text_color': '000000',\n",
       "   'profile_use_background_image': False,\n",
       "   'has_extended_profile': False,\n",
       "   'default_profile': False,\n",
       "   'default_profile_image': False,\n",
       "   'following': True,\n",
       "   'follow_request_sent': False,\n",
       "   'notifications': False,\n",
       "   'translator_type': 'none',\n",
       "   'withheld_in_countries': []},\n",
       "  'geo': None,\n",
       "  'coordinates': None,\n",
       "  'place': None,\n",
       "  'contributors': None,\n",
       "  'is_quote_status': False,\n",
       "  'retweet_count': 3465,\n",
       "  'favorite_count': 21985,\n",
       "  'favorited': False,\n",
       "  'retweeted': False,\n",
       "  'possibly_sensitive': False,\n",
       "  'possibly_sensitive_appealable': False,\n",
       "  'lang': 'en'},\n",
       " {'created_at': 'Sun Jul 30 15:58:51 +0000 2017',\n",
       "  'id': 891689557279858688,\n",
       "  'id_str': '891689557279858688',\n",
       "  'full_text': 'This is Darla. She commenced a snooze mid meal. 13/10 happens to the best of us https://t.co/tD36da7qLQ',\n",
       "  'truncated': False,\n",
       "  'display_text_range': [0, 79],\n",
       "  'entities': {'hashtags': [],\n",
       "   'symbols': [],\n",
       "   'user_mentions': [],\n",
       "   'urls': [],\n",
       "   'media': [{'id': 891689552724799489,\n",
       "     'id_str': '891689552724799489',\n",
       "     'indices': [80, 103],\n",
       "     'media_url': 'http://pbs.twimg.com/media/DF_q7IAWsAEuuN8.jpg',\n",
       "     'media_url_https': 'https://pbs.twimg.com/media/DF_q7IAWsAEuuN8.jpg',\n",
       "     'url': 'https://t.co/tD36da7qLQ',\n",
       "     'display_url': 'pic.twitter.com/tD36da7qLQ',\n",
       "     'expanded_url': 'https://twitter.com/dog_rates/status/891689557279858688/photo/1',\n",
       "     'type': 'photo',\n",
       "     'sizes': {'thumb': {'w': 150, 'h': 150, 'resize': 'crop'},\n",
       "      'small': {'w': 510, 'h': 680, 'resize': 'fit'},\n",
       "      'medium': {'w': 901, 'h': 1200, 'resize': 'fit'},\n",
       "      'large': {'w': 1201, 'h': 1600, 'resize': 'fit'}}}]},\n",
       "  'extended_entities': {'media': [{'id': 891689552724799489,\n",
       "     'id_str': '891689552724799489',\n",
       "     'indices': [80, 103],\n",
       "     'media_url': 'http://pbs.twimg.com/media/DF_q7IAWsAEuuN8.jpg',\n",
       "     'media_url_https': 'https://pbs.twimg.com/media/DF_q7IAWsAEuuN8.jpg',\n",
       "     'url': 'https://t.co/tD36da7qLQ',\n",
       "     'display_url': 'pic.twitter.com/tD36da7qLQ',\n",
       "     'expanded_url': 'https://twitter.com/dog_rates/status/891689557279858688/photo/1',\n",
       "     'type': 'photo',\n",
       "     'sizes': {'thumb': {'w': 150, 'h': 150, 'resize': 'crop'},\n",
       "      'small': {'w': 510, 'h': 680, 'resize': 'fit'},\n",
       "      'medium': {'w': 901, 'h': 1200, 'resize': 'fit'},\n",
       "      'large': {'w': 1201, 'h': 1600, 'resize': 'fit'}}}]},\n",
       "  'source': '<a href=\"http://twitter.com/download/iphone\" rel=\"nofollow\">Twitter for iPhone</a>',\n",
       "  'in_reply_to_status_id': None,\n",
       "  'in_reply_to_status_id_str': None,\n",
       "  'in_reply_to_user_id': None,\n",
       "  'in_reply_to_user_id_str': None,\n",
       "  'in_reply_to_screen_name': None,\n",
       "  'user': {'id': 4196983835,\n",
       "   'id_str': '4196983835',\n",
       "   'name': 'WeRateDogs®',\n",
       "   'screen_name': 'dog_rates',\n",
       "   'location': 'all our links ➜',\n",
       "   'description': 'Your Only Source For Professional Dog Ratings \\nInstagram and Facebook ➜ WeRateDogs \\npartnerships@weratedogs.com | nonprofit: @15outof10 ⠀⠀⠀⠀⠀⠀⠀⠀⠀⠀⠀⠀',\n",
       "   'url': 'https://t.co/YPc2XqmwyC',\n",
       "   'entities': {'url': {'urls': [{'url': 'https://t.co/YPc2XqmwyC',\n",
       "       'expanded_url': 'http://links.weratedogs.com',\n",
       "       'display_url': 'links.weratedogs.com',\n",
       "       'indices': [0, 23]}]},\n",
       "    'description': {'urls': []}},\n",
       "   'protected': False,\n",
       "   'followers_count': 9339224,\n",
       "   'friends_count': 21,\n",
       "   'listed_count': 7566,\n",
       "   'created_at': 'Sun Nov 15 21:41:29 +0000 2015',\n",
       "   'favourites_count': 147205,\n",
       "   'utc_offset': None,\n",
       "   'time_zone': None,\n",
       "   'geo_enabled': True,\n",
       "   'verified': True,\n",
       "   'statuses_count': 16089,\n",
       "   'lang': None,\n",
       "   'contributors_enabled': False,\n",
       "   'is_translator': False,\n",
       "   'is_translation_enabled': False,\n",
       "   'profile_background_color': '000000',\n",
       "   'profile_background_image_url': 'http://abs.twimg.com/images/themes/theme1/bg.png',\n",
       "   'profile_background_image_url_https': 'https://abs.twimg.com/images/themes/theme1/bg.png',\n",
       "   'profile_background_tile': False,\n",
       "   'profile_image_url': 'http://pbs.twimg.com/profile_images/1552995729014247425/TaJbIdmK_normal.jpg',\n",
       "   'profile_image_url_https': 'https://pbs.twimg.com/profile_images/1552995729014247425/TaJbIdmK_normal.jpg',\n",
       "   'profile_banner_url': 'https://pbs.twimg.com/profile_banners/4196983835/1617810473',\n",
       "   'profile_link_color': 'F5ABB5',\n",
       "   'profile_sidebar_border_color': '000000',\n",
       "   'profile_sidebar_fill_color': '000000',\n",
       "   'profile_text_color': '000000',\n",
       "   'profile_use_background_image': False,\n",
       "   'has_extended_profile': False,\n",
       "   'default_profile': False,\n",
       "   'default_profile_image': False,\n",
       "   'following': True,\n",
       "   'follow_request_sent': False,\n",
       "   'notifications': False,\n",
       "   'translator_type': 'none',\n",
       "   'withheld_in_countries': []},\n",
       "  'geo': None,\n",
       "  'coordinates': None,\n",
       "  'place': None,\n",
       "  'contributors': None,\n",
       "  'is_quote_status': False,\n",
       "  'retweet_count': 7198,\n",
       "  'favorite_count': 36817,\n",
       "  'favorited': False,\n",
       "  'retweeted': False,\n",
       "  'possibly_sensitive': False,\n",
       "  'possibly_sensitive_appealable': False,\n",
       "  'lang': 'en'},\n",
       " {'created_at': 'Sat Jul 29 16:00:24 +0000 2017',\n",
       "  'id': 891327558926688256,\n",
       "  'id_str': '891327558926688256',\n",
       "  'full_text': 'This is Franklin. He would like you to stop calling him \"cute.\" He is a very fierce shark and should be respected as such. 12/10 #BarkWeek https://t.co/AtUZn91f7f',\n",
       "  'truncated': False,\n",
       "  'display_text_range': [0, 138],\n",
       "  'entities': {'hashtags': [{'text': 'BarkWeek', 'indices': [129, 138]}],\n",
       "   'symbols': [],\n",
       "   'user_mentions': [],\n",
       "   'urls': [],\n",
       "   'media': [{'id': 891327551943041024,\n",
       "     'id_str': '891327551943041024',\n",
       "     'indices': [139, 162],\n",
       "     'media_url': 'http://pbs.twimg.com/media/DF6hr6AVYAAZ8G8.jpg',\n",
       "     'media_url_https': 'https://pbs.twimg.com/media/DF6hr6AVYAAZ8G8.jpg',\n",
       "     'url': 'https://t.co/AtUZn91f7f',\n",
       "     'display_url': 'pic.twitter.com/AtUZn91f7f',\n",
       "     'expanded_url': 'https://twitter.com/dog_rates/status/891327558926688256/photo/1',\n",
       "     'type': 'photo',\n",
       "     'sizes': {'medium': {'w': 720, 'h': 540, 'resize': 'fit'},\n",
       "      'large': {'w': 720, 'h': 540, 'resize': 'fit'},\n",
       "      'thumb': {'w': 150, 'h': 150, 'resize': 'crop'},\n",
       "      'small': {'w': 680, 'h': 510, 'resize': 'fit'}}}]},\n",
       "  'extended_entities': {'media': [{'id': 891327551943041024,\n",
       "     'id_str': '891327551943041024',\n",
       "     'indices': [139, 162],\n",
       "     'media_url': 'http://pbs.twimg.com/media/DF6hr6AVYAAZ8G8.jpg',\n",
       "     'media_url_https': 'https://pbs.twimg.com/media/DF6hr6AVYAAZ8G8.jpg',\n",
       "     'url': 'https://t.co/AtUZn91f7f',\n",
       "     'display_url': 'pic.twitter.com/AtUZn91f7f',\n",
       "     'expanded_url': 'https://twitter.com/dog_rates/status/891327558926688256/photo/1',\n",
       "     'type': 'photo',\n",
       "     'sizes': {'medium': {'w': 720, 'h': 540, 'resize': 'fit'},\n",
       "      'large': {'w': 720, 'h': 540, 'resize': 'fit'},\n",
       "      'thumb': {'w': 150, 'h': 150, 'resize': 'crop'},\n",
       "      'small': {'w': 680, 'h': 510, 'resize': 'fit'}}},\n",
       "    {'id': 891327551947157504,\n",
       "     'id_str': '891327551947157504',\n",
       "     'indices': [139, 162],\n",
       "     'media_url': 'http://pbs.twimg.com/media/DF6hr6BUMAAzZgT.jpg',\n",
       "     'media_url_https': 'https://pbs.twimg.com/media/DF6hr6BUMAAzZgT.jpg',\n",
       "     'url': 'https://t.co/AtUZn91f7f',\n",
       "     'display_url': 'pic.twitter.com/AtUZn91f7f',\n",
       "     'expanded_url': 'https://twitter.com/dog_rates/status/891327558926688256/photo/1',\n",
       "     'type': 'photo',\n",
       "     'sizes': {'medium': {'w': 720, 'h': 540, 'resize': 'fit'},\n",
       "      'large': {'w': 720, 'h': 540, 'resize': 'fit'},\n",
       "      'thumb': {'w': 150, 'h': 150, 'resize': 'crop'},\n",
       "      'small': {'w': 680, 'h': 510, 'resize': 'fit'}}}]},\n",
       "  'source': '<a href=\"http://twitter.com/download/iphone\" rel=\"nofollow\">Twitter for iPhone</a>',\n",
       "  'in_reply_to_status_id': None,\n",
       "  'in_reply_to_status_id_str': None,\n",
       "  'in_reply_to_user_id': None,\n",
       "  'in_reply_to_user_id_str': None,\n",
       "  'in_reply_to_screen_name': None,\n",
       "  'user': {'id': 4196983835,\n",
       "   'id_str': '4196983835',\n",
       "   'name': 'WeRateDogs®',\n",
       "   'screen_name': 'dog_rates',\n",
       "   'location': 'all our links ➜',\n",
       "   'description': 'Your Only Source For Professional Dog Ratings \\nInstagram and Facebook ➜ WeRateDogs \\npartnerships@weratedogs.com | nonprofit: @15outof10 ⠀⠀⠀⠀⠀⠀⠀⠀⠀⠀⠀⠀',\n",
       "   'url': 'https://t.co/YPc2XqmwyC',\n",
       "   'entities': {'url': {'urls': [{'url': 'https://t.co/YPc2XqmwyC',\n",
       "       'expanded_url': 'http://links.weratedogs.com',\n",
       "       'display_url': 'links.weratedogs.com',\n",
       "       'indices': [0, 23]}]},\n",
       "    'description': {'urls': []}},\n",
       "   'protected': False,\n",
       "   'followers_count': 9339224,\n",
       "   'friends_count': 21,\n",
       "   'listed_count': 7566,\n",
       "   'created_at': 'Sun Nov 15 21:41:29 +0000 2015',\n",
       "   'favourites_count': 147205,\n",
       "   'utc_offset': None,\n",
       "   'time_zone': None,\n",
       "   'geo_enabled': True,\n",
       "   'verified': True,\n",
       "   'statuses_count': 16089,\n",
       "   'lang': None,\n",
       "   'contributors_enabled': False,\n",
       "   'is_translator': False,\n",
       "   'is_translation_enabled': False,\n",
       "   'profile_background_color': '000000',\n",
       "   'profile_background_image_url': 'http://abs.twimg.com/images/themes/theme1/bg.png',\n",
       "   'profile_background_image_url_https': 'https://abs.twimg.com/images/themes/theme1/bg.png',\n",
       "   'profile_background_tile': False,\n",
       "   'profile_image_url': 'http://pbs.twimg.com/profile_images/1552995729014247425/TaJbIdmK_normal.jpg',\n",
       "   'profile_image_url_https': 'https://pbs.twimg.com/profile_images/1552995729014247425/TaJbIdmK_normal.jpg',\n",
       "   'profile_banner_url': 'https://pbs.twimg.com/profile_banners/4196983835/1617810473',\n",
       "   'profile_link_color': 'F5ABB5',\n",
       "   'profile_sidebar_border_color': '000000',\n",
       "   'profile_sidebar_fill_color': '000000',\n",
       "   'profile_text_color': '000000',\n",
       "   'profile_use_background_image': False,\n",
       "   'has_extended_profile': False,\n",
       "   'default_profile': False,\n",
       "   'default_profile_image': False,\n",
       "   'following': True,\n",
       "   'follow_request_sent': False,\n",
       "   'notifications': False,\n",
       "   'translator_type': 'none',\n",
       "   'withheld_in_countries': []},\n",
       "  'geo': None,\n",
       "  'coordinates': None,\n",
       "  'place': None,\n",
       "  'contributors': None,\n",
       "  'is_quote_status': False,\n",
       "  'retweet_count': 7722,\n",
       "  'favorite_count': 35202,\n",
       "  'favorited': False,\n",
       "  'retweeted': False,\n",
       "  'possibly_sensitive': False,\n",
       "  'possibly_sensitive_appealable': False,\n",
       "  'lang': 'en'}]"
      ]
     },
     "execution_count": 23,
     "metadata": {},
     "output_type": "execute_result"
    }
   ],
   "source": [
    "tweet_json_txt_json = []\n",
    "with open(tweet_json_txt, \"r\") as f:\n",
    "    tweet_json_txt_json = [\n",
    "        loads(line)\n",
    "        for line in f\n",
    "    ]\n",
    "tweet_json_txt_json[:5]"
   ]
  },
  {
   "cell_type": "markdown",
   "metadata": {},
   "source": [
    "<span style=\"color: red;\">Now we can create a dataframe with ``DataFrame.from_records``:</span>"
   ]
  },
  {
   "cell_type": "code",
   "execution_count": 24,
   "metadata": {},
   "outputs": [],
   "source": [
    "tweet_json_txt_df = pd.DataFrame.from_records(tweet_json_txt_json)"
   ]
  },
  {
   "cell_type": "code",
   "execution_count": 25,
   "metadata": {},
   "outputs": [
    {
     "name": "stdout",
     "output_type": "stream",
     "text": [
      "<class 'pandas.core.frame.DataFrame'>\n",
      "RangeIndex: 2327 entries, 0 to 2326\n",
      "Data columns (total 32 columns):\n",
      " #   Column                         Non-Null Count  Dtype  \n",
      "---  ------                         --------------  -----  \n",
      " 0   created_at                     2327 non-null   object \n",
      " 1   id                             2327 non-null   int64  \n",
      " 2   id_str                         2327 non-null   object \n",
      " 3   full_text                      2327 non-null   object \n",
      " 4   truncated                      2327 non-null   bool   \n",
      " 5   display_text_range             2327 non-null   object \n",
      " 6   entities                       2327 non-null   object \n",
      " 7   extended_entities              2057 non-null   object \n",
      " 8   source                         2327 non-null   object \n",
      " 9   in_reply_to_status_id          77 non-null     float64\n",
      " 10  in_reply_to_status_id_str      77 non-null     object \n",
      " 11  in_reply_to_user_id            77 non-null     float64\n",
      " 12  in_reply_to_user_id_str        77 non-null     object \n",
      " 13  in_reply_to_screen_name        77 non-null     object \n",
      " 14  user                           2327 non-null   object \n",
      " 15  geo                            0 non-null      object \n",
      " 16  coordinates                    0 non-null      object \n",
      " 17  place                          1 non-null      object \n",
      " 18  contributors                   0 non-null      object \n",
      " 19  is_quote_status                2327 non-null   bool   \n",
      " 20  retweet_count                  2327 non-null   int64  \n",
      " 21  favorite_count                 2327 non-null   int64  \n",
      " 22  favorited                      2327 non-null   bool   \n",
      " 23  retweeted                      2327 non-null   bool   \n",
      " 24  possibly_sensitive             2195 non-null   object \n",
      " 25  possibly_sensitive_appealable  2195 non-null   object \n",
      " 26  lang                           2327 non-null   object \n",
      " 27  retweeted_status               160 non-null    object \n",
      " 28  quoted_status_id               26 non-null     float64\n",
      " 29  quoted_status_id_str           26 non-null     object \n",
      " 30  quoted_status_permalink        26 non-null     object \n",
      " 31  quoted_status                  24 non-null     object \n",
      "dtypes: bool(4), float64(3), int64(3), object(22)\n",
      "memory usage: 518.2+ KB\n"
     ]
    }
   ],
   "source": [
    "tweet_json_txt_df.info()"
   ]
  },
  {
   "cell_type": "code",
   "execution_count": 26,
   "metadata": {},
   "outputs": [
    {
     "data": {
      "text/html": [
       "<div>\n",
       "<style scoped>\n",
       "    .dataframe tbody tr th:only-of-type {\n",
       "        vertical-align: middle;\n",
       "    }\n",
       "\n",
       "    .dataframe tbody tr th {\n",
       "        vertical-align: top;\n",
       "    }\n",
       "\n",
       "    .dataframe thead th {\n",
       "        text-align: right;\n",
       "    }\n",
       "</style>\n",
       "<table border=\"1\" class=\"dataframe\">\n",
       "  <thead>\n",
       "    <tr style=\"text-align: right;\">\n",
       "      <th></th>\n",
       "      <th>created_at</th>\n",
       "      <th>id</th>\n",
       "      <th>id_str</th>\n",
       "      <th>full_text</th>\n",
       "      <th>truncated</th>\n",
       "      <th>display_text_range</th>\n",
       "      <th>entities</th>\n",
       "      <th>extended_entities</th>\n",
       "      <th>source</th>\n",
       "      <th>in_reply_to_status_id</th>\n",
       "      <th>...</th>\n",
       "      <th>favorited</th>\n",
       "      <th>retweeted</th>\n",
       "      <th>possibly_sensitive</th>\n",
       "      <th>possibly_sensitive_appealable</th>\n",
       "      <th>lang</th>\n",
       "      <th>retweeted_status</th>\n",
       "      <th>quoted_status_id</th>\n",
       "      <th>quoted_status_id_str</th>\n",
       "      <th>quoted_status_permalink</th>\n",
       "      <th>quoted_status</th>\n",
       "    </tr>\n",
       "  </thead>\n",
       "  <tbody>\n",
       "    <tr>\n",
       "      <th>0</th>\n",
       "      <td>Tue Aug 01 16:23:56 +0000 2017</td>\n",
       "      <td>892420643555336193</td>\n",
       "      <td>892420643555336193</td>\n",
       "      <td>This is Phineas. He's a mystical boy. Only eve...</td>\n",
       "      <td>False</td>\n",
       "      <td>[0, 85]</td>\n",
       "      <td>{'hashtags': [], 'symbols': [], 'user_mentions...</td>\n",
       "      <td>{'media': [{'id': 892420639486877696, 'id_str'...</td>\n",
       "      <td>&lt;a href=\"http://twitter.com/download/iphone\" r...</td>\n",
       "      <td>NaN</td>\n",
       "      <td>...</td>\n",
       "      <td>False</td>\n",
       "      <td>False</td>\n",
       "      <td>False</td>\n",
       "      <td>False</td>\n",
       "      <td>en</td>\n",
       "      <td>NaN</td>\n",
       "      <td>NaN</td>\n",
       "      <td>NaN</td>\n",
       "      <td>NaN</td>\n",
       "      <td>NaN</td>\n",
       "    </tr>\n",
       "    <tr>\n",
       "      <th>1</th>\n",
       "      <td>Tue Aug 01 00:17:27 +0000 2017</td>\n",
       "      <td>892177421306343426</td>\n",
       "      <td>892177421306343426</td>\n",
       "      <td>This is Tilly. She's just checking pup on you....</td>\n",
       "      <td>False</td>\n",
       "      <td>[0, 138]</td>\n",
       "      <td>{'hashtags': [], 'symbols': [], 'user_mentions...</td>\n",
       "      <td>{'media': [{'id': 892177413194625024, 'id_str'...</td>\n",
       "      <td>&lt;a href=\"http://twitter.com/download/iphone\" r...</td>\n",
       "      <td>NaN</td>\n",
       "      <td>...</td>\n",
       "      <td>False</td>\n",
       "      <td>False</td>\n",
       "      <td>False</td>\n",
       "      <td>False</td>\n",
       "      <td>en</td>\n",
       "      <td>NaN</td>\n",
       "      <td>NaN</td>\n",
       "      <td>NaN</td>\n",
       "      <td>NaN</td>\n",
       "      <td>NaN</td>\n",
       "    </tr>\n",
       "    <tr>\n",
       "      <th>2</th>\n",
       "      <td>Mon Jul 31 00:18:03 +0000 2017</td>\n",
       "      <td>891815181378084864</td>\n",
       "      <td>891815181378084864</td>\n",
       "      <td>This is Archie. He is a rare Norwegian Pouncin...</td>\n",
       "      <td>False</td>\n",
       "      <td>[0, 121]</td>\n",
       "      <td>{'hashtags': [], 'symbols': [], 'user_mentions...</td>\n",
       "      <td>{'media': [{'id': 891815175371796480, 'id_str'...</td>\n",
       "      <td>&lt;a href=\"http://twitter.com/download/iphone\" r...</td>\n",
       "      <td>NaN</td>\n",
       "      <td>...</td>\n",
       "      <td>False</td>\n",
       "      <td>False</td>\n",
       "      <td>False</td>\n",
       "      <td>False</td>\n",
       "      <td>en</td>\n",
       "      <td>NaN</td>\n",
       "      <td>NaN</td>\n",
       "      <td>NaN</td>\n",
       "      <td>NaN</td>\n",
       "      <td>NaN</td>\n",
       "    </tr>\n",
       "    <tr>\n",
       "      <th>3</th>\n",
       "      <td>Sun Jul 30 15:58:51 +0000 2017</td>\n",
       "      <td>891689557279858688</td>\n",
       "      <td>891689557279858688</td>\n",
       "      <td>This is Darla. She commenced a snooze mid meal...</td>\n",
       "      <td>False</td>\n",
       "      <td>[0, 79]</td>\n",
       "      <td>{'hashtags': [], 'symbols': [], 'user_mentions...</td>\n",
       "      <td>{'media': [{'id': 891689552724799489, 'id_str'...</td>\n",
       "      <td>&lt;a href=\"http://twitter.com/download/iphone\" r...</td>\n",
       "      <td>NaN</td>\n",
       "      <td>...</td>\n",
       "      <td>False</td>\n",
       "      <td>False</td>\n",
       "      <td>False</td>\n",
       "      <td>False</td>\n",
       "      <td>en</td>\n",
       "      <td>NaN</td>\n",
       "      <td>NaN</td>\n",
       "      <td>NaN</td>\n",
       "      <td>NaN</td>\n",
       "      <td>NaN</td>\n",
       "    </tr>\n",
       "    <tr>\n",
       "      <th>4</th>\n",
       "      <td>Sat Jul 29 16:00:24 +0000 2017</td>\n",
       "      <td>891327558926688256</td>\n",
       "      <td>891327558926688256</td>\n",
       "      <td>This is Franklin. He would like you to stop ca...</td>\n",
       "      <td>False</td>\n",
       "      <td>[0, 138]</td>\n",
       "      <td>{'hashtags': [{'text': 'BarkWeek', 'indices': ...</td>\n",
       "      <td>{'media': [{'id': 891327551943041024, 'id_str'...</td>\n",
       "      <td>&lt;a href=\"http://twitter.com/download/iphone\" r...</td>\n",
       "      <td>NaN</td>\n",
       "      <td>...</td>\n",
       "      <td>False</td>\n",
       "      <td>False</td>\n",
       "      <td>False</td>\n",
       "      <td>False</td>\n",
       "      <td>en</td>\n",
       "      <td>NaN</td>\n",
       "      <td>NaN</td>\n",
       "      <td>NaN</td>\n",
       "      <td>NaN</td>\n",
       "      <td>NaN</td>\n",
       "    </tr>\n",
       "  </tbody>\n",
       "</table>\n",
       "<p>5 rows × 32 columns</p>\n",
       "</div>"
      ],
      "text/plain": [
       "                       created_at                  id              id_str  \\\n",
       "0  Tue Aug 01 16:23:56 +0000 2017  892420643555336193  892420643555336193   \n",
       "1  Tue Aug 01 00:17:27 +0000 2017  892177421306343426  892177421306343426   \n",
       "2  Mon Jul 31 00:18:03 +0000 2017  891815181378084864  891815181378084864   \n",
       "3  Sun Jul 30 15:58:51 +0000 2017  891689557279858688  891689557279858688   \n",
       "4  Sat Jul 29 16:00:24 +0000 2017  891327558926688256  891327558926688256   \n",
       "\n",
       "                                           full_text  truncated  \\\n",
       "0  This is Phineas. He's a mystical boy. Only eve...      False   \n",
       "1  This is Tilly. She's just checking pup on you....      False   \n",
       "2  This is Archie. He is a rare Norwegian Pouncin...      False   \n",
       "3  This is Darla. She commenced a snooze mid meal...      False   \n",
       "4  This is Franklin. He would like you to stop ca...      False   \n",
       "\n",
       "  display_text_range                                           entities  \\\n",
       "0            [0, 85]  {'hashtags': [], 'symbols': [], 'user_mentions...   \n",
       "1           [0, 138]  {'hashtags': [], 'symbols': [], 'user_mentions...   \n",
       "2           [0, 121]  {'hashtags': [], 'symbols': [], 'user_mentions...   \n",
       "3            [0, 79]  {'hashtags': [], 'symbols': [], 'user_mentions...   \n",
       "4           [0, 138]  {'hashtags': [{'text': 'BarkWeek', 'indices': ...   \n",
       "\n",
       "                                   extended_entities  \\\n",
       "0  {'media': [{'id': 892420639486877696, 'id_str'...   \n",
       "1  {'media': [{'id': 892177413194625024, 'id_str'...   \n",
       "2  {'media': [{'id': 891815175371796480, 'id_str'...   \n",
       "3  {'media': [{'id': 891689552724799489, 'id_str'...   \n",
       "4  {'media': [{'id': 891327551943041024, 'id_str'...   \n",
       "\n",
       "                                              source  in_reply_to_status_id  \\\n",
       "0  <a href=\"http://twitter.com/download/iphone\" r...                    NaN   \n",
       "1  <a href=\"http://twitter.com/download/iphone\" r...                    NaN   \n",
       "2  <a href=\"http://twitter.com/download/iphone\" r...                    NaN   \n",
       "3  <a href=\"http://twitter.com/download/iphone\" r...                    NaN   \n",
       "4  <a href=\"http://twitter.com/download/iphone\" r...                    NaN   \n",
       "\n",
       "   ... favorited  retweeted possibly_sensitive possibly_sensitive_appealable  \\\n",
       "0  ...     False      False              False                         False   \n",
       "1  ...     False      False              False                         False   \n",
       "2  ...     False      False              False                         False   \n",
       "3  ...     False      False              False                         False   \n",
       "4  ...     False      False              False                         False   \n",
       "\n",
       "  lang retweeted_status quoted_status_id quoted_status_id_str  \\\n",
       "0   en              NaN              NaN                  NaN   \n",
       "1   en              NaN              NaN                  NaN   \n",
       "2   en              NaN              NaN                  NaN   \n",
       "3   en              NaN              NaN                  NaN   \n",
       "4   en              NaN              NaN                  NaN   \n",
       "\n",
       "  quoted_status_permalink  quoted_status  \n",
       "0                     NaN            NaN  \n",
       "1                     NaN            NaN  \n",
       "2                     NaN            NaN  \n",
       "3                     NaN            NaN  \n",
       "4                     NaN            NaN  \n",
       "\n",
       "[5 rows x 32 columns]"
      ]
     },
     "execution_count": 26,
     "metadata": {},
     "output_type": "execute_result"
    }
   ],
   "source": [
    "tweet_json_txt_df.head()"
   ]
  },
  {
   "cell_type": "markdown",
   "metadata": {},
   "source": [
    "<span style=\"color: red;\">Since we only need id, retweet count, and favorite count, let's project the rest of the columns out:</span>"
   ]
  },
  {
   "cell_type": "code",
   "execution_count": 27,
   "metadata": {},
   "outputs": [],
   "source": [
    "tweet_json_txt_df = tweet_json_txt_df[[\"id\", \"retweet_count\", \"favorite_count\"]].rename({\"id\": \"tweet_id\"}, axis=1)"
   ]
  },
  {
   "cell_type": "markdown",
   "metadata": {
    "extensions": {
     "jupyter_dashboards": {
      "version": 1,
      "views": {
       "grid_default": {
        "col": 4,
        "height": 4,
        "hidden": false,
        "row": 28,
        "width": 4
       },
       "report_default": {
        "hidden": false
       }
      }
     }
    }
   },
   "source": [
    "## Assessing Data<a class=\"anchor\" id=\"assessing-data\"></a>\n",
    "In this section, detect and document at least **eight (8) quality issues and two (2) tidiness issue**. You must use **both** visual assessment\n",
    "programmatic assessement to assess the data.\n",
    "\n",
    "**Note:** pay attention to the following key points when you access the data.\n",
    "\n",
    "* You only want original ratings (no retweets) that have images. Though there are 5000+ tweets in the dataset, not all are dog ratings and some are retweets.\n",
    "* Assessing and cleaning the entire dataset completely would require a lot of time, and is not necessary to practice and demonstrate your skills in data wrangling. Therefore, the requirements of this project are only to assess and clean at least 8 quality issues and at least 2 tidiness issues in this dataset.\n",
    "* The fact that the rating numerators are greater than the denominators does not need to be cleaned. This [unique rating system](http://knowyourmeme.com/memes/theyre-good-dogs-brent) is a big part of the popularity of WeRateDogs.\n",
    "* You do not need to gather the tweets beyond August 1st, 2017. You can, but note that you won't be able to gather the image predictions for these tweets since you don't have access to the algorithm used.\n",
    "\n"
   ]
  },
  {
   "cell_type": "markdown",
   "metadata": {},
   "source": [
    "### twitter_archived_enhanced_df<a class=\"anchor\" id=\"twitter-archived-enhanced-df\"></a>"
   ]
  },
  {
   "cell_type": "code",
   "execution_count": 28,
   "metadata": {},
   "outputs": [
    {
     "data": {
      "text/html": [
       "<div>\n",
       "<style scoped>\n",
       "    .dataframe tbody tr th:only-of-type {\n",
       "        vertical-align: middle;\n",
       "    }\n",
       "\n",
       "    .dataframe tbody tr th {\n",
       "        vertical-align: top;\n",
       "    }\n",
       "\n",
       "    .dataframe thead th {\n",
       "        text-align: right;\n",
       "    }\n",
       "</style>\n",
       "<table border=\"1\" class=\"dataframe\">\n",
       "  <thead>\n",
       "    <tr style=\"text-align: right;\">\n",
       "      <th></th>\n",
       "      <th>tweet_id</th>\n",
       "      <th>in_reply_to_status_id</th>\n",
       "      <th>in_reply_to_user_id</th>\n",
       "      <th>timestamp</th>\n",
       "      <th>source</th>\n",
       "      <th>text</th>\n",
       "      <th>retweeted_status_id</th>\n",
       "      <th>retweeted_status_user_id</th>\n",
       "      <th>retweeted_status_timestamp</th>\n",
       "      <th>expanded_urls</th>\n",
       "      <th>rating_numerator</th>\n",
       "      <th>rating_denominator</th>\n",
       "      <th>name</th>\n",
       "      <th>doggo</th>\n",
       "      <th>floofer</th>\n",
       "      <th>pupper</th>\n",
       "      <th>puppo</th>\n",
       "    </tr>\n",
       "  </thead>\n",
       "  <tbody>\n",
       "    <tr>\n",
       "      <th>0</th>\n",
       "      <td>892420643555336193</td>\n",
       "      <td>NaN</td>\n",
       "      <td>NaN</td>\n",
       "      <td>2017-08-01 16:23:56 +0000</td>\n",
       "      <td>&lt;a href=\"http://twitter.com/download/iphone\" r...</td>\n",
       "      <td>This is Phineas. He's a mystical boy. Only eve...</td>\n",
       "      <td>NaN</td>\n",
       "      <td>NaN</td>\n",
       "      <td>NaN</td>\n",
       "      <td>https://twitter.com/dog_rates/status/892420643...</td>\n",
       "      <td>13</td>\n",
       "      <td>10</td>\n",
       "      <td>Phineas</td>\n",
       "      <td>None</td>\n",
       "      <td>None</td>\n",
       "      <td>None</td>\n",
       "      <td>None</td>\n",
       "    </tr>\n",
       "    <tr>\n",
       "      <th>1</th>\n",
       "      <td>892177421306343426</td>\n",
       "      <td>NaN</td>\n",
       "      <td>NaN</td>\n",
       "      <td>2017-08-01 00:17:27 +0000</td>\n",
       "      <td>&lt;a href=\"http://twitter.com/download/iphone\" r...</td>\n",
       "      <td>This is Tilly. She's just checking pup on you....</td>\n",
       "      <td>NaN</td>\n",
       "      <td>NaN</td>\n",
       "      <td>NaN</td>\n",
       "      <td>https://twitter.com/dog_rates/status/892177421...</td>\n",
       "      <td>13</td>\n",
       "      <td>10</td>\n",
       "      <td>Tilly</td>\n",
       "      <td>None</td>\n",
       "      <td>None</td>\n",
       "      <td>None</td>\n",
       "      <td>None</td>\n",
       "    </tr>\n",
       "    <tr>\n",
       "      <th>2</th>\n",
       "      <td>891815181378084864</td>\n",
       "      <td>NaN</td>\n",
       "      <td>NaN</td>\n",
       "      <td>2017-07-31 00:18:03 +0000</td>\n",
       "      <td>&lt;a href=\"http://twitter.com/download/iphone\" r...</td>\n",
       "      <td>This is Archie. He is a rare Norwegian Pouncin...</td>\n",
       "      <td>NaN</td>\n",
       "      <td>NaN</td>\n",
       "      <td>NaN</td>\n",
       "      <td>https://twitter.com/dog_rates/status/891815181...</td>\n",
       "      <td>12</td>\n",
       "      <td>10</td>\n",
       "      <td>Archie</td>\n",
       "      <td>None</td>\n",
       "      <td>None</td>\n",
       "      <td>None</td>\n",
       "      <td>None</td>\n",
       "    </tr>\n",
       "    <tr>\n",
       "      <th>3</th>\n",
       "      <td>891689557279858688</td>\n",
       "      <td>NaN</td>\n",
       "      <td>NaN</td>\n",
       "      <td>2017-07-30 15:58:51 +0000</td>\n",
       "      <td>&lt;a href=\"http://twitter.com/download/iphone\" r...</td>\n",
       "      <td>This is Darla. She commenced a snooze mid meal...</td>\n",
       "      <td>NaN</td>\n",
       "      <td>NaN</td>\n",
       "      <td>NaN</td>\n",
       "      <td>https://twitter.com/dog_rates/status/891689557...</td>\n",
       "      <td>13</td>\n",
       "      <td>10</td>\n",
       "      <td>Darla</td>\n",
       "      <td>None</td>\n",
       "      <td>None</td>\n",
       "      <td>None</td>\n",
       "      <td>None</td>\n",
       "    </tr>\n",
       "    <tr>\n",
       "      <th>4</th>\n",
       "      <td>891327558926688256</td>\n",
       "      <td>NaN</td>\n",
       "      <td>NaN</td>\n",
       "      <td>2017-07-29 16:00:24 +0000</td>\n",
       "      <td>&lt;a href=\"http://twitter.com/download/iphone\" r...</td>\n",
       "      <td>This is Franklin. He would like you to stop ca...</td>\n",
       "      <td>NaN</td>\n",
       "      <td>NaN</td>\n",
       "      <td>NaN</td>\n",
       "      <td>https://twitter.com/dog_rates/status/891327558...</td>\n",
       "      <td>12</td>\n",
       "      <td>10</td>\n",
       "      <td>Franklin</td>\n",
       "      <td>None</td>\n",
       "      <td>None</td>\n",
       "      <td>None</td>\n",
       "      <td>None</td>\n",
       "    </tr>\n",
       "  </tbody>\n",
       "</table>\n",
       "</div>"
      ],
      "text/plain": [
       "             tweet_id  in_reply_to_status_id  in_reply_to_user_id  \\\n",
       "0  892420643555336193                    NaN                  NaN   \n",
       "1  892177421306343426                    NaN                  NaN   \n",
       "2  891815181378084864                    NaN                  NaN   \n",
       "3  891689557279858688                    NaN                  NaN   \n",
       "4  891327558926688256                    NaN                  NaN   \n",
       "\n",
       "                   timestamp  \\\n",
       "0  2017-08-01 16:23:56 +0000   \n",
       "1  2017-08-01 00:17:27 +0000   \n",
       "2  2017-07-31 00:18:03 +0000   \n",
       "3  2017-07-30 15:58:51 +0000   \n",
       "4  2017-07-29 16:00:24 +0000   \n",
       "\n",
       "                                              source  \\\n",
       "0  <a href=\"http://twitter.com/download/iphone\" r...   \n",
       "1  <a href=\"http://twitter.com/download/iphone\" r...   \n",
       "2  <a href=\"http://twitter.com/download/iphone\" r...   \n",
       "3  <a href=\"http://twitter.com/download/iphone\" r...   \n",
       "4  <a href=\"http://twitter.com/download/iphone\" r...   \n",
       "\n",
       "                                                text  retweeted_status_id  \\\n",
       "0  This is Phineas. He's a mystical boy. Only eve...                  NaN   \n",
       "1  This is Tilly. She's just checking pup on you....                  NaN   \n",
       "2  This is Archie. He is a rare Norwegian Pouncin...                  NaN   \n",
       "3  This is Darla. She commenced a snooze mid meal...                  NaN   \n",
       "4  This is Franklin. He would like you to stop ca...                  NaN   \n",
       "\n",
       "   retweeted_status_user_id retweeted_status_timestamp  \\\n",
       "0                       NaN                        NaN   \n",
       "1                       NaN                        NaN   \n",
       "2                       NaN                        NaN   \n",
       "3                       NaN                        NaN   \n",
       "4                       NaN                        NaN   \n",
       "\n",
       "                                       expanded_urls  rating_numerator  \\\n",
       "0  https://twitter.com/dog_rates/status/892420643...                13   \n",
       "1  https://twitter.com/dog_rates/status/892177421...                13   \n",
       "2  https://twitter.com/dog_rates/status/891815181...                12   \n",
       "3  https://twitter.com/dog_rates/status/891689557...                13   \n",
       "4  https://twitter.com/dog_rates/status/891327558...                12   \n",
       "\n",
       "   rating_denominator      name doggo floofer pupper puppo  \n",
       "0                  10   Phineas  None    None   None  None  \n",
       "1                  10     Tilly  None    None   None  None  \n",
       "2                  10    Archie  None    None   None  None  \n",
       "3                  10     Darla  None    None   None  None  \n",
       "4                  10  Franklin  None    None   None  None  "
      ]
     },
     "execution_count": 28,
     "metadata": {},
     "output_type": "execute_result"
    }
   ],
   "source": [
    "twitter_archived_enhanced_df.head()"
   ]
  },
  {
   "cell_type": "code",
   "execution_count": 29,
   "metadata": {},
   "outputs": [
    {
     "name": "stdout",
     "output_type": "stream",
     "text": [
      "<class 'pandas.core.frame.DataFrame'>\n",
      "RangeIndex: 2356 entries, 0 to 2355\n",
      "Data columns (total 17 columns):\n",
      " #   Column                      Non-Null Count  Dtype  \n",
      "---  ------                      --------------  -----  \n",
      " 0   tweet_id                    2356 non-null   int64  \n",
      " 1   in_reply_to_status_id       78 non-null     float64\n",
      " 2   in_reply_to_user_id         78 non-null     float64\n",
      " 3   timestamp                   2356 non-null   object \n",
      " 4   source                      2356 non-null   object \n",
      " 5   text                        2356 non-null   object \n",
      " 6   retweeted_status_id         181 non-null    float64\n",
      " 7   retweeted_status_user_id    181 non-null    float64\n",
      " 8   retweeted_status_timestamp  181 non-null    object \n",
      " 9   expanded_urls               2297 non-null   object \n",
      " 10  rating_numerator            2356 non-null   int64  \n",
      " 11  rating_denominator          2356 non-null   int64  \n",
      " 12  name                        2356 non-null   object \n",
      " 13  doggo                       2356 non-null   object \n",
      " 14  floofer                     2356 non-null   object \n",
      " 15  pupper                      2356 non-null   object \n",
      " 16  puppo                       2356 non-null   object \n",
      "dtypes: float64(4), int64(3), object(10)\n",
      "memory usage: 313.0+ KB\n"
     ]
    }
   ],
   "source": [
    "twitter_archived_enhanced_df.info()"
   ]
  },
  {
   "cell_type": "markdown",
   "metadata": {},
   "source": [
    "<span style=\"color: red;\">No missing text, ratings, names, or stages.</span>"
   ]
  },
  {
   "cell_type": "code",
   "execution_count": 30,
   "metadata": {},
   "outputs": [
    {
     "data": {
      "text/plain": [
       "0"
      ]
     },
     "execution_count": 30,
     "metadata": {},
     "output_type": "execute_result"
    }
   ],
   "source": [
    "twitter_archived_enhanced_df.tweet_id.duplicated().sum()  # No duplicate tweets"
   ]
  },
  {
   "cell_type": "code",
   "execution_count": 31,
   "metadata": {},
   "outputs": [
    {
     "data": {
      "text/plain": [
       "78"
      ]
     },
     "execution_count": 31,
     "metadata": {},
     "output_type": "execute_result"
    }
   ],
   "source": [
    "(~twitter_archived_enhanced_df.in_reply_to_status_id.isna()).sum()  # There are 78 replies"
   ]
  },
  {
   "cell_type": "code",
   "execution_count": 32,
   "metadata": {},
   "outputs": [
    {
     "data": {
      "text/plain": [
       "181"
      ]
     },
     "execution_count": 32,
     "metadata": {},
     "output_type": "execute_result"
    }
   ],
   "source": [
    "(~twitter_archived_enhanced_df.retweeted_status_id.isna()).sum()  # There are 181 retweets"
   ]
  },
  {
   "cell_type": "markdown",
   "metadata": {},
   "source": [
    "<span style=\"color: red;\">Let's filter out replies and retweets (only for assessing purposes):</span>"
   ]
  },
  {
   "cell_type": "code",
   "execution_count": 33,
   "metadata": {},
   "outputs": [],
   "source": [
    "twitter_archived_enhanced_valid_df = twitter_archived_enhanced_df[\n",
    "    twitter_archived_enhanced_df.in_reply_to_status_id.isna()\n",
    "    & twitter_archived_enhanced_df.retweeted_status_id.isna()\n",
    "]"
   ]
  },
  {
   "cell_type": "code",
   "execution_count": 34,
   "metadata": {},
   "outputs": [
    {
     "data": {
      "text/plain": [
       "2097"
      ]
     },
     "execution_count": 34,
     "metadata": {},
     "output_type": "execute_result"
    }
   ],
   "source": [
    "twitter_archived_enhanced_valid_df.shape[0]  # We've got 2097 potentially valid tweets"
   ]
  },
  {
   "cell_type": "markdown",
   "metadata": {},
   "source": [
    "<span style=\"color: red;\">Let's look for rating numerators/denominators outside of the tranditional WeRateDogs rating system. Historically, the ranking goes from 0/10 to 15/10. Let's look at numerators:</span>"
   ]
  },
  {
   "cell_type": "code",
   "execution_count": 35,
   "metadata": {},
   "outputs": [
    {
     "data": {
      "text/plain": [
       "84      1\n",
       "24      1\n",
       "88      1\n",
       "144     1\n",
       "26      1\n",
       "121     1\n",
       "44      1\n",
       "60      1\n",
       "45      1\n",
       "80      1\n",
       "99      1\n",
       "50      1\n",
       "204     1\n",
       "1776    1\n",
       "165     1\n",
       "27      1\n",
       "75      1\n",
       "420     1\n",
       "Name: rating_numerator, dtype: int64"
      ]
     },
     "execution_count": 35,
     "metadata": {},
     "output_type": "execute_result"
    }
   ],
   "source": [
    "twitter_archived_enhanced_valid_df[\n",
    "    twitter_archived_enhanced_valid_df.rating_numerator > 15\n",
    "].rating_numerator.value_counts()"
   ]
  },
  {
   "cell_type": "code",
   "execution_count": 36,
   "metadata": {},
   "outputs": [
    {
     "data": {
      "text/plain": [
       "array([[820690176645140481,\n",
       "        'The floofs have been released I repeat the floofs have been released. 84/70 https://t.co/NIYC820tmd']],\n",
       "      dtype=object)"
      ]
     },
     "execution_count": 36,
     "metadata": {},
     "output_type": "execute_result"
    }
   ],
   "source": [
    "twitter_archived_enhanced_valid_df[\n",
    "    twitter_archived_enhanced_valid_df.rating_numerator == 84\n",
    "][[\"tweet_id\", \"text\"]].values"
   ]
  },
  {
   "cell_type": "code",
   "execution_count": 37,
   "metadata": {},
   "outputs": [
    {
     "data": {
      "text/plain": [
       "array([[810984652412424192,\n",
       "        'Meet Sam. She smiles 24/7 &amp; secretly aspires to be a reindeer. \\nKeep Sam smiling by clicking and sharing this link:\\nhttps://t.co/98tB8y7y7t https://t.co/LouL5vdvxx']],\n",
       "      dtype=object)"
      ]
     },
     "execution_count": 37,
     "metadata": {},
     "output_type": "execute_result"
    }
   ],
   "source": [
    "twitter_archived_enhanced_valid_df[\n",
    "    twitter_archived_enhanced_valid_df.rating_numerator == 24\n",
    "][[\"tweet_id\", \"text\"]].values"
   ]
  },
  {
   "cell_type": "code",
   "execution_count": 38,
   "metadata": {},
   "outputs": [
    {
     "data": {
      "text/plain": [
       "array([[675853064436391936,\n",
       "        'Here we have an entire platoon of puppers. Total score: 88/80 would pet all at once https://t.co/y93p6FLvVw']],\n",
       "      dtype=object)"
      ]
     },
     "execution_count": 38,
     "metadata": {},
     "output_type": "execute_result"
    }
   ],
   "source": [
    "twitter_archived_enhanced_valid_df[\n",
    "    twitter_archived_enhanced_valid_df.rating_numerator == 88\n",
    "][[\"tweet_id\", \"text\"]].values"
   ]
  },
  {
   "cell_type": "code",
   "execution_count": 39,
   "metadata": {},
   "outputs": [
    {
     "data": {
      "text/plain": [
       "array([[680494726643068929,\n",
       "        'Here we have uncovered an entire battalion of holiday puppers. Average of 11.26/10 https://t.co/eNm2S6p9BD']],\n",
       "      dtype=object)"
      ]
     },
     "execution_count": 39,
     "metadata": {},
     "output_type": "execute_result"
    }
   ],
   "source": [
    "twitter_archived_enhanced_valid_df[\n",
    "    twitter_archived_enhanced_valid_df.rating_numerator == 26\n",
    "][[\"tweet_id\", \"text\"]].values"
   ]
  },
  {
   "cell_type": "code",
   "execution_count": 40,
   "metadata": {},
   "outputs": [
    {
     "data": {
      "text/plain": [
       "array([[684222868335505415,\n",
       "        'Someone help the girl is being mugged. Several are distracting her while two steal her shoes. Clever puppers 121/110 https://t.co/1zfnTJLt55']],\n",
       "      dtype=object)"
      ]
     },
     "execution_count": 40,
     "metadata": {},
     "output_type": "execute_result"
    }
   ],
   "source": [
    "twitter_archived_enhanced_valid_df[\n",
    "    twitter_archived_enhanced_valid_df.rating_numerator == 121\n",
    "][[\"tweet_id\", \"text\"]].values"
   ]
  },
  {
   "cell_type": "code",
   "execution_count": 41,
   "metadata": {},
   "outputs": [
    {
     "data": {
      "text/plain": [
       "array([[697463031882764288,\n",
       "        \"Happy Wednesday here's a bucket of pups. 44/40 would pet all at once https://t.co/HppvrYuamZ\"]],\n",
       "      dtype=object)"
      ]
     },
     "execution_count": 41,
     "metadata": {},
     "output_type": "execute_result"
    }
   ],
   "source": [
    "twitter_archived_enhanced_valid_df[\n",
    "    twitter_archived_enhanced_valid_df.rating_numerator == 44\n",
    "][[\"tweet_id\", \"text\"]].values"
   ]
  },
  {
   "cell_type": "code",
   "execution_count": 42,
   "metadata": {},
   "outputs": [
    {
     "data": {
      "text/plain": [
       "array([[704054845121142784,\n",
       "        \"Here is a whole flock of puppers.  60/50 I'll take the lot https://t.co/9dpcw6MdWa\"]],\n",
       "      dtype=object)"
      ]
     },
     "execution_count": 42,
     "metadata": {},
     "output_type": "execute_result"
    }
   ],
   "source": [
    "twitter_archived_enhanced_valid_df[\n",
    "    twitter_archived_enhanced_valid_df.rating_numerator == 60\n",
    "][[\"tweet_id\", \"text\"]].values"
   ]
  },
  {
   "cell_type": "code",
   "execution_count": 43,
   "metadata": {},
   "outputs": [
    {
     "data": {
      "text/plain": [
       "array([[709198395643068416,\n",
       "        'From left to right:\\nCletus, Jerome, Alejandro, Burp, &amp; Titson\\nNone know where camera is. 45/50 would hug all at once https://t.co/sedre1ivTK']],\n",
       "      dtype=object)"
      ]
     },
     "execution_count": 43,
     "metadata": {},
     "output_type": "execute_result"
    }
   ],
   "source": [
    "twitter_archived_enhanced_valid_df[\n",
    "    twitter_archived_enhanced_valid_df.rating_numerator == 45\n",
    "][[\"tweet_id\", \"text\"]].values"
   ]
  },
  {
   "cell_type": "code",
   "execution_count": 44,
   "metadata": {},
   "outputs": [
    {
     "data": {
      "text/plain": [
       "array([[710658690886586372,\n",
       "        \"Here's a brigade of puppers. All look very prepared for whatever happens next. 80/80 https://t.co/0eb7R1Om12\"]],\n",
       "      dtype=object)"
      ]
     },
     "execution_count": 44,
     "metadata": {},
     "output_type": "execute_result"
    }
   ],
   "source": [
    "twitter_archived_enhanced_valid_df[\n",
    "    twitter_archived_enhanced_valid_df.rating_numerator == 80\n",
    "][[\"tweet_id\", \"text\"]].values"
   ]
  },
  {
   "cell_type": "code",
   "execution_count": 45,
   "metadata": {},
   "outputs": [
    {
     "data": {
      "text/plain": [
       "array([[713900603437621249,\n",
       "        \"Happy Saturday here's 9 puppers on a bench. 99/90 good work everybody https://t.co/mpvaVxKmc1\"]],\n",
       "      dtype=object)"
      ]
     },
     "execution_count": 45,
     "metadata": {},
     "output_type": "execute_result"
    }
   ],
   "source": [
    "twitter_archived_enhanced_valid_df[\n",
    "    twitter_archived_enhanced_valid_df.rating_numerator == 99\n",
    "][[\"tweet_id\", \"text\"]].values"
   ]
  },
  {
   "cell_type": "code",
   "execution_count": 46,
   "metadata": {},
   "outputs": [
    {
     "data": {
      "text/plain": [
       "array([[716439118184652801,\n",
       "        'This is Bluebert. He just saw that both #FinalFur match ups are split 50/50. Amazed af. 11/10 https://t.co/Kky1DPG4iq']],\n",
       "      dtype=object)"
      ]
     },
     "execution_count": 46,
     "metadata": {},
     "output_type": "execute_result"
    }
   ],
   "source": [
    "twitter_archived_enhanced_valid_df[\n",
    "    twitter_archived_enhanced_valid_df.rating_numerator == 50\n",
    "][[\"tweet_id\", \"text\"]].values"
   ]
  },
  {
   "cell_type": "code",
   "execution_count": 47,
   "metadata": {},
   "outputs": [
    {
     "data": {
      "text/plain": [
       "array([[731156023742988288,\n",
       "        'Say hello to this unbelievably well behaved squad of doggos. 204/170 would try to pet all at once https://t.co/yGQI3He3xv']],\n",
       "      dtype=object)"
      ]
     },
     "execution_count": 47,
     "metadata": {},
     "output_type": "execute_result"
    }
   ],
   "source": [
    "twitter_archived_enhanced_valid_df[\n",
    "    twitter_archived_enhanced_valid_df.rating_numerator == 204\n",
    "][[\"tweet_id\", \"text\"]].values"
   ]
  },
  {
   "cell_type": "markdown",
   "metadata": {},
   "source": [
    "<span style=\"color: red;\">A joke rating but technically still valid:</span>"
   ]
  },
  {
   "cell_type": "code",
   "execution_count": 48,
   "metadata": {},
   "outputs": [
    {
     "data": {
      "text/plain": [
       "array([[749981277374128128,\n",
       "        \"This is Atticus. He's quite simply America af. 1776/10 https://t.co/GRXwMxLBkh\"]],\n",
       "      dtype=object)"
      ]
     },
     "execution_count": 48,
     "metadata": {},
     "output_type": "execute_result"
    }
   ],
   "source": [
    "twitter_archived_enhanced_valid_df[\n",
    "    twitter_archived_enhanced_valid_df.rating_numerator == 1776\n",
    "][[\"tweet_id\", \"text\"]].values"
   ]
  },
  {
   "cell_type": "code",
   "execution_count": 49,
   "metadata": {},
   "outputs": [
    {
     "data": {
      "text/plain": [
       "array([[758467244762497024,\n",
       "        'Why does this never happen at my front door... 165/150 https://t.co/HmwrdfEfUE']],\n",
       "      dtype=object)"
      ]
     },
     "execution_count": 49,
     "metadata": {},
     "output_type": "execute_result"
    }
   ],
   "source": [
    "twitter_archived_enhanced_valid_df[\n",
    "    twitter_archived_enhanced_valid_df.rating_numerator == 165\n",
    "][[\"tweet_id\", \"text\"]].values"
   ]
  },
  {
   "cell_type": "code",
   "execution_count": 50,
   "metadata": {},
   "outputs": [
    {
     "data": {
      "text/plain": [
       "array([[778027034220126208,\n",
       "        \"This is Sophie. She's a Jubilant Bush Pupper. Super h*ckin rare. Appears at random just to smile at the locals. 11.27/10 would smile back https://t.co/QFaUiIHxHq\"]],\n",
       "      dtype=object)"
      ]
     },
     "execution_count": 50,
     "metadata": {},
     "output_type": "execute_result"
    }
   ],
   "source": [
    "twitter_archived_enhanced_valid_df[\n",
    "    twitter_archived_enhanced_valid_df.rating_numerator == 27\n",
    "][[\"tweet_id\", \"text\"]].values"
   ]
  },
  {
   "cell_type": "code",
   "execution_count": 51,
   "metadata": {},
   "outputs": [
    {
     "data": {
      "text/plain": [
       "array([[786709082849828864,\n",
       "        \"This is Logan, the Chow who lived. He solemnly swears he's up to lots of good. H*ckin magical af 9.75/10 https://t.co/yBO5wuqaPS\"]],\n",
       "      dtype=object)"
      ]
     },
     "execution_count": 51,
     "metadata": {},
     "output_type": "execute_result"
    }
   ],
   "source": [
    "twitter_archived_enhanced_valid_df[\n",
    "    twitter_archived_enhanced_valid_df.rating_numerator == 75\n",
    "][[\"tweet_id\", \"text\"]].values"
   ]
  },
  {
   "cell_type": "code",
   "execution_count": 52,
   "metadata": {},
   "outputs": [
    {
     "data": {
      "text/plain": [
       "array([[670842764863651840,\n",
       "        'After so many requests... here you go.\\n\\nGood dogg. 420/10 https://t.co/yfAAo1gdeY']],\n",
       "      dtype=object)"
      ]
     },
     "execution_count": 52,
     "metadata": {},
     "output_type": "execute_result"
    }
   ],
   "source": [
    "twitter_archived_enhanced_valid_df[\n",
    "    twitter_archived_enhanced_valid_df.rating_numerator == 420\n",
    "][[\"tweet_id\", \"text\"]].values"
   ]
  },
  {
   "cell_type": "markdown",
   "metadata": {},
   "source": [
    "<span style=\"color: red;\">Now let's check the denominators. Anything that is not a 10 and does not contain multiple doggos is to be considered suspicious.</span>"
   ]
  },
  {
   "cell_type": "code",
   "execution_count": 53,
   "metadata": {},
   "outputs": [
    {
     "data": {
      "text/plain": [
       "11    2\n",
       "7     1\n",
       "20    1\n",
       "50    1\n",
       "2     1\n",
       "Name: rating_denominator, dtype: int64"
      ]
     },
     "execution_count": 53,
     "metadata": {},
     "output_type": "execute_result"
    }
   ],
   "source": [
    "twitter_archived_enhanced_valid_df[\n",
    "    (twitter_archived_enhanced_valid_df.rating_denominator != 10) &\n",
    "    (~twitter_archived_enhanced_valid_df.tweet_id.isin([\n",
    "        820690176645140481, 675853064436391936, 677716515794329600, 684222868335505415, 697463031882764288,\n",
    "        704054845121142784, 709198395643068416, 710658690886586372, 713900603437621249, 731156023742988288,\n",
    "        758467244762497024\n",
    "    ]))\n",
    "].rating_denominator.value_counts()"
   ]
  },
  {
   "cell_type": "code",
   "execution_count": 54,
   "metadata": {},
   "outputs": [
    {
     "data": {
      "text/plain": [
       "array([[740373189193256964,\n",
       "        'After so many requests, this is Bretagne. She was the last surviving 9/11 search dog, and our second ever 14/10. RIP https://t.co/XAVDNDaVgQ'],\n",
       "       [682962037429899265,\n",
       "        'This is Darrel. He just robbed a 7/11 and is in a high speed police chase. Was just spotted by the helicopter 10/10 https://t.co/7EsP8LmSp5']],\n",
       "      dtype=object)"
      ]
     },
     "execution_count": 54,
     "metadata": {},
     "output_type": "execute_result"
    }
   ],
   "source": [
    "twitter_archived_enhanced_valid_df[\n",
    "    twitter_archived_enhanced_valid_df.rating_denominator == 11\n",
    "][[\"tweet_id\", \"text\"]].values"
   ]
  },
  {
   "cell_type": "code",
   "execution_count": 55,
   "metadata": {},
   "outputs": [
    {
     "data": {
      "text/plain": [
       "array([[810984652412424192,\n",
       "        'Meet Sam. She smiles 24/7 &amp; secretly aspires to be a reindeer. \\nKeep Sam smiling by clicking and sharing this link:\\nhttps://t.co/98tB8y7y7t https://t.co/LouL5vdvxx']],\n",
       "      dtype=object)"
      ]
     },
     "execution_count": 55,
     "metadata": {},
     "output_type": "execute_result"
    }
   ],
   "source": [
    "twitter_archived_enhanced_valid_df[\n",
    "    twitter_archived_enhanced_valid_df.rating_denominator == 7\n",
    "][[\"tweet_id\", \"text\"]].values"
   ]
  },
  {
   "cell_type": "code",
   "execution_count": 56,
   "metadata": {},
   "outputs": [
    {
     "data": {
      "text/plain": [
       "array([[722974582966214656,\n",
       "        'Happy 4/20 from the squad! 13/10 for all https://t.co/eV1diwds8a']],\n",
       "      dtype=object)"
      ]
     },
     "execution_count": 56,
     "metadata": {},
     "output_type": "execute_result"
    }
   ],
   "source": [
    "twitter_archived_enhanced_valid_df[\n",
    "    twitter_archived_enhanced_valid_df.rating_denominator == 20\n",
    "][[\"tweet_id\", \"text\"]].values"
   ]
  },
  {
   "cell_type": "code",
   "execution_count": 57,
   "metadata": {},
   "outputs": [
    {
     "data": {
      "text/plain": [
       "array([[666287406224695296,\n",
       "        'This is an Albanian 3 1/2 legged  Episcopalian. Loves well-polished hardwood flooring. Penis on the collar. 9/10 https://t.co/d9NcXFKwLv']],\n",
       "      dtype=object)"
      ]
     },
     "execution_count": 57,
     "metadata": {},
     "output_type": "execute_result"
    }
   ],
   "source": [
    "twitter_archived_enhanced_valid_df[\n",
    "    twitter_archived_enhanced_valid_df.rating_denominator == 2\n",
    "][[\"tweet_id\", \"text\"]].values"
   ]
  },
  {
   "cell_type": "markdown",
   "metadata": {},
   "source": [
    "<span style=\"color: red;\">Now let's check the names:</span>"
   ]
  },
  {
   "cell_type": "code",
   "execution_count": 58,
   "metadata": {},
   "outputs": [
    {
     "data": {
      "text/plain": [
       "None          603\n",
       "a              55\n",
       "Lucy           11\n",
       "Charlie        11\n",
       "Oliver         10\n",
       "             ... \n",
       "Lenox           1\n",
       "Harvey          1\n",
       "Blanket         1\n",
       "Burt            1\n",
       "Christoper      1\n",
       "Name: name, Length: 955, dtype: int64"
      ]
     },
     "execution_count": 58,
     "metadata": {},
     "output_type": "execute_result"
    }
   ],
   "source": [
    "twitter_archived_enhanced_valid_df.name.value_counts()"
   ]
  },
  {
   "cell_type": "code",
   "execution_count": 59,
   "metadata": {},
   "outputs": [
    {
     "data": {
      "text/plain": [
       "array([[881536004380872706,\n",
       "        'Here is a pupper approaching maximum borkdrive. Zooming at never before seen speeds. 14/10 paw-inspiring af \\n(IG: puffie_the_chow) https://t.co/ghXBIIeQZF'],\n",
       "       [792913359805018113,\n",
       "        'Here is a perfect example of someone who has their priorities in order. 13/10 for both owner and Forrest https://t.co/LRyMrU7Wfq'],\n",
       "       [772581559778025472,\n",
       "        'Guys this is getting so out of hand. We only rate dogs. This is a Galapagos Speed Panda. Pls only send dogs... 10/10 https://t.co/8lpAGaZRFn'],\n",
       "       [747885874273214464,\n",
       "        'This is a mighty rare blue-tailed hammer sherk. Human almost lost a limb trying to take these. Be careful guys. 8/10 https://t.co/TGenMeXreW'],\n",
       "       [747816857231626240,\n",
       "        'Viewer discretion is advised. This is a terrible attack in progress. Not even in water (tragic af). 4/10 bad sherk https://t.co/L3U0j14N5R'],\n",
       "       [746872823977771008,\n",
       "        'This is a carrot. We only rate dogs. Please only send in dogs. You all really should know this by now ...11/10 https://t.co/9e48aPrBm2'],\n",
       "       [743222593470234624,\n",
       "        'This is a very rare Great Alaskan Bush Pupper. Hard to stumble upon without spooking. 12/10 would pet passionately https://t.co/xOBKCdpzaa'],\n",
       "       [717537687239008257,\n",
       "        'People please. This is a Deadly Mediterranean Plop T-Rex. We only rate dogs. Only send in dogs. Thanks you... 11/10 https://t.co/2ATDsgHD4n'],\n",
       "       [715733265223708672,\n",
       "        'This is a taco. We only rate dogs. Please only send in dogs. Dogs are what we rate. Not tacos. Thank you... 10/10 https://t.co/cxl6xGY8B9'],\n",
       "       [704859558691414016,\n",
       "        'Here is a heartbreaking scene of an incredible pupper being laid to rest. 10/10 RIP pupper https://t.co/81mvJ0rGRu'],\n",
       "       [704054845121142784,\n",
       "        \"Here is a whole flock of puppers.  60/50 I'll take the lot https://t.co/9dpcw6MdWa\"],\n",
       "       [703079050210877440,\n",
       "        \"This is a Butternut Cumberfloof. It's not windy they just look like that. 11/10 back at it again with the red socks https://t.co/hMjzhdUHaW\"],\n",
       "       [702539513671897089,\n",
       "        'This is a Wild Tuscan Poofwiggle. Careful not to startle. Rare tongue slip. One eye magical. 12/10 would def pet https://t.co/4EnShAQjv6'],\n",
       "       [700864154249383937,\n",
       "        '\"Pupper is a present to world. Here is a bow for pupper.\" 12/10 precious as hell https://t.co/ItSsE92gCW'],\n",
       "       [692187005137076224,\n",
       "        'This is a rare Arctic Wubberfloof. Unamused by the happenings. No longer has the appetites. 12/10 would totally hug https://t.co/krvbacIX0N'],\n",
       "       [679530280114372609,\n",
       "        \"Guys this really needs to stop. We've been over this way too many times. This is a giraffe. We only rate dogs.. 7/10 https://t.co/yavgkHYPOC\"],\n",
       "       [677644091929329666,\n",
       "        'This is a dog swinging. I really enjoyed it so I hope you all do as well. 11/10 https://t.co/Ozo9KHTRND'],\n",
       "       [675706639471788032,\n",
       "        \"This is a Sizzlin Menorah spaniel from Brooklyn named Wylie. Lovable eyes. Chiller as hell. 10/10 and I'm out.. poof https://t.co/7E0AiJXPmI\"],\n",
       "       [675534494439489536,\n",
       "        'Seriously guys?! Only send in dogs. I only rate dogs. This is a baby black bear... 11/10 https://t.co/H7kpabTfLj'],\n",
       "       [675109292475830276,\n",
       "        \"C'mon guys. We've been over this. We only rate dogs. This is a cow. Please only submit dogs. Thank you...... 9/10 https://t.co/WjcELNEqN2\"],\n",
       "       [675047298674663426,\n",
       "        'This is a fluffy albino Bacardi Columbia mix. Excellent at the tweets. 11/10 would hug gently https://t.co/diboDRUuEI'],\n",
       "       [674082852460433408,\n",
       "        'This is a Sagitariot Baklava mix. Loves her new hat. 11/10 radiant pup https://t.co/Bko5kFJYUU'],\n",
       "       [673715861853720576,\n",
       "        'This is a heavily opinionated dog. Loves walls. Nobody knows how the hair works. Always ready for a kiss. 4/10 https://t.co/dFiaKZ9cDl'],\n",
       "       [673636718965334016,\n",
       "        'This is a Lofted Aphrodisiac Terrier named Kip. Big fan of bed n breakfasts. Fits perfectly. 10/10 would pet firmly https://t.co/gKlLpNzIl3'],\n",
       "       [672604026190569472,\n",
       "        'This is a baby Rand Paul. Curls for days. 11/10 would cuddle the hell out of https://t.co/xHXNaPAYRe'],\n",
       "       [671743150407421952,\n",
       "        'This is a Tuscaloosa Alcatraz named Jacob (Yacōb). Loves to sit in swing. Stellar tongue. 11/10 look at his feet https://t.co/2IslQ8ZSc7'],\n",
       "       [671147085991960577,\n",
       "        \"This is a Helvetica Listerine named Rufus. This time Rufus will be ready for the UPS guy. He'll never expect it 9/10 https://t.co/34OhVhMkVr\"],\n",
       "       [670427002554466305,\n",
       "        'This is a Deciduous Trimester mix named Spork. Only 1 ear works. No seat belt. Incredibly reckless. 9/10 still cute https://t.co/CtuJoLHiDo'],\n",
       "       [670361874861563904,\n",
       "        \"This is a Rich Mahogany Seltzer named Cherokee. Just got destroyed by a snowball. Isn't very happy about it. 9/10 https://t.co/98ZBi6o4dj\"],\n",
       "       [670303360680108032,\n",
       "        \"This is a Speckled Cauliflower Yosemite named Hemry. He's terrified of intruder dog. Not one bit comfortable. 9/10 https://t.co/yV3Qgjh8iN\"],\n",
       "       [669923323644657664,\n",
       "        \"This is a spotted Lipitor Rumpelstiltskin named Alphred. He can't wait for the Turkey. 10/10 would pet really well https://t.co/6GUGO7azNX\"],\n",
       "       [669661792646373376,\n",
       "        \"This is a brave dog. Excellent free climber. Trying to get closer to God. Not very loyal though. Doesn't bark. 5/10 https://t.co/ODnILTr4QM\"],\n",
       "       [669564461267722241,\n",
       "        'This is a Coriander Baton Rouge named Alfredo. Loves to cuddle with smaller well-dressed dog. 10/10 would hug lots https://t.co/eCRdwouKCl'],\n",
       "       [668955713004314625,\n",
       "        'This is a Slovakian Helter Skelter Feta named Leroi. Likes to skip on roofs. Good traction. Much balance. 10/10 wow! https://t.co/Dmy2mY2Qj5'],\n",
       "       [668815180734689280,\n",
       "        'This is a wild Toblerone from Papua New Guinea. Mouth always open. Addicted to hay. Acts blind. 7/10 handsome dog https://t.co/IGmVbz07tZ'],\n",
       "       [668614819948453888,\n",
       "        'Here is a horned dog. Much grace. Can jump over moons (dam!). Paws not soft. Bad at barking. 7/10 can still pet tho https://t.co/2Su7gmsnZm'],\n",
       "       [668507509523615744,\n",
       "        'This is a Birmingham Quagmire named Chuk. Loves to relax and watch the game while sippin on that iced mocha. 10/10 https://t.co/HvNg9JWxFt'],\n",
       "       [668466899341221888,\n",
       "        \"Here is a mother dog caring for her pups. Snazzy red mohawk. Doesn't wag tail. Pups look confused. Overall 4/10 https://t.co/YOHe6lf09m\"],\n",
       "       [668171859951755264,\n",
       "        'This is a Trans Siberian Kellogg named Alfonso. Huge ass eyeballs. Actually Dobby from Harry Potter. 7/10 https://t.co/XpseHBlAAb'],\n",
       "       [667861340749471744,\n",
       "        'This is a Shotokon Macadamia mix named Cheryl. Sophisticated af. Looks like a disappointed librarian. Shh (lol) 9/10 https://t.co/J4GnJ5Swba'],\n",
       "       [667773195014021121,\n",
       "        'This is a rare Hungarian Pinot named Jessiga. She is either mid-stroke or got stuck in the washing machine. 8/10 https://t.co/ZU0i0KJyqD'],\n",
       "       [667538891197542400,\n",
       "        'This is a southwest Coriander named Klint. Hat looks expensive. Still on house arrest :(\\n9/10 https://t.co/IQTOMqDUIe'],\n",
       "       [667470559035432960,\n",
       "        'This is a northern Wahoo named Kohl. He runs this town. Chases tumbleweeds. Draws gun wicked fast. 11/10 legendary https://t.co/J4vn2rOYFk'],\n",
       "       [667177989038297088,\n",
       "        \"This is a Dasani Kingfisher from Maine. His name is Daryl. Daryl doesn't like being swallowed by a panda. 8/10 https://t.co/jpaeu6LNmW\"],\n",
       "       [666983947667116034,\n",
       "        'This is a curly Ticonderoga named Pepe. No feet. Loves to jet ski. 11/10 would hug until forever https://t.co/cyDfaK8NBc'],\n",
       "       [666781792255496192,\n",
       "        'This is a purebred Bacardi named Octaviath. Can shoot spaghetti out of mouth. 10/10 https://t.co/uEvsGLOFHa'],\n",
       "       [666701168228331520,\n",
       "        'This is a golden Buckminsterfullerene named Johm. Drives trucks. Lumberjack (?). Enjoys wall. 8/10 would hug softly https://t.co/uQbZJM2DQB'],\n",
       "       [666407126856765440,\n",
       "        'This is a southern Vesuvius bumblegruff. Can drive a truck (wow). Made friends with 5 other nifty dogs (neat). 7/10 https://t.co/LopTBkKa8h'],\n",
       "       [666293911632134144,\n",
       "        \"This is a funny dog. Weird toes. Won't come down. Loves branch. Refuses to eat his food. Hard to cuddle with. 3/10 https://t.co/IIXis0zta0\"],\n",
       "       [666057090499244032,\n",
       "        'My oh my. This is a rare blond Canadian terrier on wheels. Only $8.98. Rather docile. 9/10 very rare https://t.co/yWBqbrzy8O'],\n",
       "       [666055525042405380,\n",
       "        'Here is a Siberian heavily armored polar bear mix. Strong owner. 10/10 I would do unspeakable things to pet this dog https://t.co/rdivxLiqEt'],\n",
       "       [666050758794694657,\n",
       "        'This is a truly beautiful English Wilson Staff retriever. Has a nice phone. Privileged. 10/10 would trade lives with https://t.co/fvIbQfHjIe'],\n",
       "       [666044226329800704,\n",
       "        'This is a purebred Piers Morgan. Loves to Netflix and chill. Always looks like he forgot to unplug the iron. 6/10 https://t.co/DWnyCjf2mx'],\n",
       "       [666033412701032449,\n",
       "        'Here is a very happy pup. Big fan of well-maintained decks. Just look at that tongue. 9/10 would cuddle af https://t.co/y671yMhoiR'],\n",
       "       [666029285002620928,\n",
       "        'This is a western brown Mitsubishi terrier. Upset about leaf. Actually 2 dogs here. 7/10 would walk the shit out of https://t.co/r7mOb2m0UI']],\n",
       "      dtype=object)"
      ]
     },
     "execution_count": 59,
     "metadata": {},
     "output_type": "execute_result"
    }
   ],
   "source": [
    "twitter_archived_enhanced_valid_df[twitter_archived_enhanced_valid_df.name == \"a\"][[\"tweet_id\", \"text\"]].values"
   ]
  },
  {
   "cell_type": "markdown",
   "metadata": {},
   "source": [
    "<span style=\"color: red;\">Now let's check the stages:</span>"
   ]
  },
  {
   "cell_type": "code",
   "execution_count": 60,
   "metadata": {},
   "outputs": [
    {
     "data": {
      "text/plain": [
       "None     2014\n",
       "doggo      83\n",
       "Name: doggo, dtype: int64"
      ]
     },
     "execution_count": 60,
     "metadata": {},
     "output_type": "execute_result"
    }
   ],
   "source": [
    "twitter_archived_enhanced_valid_df.doggo.value_counts()"
   ]
  },
  {
   "cell_type": "code",
   "execution_count": 61,
   "metadata": {},
   "outputs": [
    {
     "data": {
      "text/plain": [
       "None       2087\n",
       "floofer      10\n",
       "Name: floofer, dtype: int64"
      ]
     },
     "execution_count": 61,
     "metadata": {},
     "output_type": "execute_result"
    }
   ],
   "source": [
    "twitter_archived_enhanced_valid_df.floofer.value_counts()"
   ]
  },
  {
   "cell_type": "code",
   "execution_count": 62,
   "metadata": {},
   "outputs": [
    {
     "data": {
      "text/plain": [
       "None      1867\n",
       "pupper     230\n",
       "Name: pupper, dtype: int64"
      ]
     },
     "execution_count": 62,
     "metadata": {},
     "output_type": "execute_result"
    }
   ],
   "source": [
    "twitter_archived_enhanced_valid_df.pupper.value_counts()"
   ]
  },
  {
   "cell_type": "code",
   "execution_count": 63,
   "metadata": {},
   "outputs": [
    {
     "data": {
      "text/plain": [
       "None     2073\n",
       "puppo      24\n",
       "Name: puppo, dtype: int64"
      ]
     },
     "execution_count": 63,
     "metadata": {},
     "output_type": "execute_result"
    }
   ],
   "source": [
    "twitter_archived_enhanced_valid_df.puppo.value_counts()"
   ]
  },
  {
   "cell_type": "markdown",
   "metadata": {},
   "source": [
    "### image_predictions_df<a class=\"anchor\" id=\"image-predictions-df\"></a>"
   ]
  },
  {
   "cell_type": "code",
   "execution_count": 64,
   "metadata": {},
   "outputs": [
    {
     "name": "stdout",
     "output_type": "stream",
     "text": [
      "<class 'pandas.core.frame.DataFrame'>\n",
      "RangeIndex: 2075 entries, 0 to 2074\n",
      "Data columns (total 12 columns):\n",
      " #   Column    Non-Null Count  Dtype  \n",
      "---  ------    --------------  -----  \n",
      " 0   tweet_id  2075 non-null   int64  \n",
      " 1   jpg_url   2075 non-null   object \n",
      " 2   img_num   2075 non-null   int64  \n",
      " 3   p1        2075 non-null   object \n",
      " 4   p1_conf   2075 non-null   float64\n",
      " 5   p1_dog    2075 non-null   bool   \n",
      " 6   p2        2075 non-null   object \n",
      " 7   p2_conf   2075 non-null   float64\n",
      " 8   p2_dog    2075 non-null   bool   \n",
      " 9   p3        2075 non-null   object \n",
      " 10  p3_conf   2075 non-null   float64\n",
      " 11  p3_dog    2075 non-null   bool   \n",
      "dtypes: bool(3), float64(3), int64(2), object(4)\n",
      "memory usage: 152.1+ KB\n"
     ]
    }
   ],
   "source": [
    "image_predictions_df.info()"
   ]
  },
  {
   "cell_type": "code",
   "execution_count": 65,
   "metadata": {},
   "outputs": [
    {
     "data": {
      "text/html": [
       "<div>\n",
       "<style scoped>\n",
       "    .dataframe tbody tr th:only-of-type {\n",
       "        vertical-align: middle;\n",
       "    }\n",
       "\n",
       "    .dataframe tbody tr th {\n",
       "        vertical-align: top;\n",
       "    }\n",
       "\n",
       "    .dataframe thead th {\n",
       "        text-align: right;\n",
       "    }\n",
       "</style>\n",
       "<table border=\"1\" class=\"dataframe\">\n",
       "  <thead>\n",
       "    <tr style=\"text-align: right;\">\n",
       "      <th></th>\n",
       "      <th>tweet_id</th>\n",
       "      <th>jpg_url</th>\n",
       "      <th>img_num</th>\n",
       "      <th>p1</th>\n",
       "      <th>p1_conf</th>\n",
       "      <th>p1_dog</th>\n",
       "      <th>p2</th>\n",
       "      <th>p2_conf</th>\n",
       "      <th>p2_dog</th>\n",
       "      <th>p3</th>\n",
       "      <th>p3_conf</th>\n",
       "      <th>p3_dog</th>\n",
       "    </tr>\n",
       "  </thead>\n",
       "  <tbody>\n",
       "    <tr>\n",
       "      <th>0</th>\n",
       "      <td>666020888022790149</td>\n",
       "      <td>https://pbs.twimg.com/media/CT4udn0WwAA0aMy.jpg</td>\n",
       "      <td>1</td>\n",
       "      <td>Welsh_springer_spaniel</td>\n",
       "      <td>0.465074</td>\n",
       "      <td>True</td>\n",
       "      <td>collie</td>\n",
       "      <td>0.156665</td>\n",
       "      <td>True</td>\n",
       "      <td>Shetland_sheepdog</td>\n",
       "      <td>0.061428</td>\n",
       "      <td>True</td>\n",
       "    </tr>\n",
       "    <tr>\n",
       "      <th>1</th>\n",
       "      <td>666029285002620928</td>\n",
       "      <td>https://pbs.twimg.com/media/CT42GRgUYAA5iDo.jpg</td>\n",
       "      <td>1</td>\n",
       "      <td>redbone</td>\n",
       "      <td>0.506826</td>\n",
       "      <td>True</td>\n",
       "      <td>miniature_pinscher</td>\n",
       "      <td>0.074192</td>\n",
       "      <td>True</td>\n",
       "      <td>Rhodesian_ridgeback</td>\n",
       "      <td>0.072010</td>\n",
       "      <td>True</td>\n",
       "    </tr>\n",
       "    <tr>\n",
       "      <th>2</th>\n",
       "      <td>666033412701032449</td>\n",
       "      <td>https://pbs.twimg.com/media/CT4521TWwAEvMyu.jpg</td>\n",
       "      <td>1</td>\n",
       "      <td>German_shepherd</td>\n",
       "      <td>0.596461</td>\n",
       "      <td>True</td>\n",
       "      <td>malinois</td>\n",
       "      <td>0.138584</td>\n",
       "      <td>True</td>\n",
       "      <td>bloodhound</td>\n",
       "      <td>0.116197</td>\n",
       "      <td>True</td>\n",
       "    </tr>\n",
       "    <tr>\n",
       "      <th>3</th>\n",
       "      <td>666044226329800704</td>\n",
       "      <td>https://pbs.twimg.com/media/CT5Dr8HUEAA-lEu.jpg</td>\n",
       "      <td>1</td>\n",
       "      <td>Rhodesian_ridgeback</td>\n",
       "      <td>0.408143</td>\n",
       "      <td>True</td>\n",
       "      <td>redbone</td>\n",
       "      <td>0.360687</td>\n",
       "      <td>True</td>\n",
       "      <td>miniature_pinscher</td>\n",
       "      <td>0.222752</td>\n",
       "      <td>True</td>\n",
       "    </tr>\n",
       "    <tr>\n",
       "      <th>4</th>\n",
       "      <td>666049248165822465</td>\n",
       "      <td>https://pbs.twimg.com/media/CT5IQmsXIAAKY4A.jpg</td>\n",
       "      <td>1</td>\n",
       "      <td>miniature_pinscher</td>\n",
       "      <td>0.560311</td>\n",
       "      <td>True</td>\n",
       "      <td>Rottweiler</td>\n",
       "      <td>0.243682</td>\n",
       "      <td>True</td>\n",
       "      <td>Doberman</td>\n",
       "      <td>0.154629</td>\n",
       "      <td>True</td>\n",
       "    </tr>\n",
       "  </tbody>\n",
       "</table>\n",
       "</div>"
      ],
      "text/plain": [
       "             tweet_id                                          jpg_url  \\\n",
       "0  666020888022790149  https://pbs.twimg.com/media/CT4udn0WwAA0aMy.jpg   \n",
       "1  666029285002620928  https://pbs.twimg.com/media/CT42GRgUYAA5iDo.jpg   \n",
       "2  666033412701032449  https://pbs.twimg.com/media/CT4521TWwAEvMyu.jpg   \n",
       "3  666044226329800704  https://pbs.twimg.com/media/CT5Dr8HUEAA-lEu.jpg   \n",
       "4  666049248165822465  https://pbs.twimg.com/media/CT5IQmsXIAAKY4A.jpg   \n",
       "\n",
       "   img_num                      p1   p1_conf  p1_dog                  p2  \\\n",
       "0        1  Welsh_springer_spaniel  0.465074    True              collie   \n",
       "1        1                 redbone  0.506826    True  miniature_pinscher   \n",
       "2        1         German_shepherd  0.596461    True            malinois   \n",
       "3        1     Rhodesian_ridgeback  0.408143    True             redbone   \n",
       "4        1      miniature_pinscher  0.560311    True          Rottweiler   \n",
       "\n",
       "    p2_conf  p2_dog                   p3   p3_conf  p3_dog  \n",
       "0  0.156665    True    Shetland_sheepdog  0.061428    True  \n",
       "1  0.074192    True  Rhodesian_ridgeback  0.072010    True  \n",
       "2  0.138584    True           bloodhound  0.116197    True  \n",
       "3  0.360687    True   miniature_pinscher  0.222752    True  \n",
       "4  0.243682    True             Doberman  0.154629    True  "
      ]
     },
     "execution_count": 65,
     "metadata": {},
     "output_type": "execute_result"
    }
   ],
   "source": [
    "image_predictions_df.head()"
   ]
  },
  {
   "cell_type": "code",
   "execution_count": 66,
   "metadata": {},
   "outputs": [
    {
     "data": {
      "text/plain": [
       "2075"
      ]
     },
     "execution_count": 66,
     "metadata": {},
     "output_type": "execute_result"
    }
   ],
   "source": [
    "image_predictions_df.shape[0]  # There's a different number of records from twitter_archived_enhanced_df"
   ]
  },
  {
   "cell_type": "markdown",
   "metadata": {},
   "source": [
    "<span style=\"color: red;\">How many dog preditions are there? Are there any rows without a dog prediction?</span>"
   ]
  },
  {
   "cell_type": "code",
   "execution_count": 67,
   "metadata": {},
   "outputs": [
    {
     "data": {
      "text/plain": [
       "1751"
      ]
     },
     "execution_count": 67,
     "metadata": {},
     "output_type": "execute_result"
    }
   ],
   "source": [
    "(image_predictions_df.p1_dog | image_predictions_df.p2_dog | image_predictions_df.p3_dog).sum()"
   ]
  },
  {
   "cell_type": "code",
   "execution_count": 68,
   "metadata": {},
   "outputs": [
    {
     "data": {
      "text/plain": [
       "324"
      ]
     },
     "execution_count": 68,
     "metadata": {},
     "output_type": "execute_result"
    }
   ],
   "source": [
    "((~image_predictions_df.p1_dog) & (~image_predictions_df.p2_dog) & (~image_predictions_df.p3_dog)).sum()"
   ]
  },
  {
   "cell_type": "code",
   "execution_count": 69,
   "metadata": {},
   "outputs": [
    {
     "data": {
      "text/html": [
       "<div>\n",
       "<style scoped>\n",
       "    .dataframe tbody tr th:only-of-type {\n",
       "        vertical-align: middle;\n",
       "    }\n",
       "\n",
       "    .dataframe tbody tr th {\n",
       "        vertical-align: top;\n",
       "    }\n",
       "\n",
       "    .dataframe thead th {\n",
       "        text-align: right;\n",
       "    }\n",
       "</style>\n",
       "<table border=\"1\" class=\"dataframe\">\n",
       "  <thead>\n",
       "    <tr style=\"text-align: right;\">\n",
       "      <th></th>\n",
       "      <th>tweet_id</th>\n",
       "      <th>jpg_url</th>\n",
       "      <th>img_num</th>\n",
       "      <th>p1</th>\n",
       "      <th>p1_conf</th>\n",
       "      <th>p1_dog</th>\n",
       "      <th>p2</th>\n",
       "      <th>p2_conf</th>\n",
       "      <th>p2_dog</th>\n",
       "      <th>p3</th>\n",
       "      <th>p3_conf</th>\n",
       "      <th>p3_dog</th>\n",
       "    </tr>\n",
       "  </thead>\n",
       "  <tbody>\n",
       "    <tr>\n",
       "      <th>6</th>\n",
       "      <td>666051853826850816</td>\n",
       "      <td>https://pbs.twimg.com/media/CT5KoJ1WoAAJash.jpg</td>\n",
       "      <td>1</td>\n",
       "      <td>box_turtle</td>\n",
       "      <td>0.933012</td>\n",
       "      <td>False</td>\n",
       "      <td>mud_turtle</td>\n",
       "      <td>0.045885</td>\n",
       "      <td>False</td>\n",
       "      <td>terrapin</td>\n",
       "      <td>0.017885</td>\n",
       "      <td>False</td>\n",
       "    </tr>\n",
       "    <tr>\n",
       "      <th>17</th>\n",
       "      <td>666104133288665088</td>\n",
       "      <td>https://pbs.twimg.com/media/CT56LSZWoAAlJj2.jpg</td>\n",
       "      <td>1</td>\n",
       "      <td>hen</td>\n",
       "      <td>0.965932</td>\n",
       "      <td>False</td>\n",
       "      <td>cock</td>\n",
       "      <td>0.033919</td>\n",
       "      <td>False</td>\n",
       "      <td>partridge</td>\n",
       "      <td>0.000052</td>\n",
       "      <td>False</td>\n",
       "    </tr>\n",
       "    <tr>\n",
       "      <th>18</th>\n",
       "      <td>666268910803644416</td>\n",
       "      <td>https://pbs.twimg.com/media/CT8QCd1WEAADXws.jpg</td>\n",
       "      <td>1</td>\n",
       "      <td>desktop_computer</td>\n",
       "      <td>0.086502</td>\n",
       "      <td>False</td>\n",
       "      <td>desk</td>\n",
       "      <td>0.085547</td>\n",
       "      <td>False</td>\n",
       "      <td>bookcase</td>\n",
       "      <td>0.079480</td>\n",
       "      <td>False</td>\n",
       "    </tr>\n",
       "    <tr>\n",
       "      <th>21</th>\n",
       "      <td>666293911632134144</td>\n",
       "      <td>https://pbs.twimg.com/media/CT8mx7KW4AEQu8N.jpg</td>\n",
       "      <td>1</td>\n",
       "      <td>three-toed_sloth</td>\n",
       "      <td>0.914671</td>\n",
       "      <td>False</td>\n",
       "      <td>otter</td>\n",
       "      <td>0.015250</td>\n",
       "      <td>False</td>\n",
       "      <td>great_grey_owl</td>\n",
       "      <td>0.013207</td>\n",
       "      <td>False</td>\n",
       "    </tr>\n",
       "    <tr>\n",
       "      <th>25</th>\n",
       "      <td>666362758909284353</td>\n",
       "      <td>https://pbs.twimg.com/media/CT9lXGsUcAAyUFt.jpg</td>\n",
       "      <td>1</td>\n",
       "      <td>guinea_pig</td>\n",
       "      <td>0.996496</td>\n",
       "      <td>False</td>\n",
       "      <td>skunk</td>\n",
       "      <td>0.002402</td>\n",
       "      <td>False</td>\n",
       "      <td>hamster</td>\n",
       "      <td>0.000461</td>\n",
       "      <td>False</td>\n",
       "    </tr>\n",
       "  </tbody>\n",
       "</table>\n",
       "</div>"
      ],
      "text/plain": [
       "              tweet_id                                          jpg_url  \\\n",
       "6   666051853826850816  https://pbs.twimg.com/media/CT5KoJ1WoAAJash.jpg   \n",
       "17  666104133288665088  https://pbs.twimg.com/media/CT56LSZWoAAlJj2.jpg   \n",
       "18  666268910803644416  https://pbs.twimg.com/media/CT8QCd1WEAADXws.jpg   \n",
       "21  666293911632134144  https://pbs.twimg.com/media/CT8mx7KW4AEQu8N.jpg   \n",
       "25  666362758909284353  https://pbs.twimg.com/media/CT9lXGsUcAAyUFt.jpg   \n",
       "\n",
       "    img_num                p1   p1_conf  p1_dog          p2   p2_conf  p2_dog  \\\n",
       "6         1        box_turtle  0.933012   False  mud_turtle  0.045885   False   \n",
       "17        1               hen  0.965932   False        cock  0.033919   False   \n",
       "18        1  desktop_computer  0.086502   False        desk  0.085547   False   \n",
       "21        1  three-toed_sloth  0.914671   False       otter  0.015250   False   \n",
       "25        1        guinea_pig  0.996496   False       skunk  0.002402   False   \n",
       "\n",
       "                p3   p3_conf  p3_dog  \n",
       "6         terrapin  0.017885   False  \n",
       "17       partridge  0.000052   False  \n",
       "18        bookcase  0.079480   False  \n",
       "21  great_grey_owl  0.013207   False  \n",
       "25         hamster  0.000461   False  "
      ]
     },
     "execution_count": 69,
     "metadata": {},
     "output_type": "execute_result"
    }
   ],
   "source": [
    "image_predictions_df[(~image_predictions_df.p1_dog) & (~image_predictions_df.p2_dog) & (~image_predictions_df.p3_dog)].head()"
   ]
  },
  {
   "cell_type": "markdown",
   "metadata": {},
   "source": [
    "<span style=\"color: red;\">Are the confidence values consistent?</span>"
   ]
  },
  {
   "cell_type": "code",
   "execution_count": 70,
   "metadata": {},
   "outputs": [
    {
     "data": {
      "text/plain": [
       "count    2075.000000\n",
       "mean        0.594548\n",
       "std         0.271174\n",
       "min         0.044333\n",
       "25%         0.364412\n",
       "50%         0.588230\n",
       "75%         0.843855\n",
       "max         1.000000\n",
       "Name: p1_conf, dtype: float64"
      ]
     },
     "execution_count": 70,
     "metadata": {},
     "output_type": "execute_result"
    }
   ],
   "source": [
    "image_predictions_df.p1_conf.describe()"
   ]
  },
  {
   "cell_type": "code",
   "execution_count": 71,
   "metadata": {},
   "outputs": [
    {
     "data": {
      "text/plain": [
       "count    2.075000e+03\n",
       "mean     1.345886e-01\n",
       "std      1.006657e-01\n",
       "min      1.011300e-08\n",
       "25%      5.388625e-02\n",
       "50%      1.181810e-01\n",
       "75%      1.955655e-01\n",
       "max      4.880140e-01\n",
       "Name: p2_conf, dtype: float64"
      ]
     },
     "execution_count": 71,
     "metadata": {},
     "output_type": "execute_result"
    }
   ],
   "source": [
    "image_predictions_df.p2_conf.describe()"
   ]
  },
  {
   "cell_type": "code",
   "execution_count": 72,
   "metadata": {},
   "outputs": [
    {
     "data": {
      "text/plain": [
       "count    2.075000e+03\n",
       "mean     6.032417e-02\n",
       "std      5.090593e-02\n",
       "min      1.740170e-10\n",
       "25%      1.622240e-02\n",
       "50%      4.944380e-02\n",
       "75%      9.180755e-02\n",
       "max      2.734190e-01\n",
       "Name: p3_conf, dtype: float64"
      ]
     },
     "execution_count": 72,
     "metadata": {},
     "output_type": "execute_result"
    }
   ],
   "source": [
    "image_predictions_df.p3_conf.describe()"
   ]
  },
  {
   "cell_type": "markdown",
   "metadata": {},
   "source": [
    "<span style=\"color: red;\">Anything weird on the dog breeds?</span>"
   ]
  },
  {
   "cell_type": "code",
   "execution_count": 73,
   "metadata": {},
   "outputs": [
    {
     "data": {
      "text/plain": [
       "golden_retriever      150\n",
       "Labrador_retriever    100\n",
       "Pembroke               89\n",
       "Chihuahua              83\n",
       "pug                    57\n",
       "                     ... \n",
       "Japanese_spaniel        1\n",
       "Scotch_terrier          1\n",
       "standard_schnauzer      1\n",
       "EntleBucher             1\n",
       "clumber                 1\n",
       "Name: p1, Length: 111, dtype: int64"
      ]
     },
     "execution_count": 73,
     "metadata": {},
     "output_type": "execute_result"
    }
   ],
   "source": [
    "image_predictions_df[image_predictions_df.p1_dog].p1.value_counts()"
   ]
  },
  {
   "cell_type": "code",
   "execution_count": 74,
   "metadata": {},
   "outputs": [
    {
     "data": {
      "text/plain": [
       "Labrador_retriever      104\n",
       "golden_retriever         92\n",
       "Cardigan                 73\n",
       "Chihuahua                44\n",
       "Pomeranian               42\n",
       "                       ... \n",
       "affenpinscher             1\n",
       "Japanese_spaniel          1\n",
       "Kerry_blue_terrier        1\n",
       "komondor                  1\n",
       "Bernese_mountain_dog      1\n",
       "Name: p2, Length: 113, dtype: int64"
      ]
     },
     "execution_count": 74,
     "metadata": {},
     "output_type": "execute_result"
    }
   ],
   "source": [
    "image_predictions_df[image_predictions_df.p2_dog].p2.value_counts()"
   ]
  },
  {
   "cell_type": "code",
   "execution_count": 75,
   "metadata": {},
   "outputs": [
    {
     "data": {
      "text/plain": [
       "Labrador_retriever    79\n",
       "Chihuahua             58\n",
       "golden_retriever      48\n",
       "Eskimo_dog            38\n",
       "kelpie                35\n",
       "                      ..\n",
       "Irish_wolfhound        2\n",
       "affenpinscher          1\n",
       "Kerry_blue_terrier     1\n",
       "standard_schnauzer     1\n",
       "Sussex_spaniel         1\n",
       "Name: p3, Length: 116, dtype: int64"
      ]
     },
     "execution_count": 75,
     "metadata": {},
     "output_type": "execute_result"
    }
   ],
   "source": [
    "image_predictions_df[image_predictions_df.p3_dog].p3.value_counts()"
   ]
  },
  {
   "cell_type": "markdown",
   "metadata": {},
   "source": [
    "### tweet_json_txt_df<a class=\"anchor\" id=\"tweet_json_txt_df\"></a>"
   ]
  },
  {
   "cell_type": "code",
   "execution_count": 76,
   "metadata": {},
   "outputs": [
    {
     "data": {
      "text/plain": [
       "{680055455951884288,\n",
       " 754011816964026368,\n",
       " 759923798737051648,\n",
       " 779123168116150273,\n",
       " 829374341691346946,\n",
       " 837366284874571778,\n",
       " 844704788403113984,\n",
       " 872261713294495745}"
      ]
     },
     "execution_count": 76,
     "metadata": {},
     "output_type": "execute_result"
    }
   ],
   "source": [
    "set(twitter_archived_enhanced_valid_df.tweet_id.values) - set(tweet_json_txt_df.tweet_id.values)  # Missing tweets"
   ]
  },
  {
   "cell_type": "markdown",
   "metadata": {},
   "source": [
    "### Quality issues<a class=\"anchor\" id=\"quality-issues\"></a>\n",
    "\n",
    "1. There are 78 replies and 181 retweets on ``twitter_archived_enhanced_df``. [(Solution)](#issue-11)\n",
    "\n",
    "2. On tweets ``820690176645140481``, ``675853064436391936``, ``677716515794329600``, ``684222868335505415``, ``697463031882764288``, ``704054845121142784``, ``709198395643068416``, ``710658690886586372``, ``713900603437621249``, ``731156023742988288``, ``758467244762497024`` there are multiple doggos with unusual ratings. [(Solution)](#issue-6)\n",
    "\n",
    "3. On tweets ``810984652412424192``, ``716439118184652801``, ``716439118184652801``, ``740373189193256964``, ``682962037429899265``, ``722974582966214656``, ``666287406224695296`` there are multiple expressions confused for ratings. [(Solution)](#issue-7)\n",
    "\n",
    "4. On tweets ``680494726643068929``, ``778027034220126208``, ``786709082849828864`` there are fractional ratings. [(Solution)](#issue-8)\n",
    "\n",
    "5. On tweet ``670842764863651840`` the rating is invalid as the subject is not a doggo. [(Solution)](#issue-14)\n",
    "\n",
    "6. Although the rating on tweet ``749981277374128128`` is technically valid (1776), we consider it an outlier. [(Solution)](#issue-15)\n",
    "\n",
    "7. Invalid name \"a\" on 55 tweets. [(Solution)](#issue-16)\n",
    "\n",
    "8. There were missing tweets when fetching the retweet and favourite counts with Twitter's API. [(Solution)](#issue-12)\n",
    "\n",
    "9. There are 324 records without a dog prediction on image_predictions_df. [(Solution)](#issue-13)"
   ]
  },
  {
   "cell_type": "markdown",
   "metadata": {
    "extensions": {
     "jupyter_dashboards": {
      "version": 1,
      "views": {
       "grid_default": {
        "col": 0,
        "height": 7,
        "hidden": false,
        "row": 40,
        "width": 12
       },
       "report_default": {
        "hidden": false
       }
      }
     }
    }
   },
   "source": [
    "### Tidiness issues<a class=\"anchor\" id=\"tidiness-issues\"></a>\n",
    "\n",
    "1. Multiple tables to represent the same observational unit: the tweet. [(Solution)](#issue-10)\n",
    "\n",
    "2. Multiple columns for the doggo stage variable. [(Solution)](#issue-4)\n",
    "\n",
    "3. Multiple columns to represent the breed prediction and confidence. [(Solution)](#issue-1)\n",
    "\n",
    "4. The predictions are a string but should be a category. [(Solution)](#issue-3)\n",
    "\n",
    "5. ``timestamp`` is a string, could be a datetime. [(Solution)](#issue-5)\n",
    "\n",
    "6. Dog breed names could be made consitent and readable. [(Solution)](#issue-2)\n",
    "\n",
    "7. The rating is a single variable represented in two columns. [(Solution)](#issue-9)"
   ]
  },
  {
   "cell_type": "markdown",
   "metadata": {
    "extensions": {
     "jupyter_dashboards": {
      "version": 1,
      "views": {
       "grid_default": {
        "col": 4,
        "height": 4,
        "hidden": false,
        "row": 32,
        "width": 4
       },
       "report_default": {
        "hidden": false
       }
      }
     }
    }
   },
   "source": [
    "## Cleaning Data<a class=\"anchor\" id=\"cleaning-data\"></a>\n",
    "In this section, clean **all** of the issues you documented while assessing. \n",
    "\n",
    "**Note:** Make a copy of the original data before cleaning. Cleaning includes merging individual pieces of data according to the rules of [tidy data](https://cran.r-project.org/web/packages/tidyr/vignettes/tidy-data.html). The result should be a high-quality and tidy master pandas DataFrame (or DataFrames, if appropriate)."
   ]
  },
  {
   "cell_type": "code",
   "execution_count": 77,
   "metadata": {},
   "outputs": [],
   "source": [
    "# Make copies of original pieces of data\n",
    "\n",
    "twitter_archived_enhanced_clean_df = twitter_archived_enhanced_df.copy()\n",
    "image_predictions_clean_df = image_predictions_df.copy()\n",
    "tweet_json_txt_clean_df = tweet_json_txt_df.copy()"
   ]
  },
  {
   "cell_type": "markdown",
   "metadata": {},
   "source": [
    "<span style=\"color: red;\">As suggested during the cleaning data lessons, we'll tackle the tidyness issues first as this makes the rest of the tasks simpler.</span>"
   ]
  },
  {
   "cell_type": "markdown",
   "metadata": {},
   "source": [
    "### Issue #1: Multiple columns to represent the breed prediction and confidence<a class=\"anchor\" id=\"issue-1\"></a>"
   ]
  },
  {
   "cell_type": "markdown",
   "metadata": {},
   "source": [
    "#### Define:"
   ]
  },
  {
   "cell_type": "markdown",
   "metadata": {},
   "source": [
    "* <span style=\"color: red;\">Turn ``p1``, ``p2`` and ``p3`` into a single ``prediction`` column which shows the first prediction of a dog breed or ``NaN`` if no dog breed prediction was made.</span>\n",
    "* <span style=\"color: red;\">Turn ``p1_conf``, ``p2_conf`` and ``p3_conf`` into a single ``prediction_confidence`` column which shows the confidence of the first prediction of a dog breed or ``NaN`` if no dog breed prediction was made.</span>"
   ]
  },
  {
   "cell_type": "markdown",
   "metadata": {},
   "source": [
    "#### Code"
   ]
  },
  {
   "cell_type": "code",
   "execution_count": 78,
   "metadata": {},
   "outputs": [
    {
     "data": {
      "text/html": [
       "<div>\n",
       "<style scoped>\n",
       "    .dataframe tbody tr th:only-of-type {\n",
       "        vertical-align: middle;\n",
       "    }\n",
       "\n",
       "    .dataframe tbody tr th {\n",
       "        vertical-align: top;\n",
       "    }\n",
       "\n",
       "    .dataframe thead th {\n",
       "        text-align: right;\n",
       "    }\n",
       "</style>\n",
       "<table border=\"1\" class=\"dataframe\">\n",
       "  <thead>\n",
       "    <tr style=\"text-align: right;\">\n",
       "      <th></th>\n",
       "      <th>tweet_id</th>\n",
       "      <th>jpg_url</th>\n",
       "      <th>img_num</th>\n",
       "      <th>p1</th>\n",
       "      <th>p1_conf</th>\n",
       "      <th>p1_dog</th>\n",
       "      <th>p2</th>\n",
       "      <th>p2_conf</th>\n",
       "      <th>p2_dog</th>\n",
       "      <th>p3</th>\n",
       "      <th>p3_conf</th>\n",
       "      <th>p3_dog</th>\n",
       "    </tr>\n",
       "  </thead>\n",
       "  <tbody>\n",
       "    <tr>\n",
       "      <th>1181</th>\n",
       "      <td>738184450748633089</td>\n",
       "      <td>https://pbs.twimg.com/media/Cj6O1G9UYAAIU-1.jpg</td>\n",
       "      <td>1</td>\n",
       "      <td>Bedlington_terrier</td>\n",
       "      <td>0.289471</td>\n",
       "      <td>True</td>\n",
       "      <td>standard_poodle</td>\n",
       "      <td>0.173685</td>\n",
       "      <td>True</td>\n",
       "      <td>Great_Pyrenees</td>\n",
       "      <td>0.157081</td>\n",
       "      <td>True</td>\n",
       "    </tr>\n",
       "    <tr>\n",
       "      <th>1902</th>\n",
       "      <td>851861385021730816</td>\n",
       "      <td>https://pbs.twimg.com/media/C8W6sY_W0AEmttW.jpg</td>\n",
       "      <td>1</td>\n",
       "      <td>pencil_box</td>\n",
       "      <td>0.662183</td>\n",
       "      <td>False</td>\n",
       "      <td>purse</td>\n",
       "      <td>0.066505</td>\n",
       "      <td>False</td>\n",
       "      <td>pillow</td>\n",
       "      <td>0.044725</td>\n",
       "      <td>False</td>\n",
       "    </tr>\n",
       "    <tr>\n",
       "      <th>441</th>\n",
       "      <td>674468880899788800</td>\n",
       "      <td>https://pbs.twimg.com/media/CVwx3dQXAAA0ksL.jpg</td>\n",
       "      <td>2</td>\n",
       "      <td>chow</td>\n",
       "      <td>0.526230</td>\n",
       "      <td>True</td>\n",
       "      <td>Pomeranian</td>\n",
       "      <td>0.283647</td>\n",
       "      <td>True</td>\n",
       "      <td>toy_poodle</td>\n",
       "      <td>0.067665</td>\n",
       "      <td>True</td>\n",
       "    </tr>\n",
       "    <tr>\n",
       "      <th>1953</th>\n",
       "      <td>863907417377173506</td>\n",
       "      <td>https://pbs.twimg.com/media/C_03NPeUQAAgrMl.jpg</td>\n",
       "      <td>1</td>\n",
       "      <td>marmot</td>\n",
       "      <td>0.358828</td>\n",
       "      <td>False</td>\n",
       "      <td>meerkat</td>\n",
       "      <td>0.174703</td>\n",
       "      <td>False</td>\n",
       "      <td>weasel</td>\n",
       "      <td>0.123485</td>\n",
       "      <td>False</td>\n",
       "    </tr>\n",
       "    <tr>\n",
       "      <th>1939</th>\n",
       "      <td>860563773140209665</td>\n",
       "      <td>https://pbs.twimg.com/media/C_FWL0vVwAA13N7.jpg</td>\n",
       "      <td>1</td>\n",
       "      <td>Cardigan</td>\n",
       "      <td>0.583936</td>\n",
       "      <td>True</td>\n",
       "      <td>Pembroke</td>\n",
       "      <td>0.055979</td>\n",
       "      <td>True</td>\n",
       "      <td>beagle</td>\n",
       "      <td>0.045896</td>\n",
       "      <td>True</td>\n",
       "    </tr>\n",
       "  </tbody>\n",
       "</table>\n",
       "</div>"
      ],
      "text/plain": [
       "                tweet_id                                          jpg_url  \\\n",
       "1181  738184450748633089  https://pbs.twimg.com/media/Cj6O1G9UYAAIU-1.jpg   \n",
       "1902  851861385021730816  https://pbs.twimg.com/media/C8W6sY_W0AEmttW.jpg   \n",
       "441   674468880899788800  https://pbs.twimg.com/media/CVwx3dQXAAA0ksL.jpg   \n",
       "1953  863907417377173506  https://pbs.twimg.com/media/C_03NPeUQAAgrMl.jpg   \n",
       "1939  860563773140209665  https://pbs.twimg.com/media/C_FWL0vVwAA13N7.jpg   \n",
       "\n",
       "      img_num                  p1   p1_conf  p1_dog               p2  \\\n",
       "1181        1  Bedlington_terrier  0.289471    True  standard_poodle   \n",
       "1902        1          pencil_box  0.662183   False            purse   \n",
       "441         2                chow  0.526230    True       Pomeranian   \n",
       "1953        1              marmot  0.358828   False          meerkat   \n",
       "1939        1            Cardigan  0.583936    True         Pembroke   \n",
       "\n",
       "       p2_conf  p2_dog              p3   p3_conf  p3_dog  \n",
       "1181  0.173685    True  Great_Pyrenees  0.157081    True  \n",
       "1902  0.066505   False          pillow  0.044725   False  \n",
       "441   0.283647    True      toy_poodle  0.067665    True  \n",
       "1953  0.174703   False          weasel  0.123485   False  \n",
       "1939  0.055979    True          beagle  0.045896    True  "
      ]
     },
     "execution_count": 78,
     "metadata": {},
     "output_type": "execute_result"
    }
   ],
   "source": [
    "image_predictions_clean_df.sample(5)"
   ]
  },
  {
   "cell_type": "code",
   "execution_count": 79,
   "metadata": {},
   "outputs": [
    {
     "data": {
      "text/plain": [
       "1751"
      ]
     },
     "execution_count": 79,
     "metadata": {},
     "output_type": "execute_result"
    }
   ],
   "source": [
    "(image_predictions_clean_df.p1_dog | image_predictions_clean_df.p2_dog | image_predictions_clean_df.p3_dog).sum()"
   ]
  },
  {
   "cell_type": "code",
   "execution_count": 80,
   "metadata": {},
   "outputs": [],
   "source": [
    "image_predictions_clean_df = pd.concat([\n",
    "    image_predictions_clean_df[image_predictions_clean_df.p1_dog][[\"tweet_id\", \"jpg_url\", \"p1\", \"p1_conf\"]].rename({\n",
    "        \"p1\": \"prediction\", \"p1_conf\": \"prediction_confidence\"\n",
    "    }, axis=1),\n",
    "    image_predictions_clean_df[(~image_predictions_clean_df.p1_dog) & image_predictions_clean_df.p2_dog][[\"tweet_id\", \"jpg_url\", \"p2\", \"p2_conf\"]].rename({\n",
    "        \"p2\": \"prediction\", \"p2_conf\": \"prediction_confidence\"\n",
    "    }, axis=1),\n",
    "    image_predictions_clean_df[(~image_predictions_clean_df.p1_dog) & (~image_predictions_clean_df.p2_dog) & image_predictions_clean_df.p3_dog][[\"tweet_id\", \"jpg_url\", \"p3\", \"p3_conf\"]].rename({\n",
    "        \"p3\": \"prediction\", \"p3_conf\": \"prediction_confidence\"\n",
    "    }, axis=1),\n",
    "    image_predictions_clean_df[~(image_predictions_clean_df.p1_dog | image_predictions_clean_df.p2_dog | image_predictions_clean_df.p3_dog)][[\"tweet_id\", \"jpg_url\"]]\n",
    "])"
   ]
  },
  {
   "cell_type": "code",
   "execution_count": 81,
   "metadata": {},
   "outputs": [
    {
     "name": "stdout",
     "output_type": "stream",
     "text": [
      "<class 'pandas.core.frame.DataFrame'>\n",
      "Int64Index: 2075 entries, 0 to 2074\n",
      "Data columns (total 4 columns):\n",
      " #   Column                 Non-Null Count  Dtype  \n",
      "---  ------                 --------------  -----  \n",
      " 0   tweet_id               2075 non-null   int64  \n",
      " 1   jpg_url                2075 non-null   object \n",
      " 2   prediction             1751 non-null   object \n",
      " 3   prediction_confidence  1751 non-null   float64\n",
      "dtypes: float64(1), int64(1), object(2)\n",
      "memory usage: 81.1+ KB\n"
     ]
    }
   ],
   "source": [
    "image_predictions_clean_df.info()"
   ]
  },
  {
   "cell_type": "code",
   "execution_count": 82,
   "metadata": {},
   "outputs": [
    {
     "data": {
      "text/html": [
       "<div>\n",
       "<style scoped>\n",
       "    .dataframe tbody tr th:only-of-type {\n",
       "        vertical-align: middle;\n",
       "    }\n",
       "\n",
       "    .dataframe tbody tr th {\n",
       "        vertical-align: top;\n",
       "    }\n",
       "\n",
       "    .dataframe thead th {\n",
       "        text-align: right;\n",
       "    }\n",
       "</style>\n",
       "<table border=\"1\" class=\"dataframe\">\n",
       "  <thead>\n",
       "    <tr style=\"text-align: right;\">\n",
       "      <th></th>\n",
       "      <th>tweet_id</th>\n",
       "      <th>jpg_url</th>\n",
       "      <th>prediction</th>\n",
       "      <th>prediction_confidence</th>\n",
       "    </tr>\n",
       "  </thead>\n",
       "  <tbody>\n",
       "    <tr>\n",
       "      <th>0</th>\n",
       "      <td>666020888022790149</td>\n",
       "      <td>https://pbs.twimg.com/media/CT4udn0WwAA0aMy.jpg</td>\n",
       "      <td>Welsh_springer_spaniel</td>\n",
       "      <td>0.465074</td>\n",
       "    </tr>\n",
       "    <tr>\n",
       "      <th>1</th>\n",
       "      <td>666029285002620928</td>\n",
       "      <td>https://pbs.twimg.com/media/CT42GRgUYAA5iDo.jpg</td>\n",
       "      <td>redbone</td>\n",
       "      <td>0.506826</td>\n",
       "    </tr>\n",
       "    <tr>\n",
       "      <th>2</th>\n",
       "      <td>666033412701032449</td>\n",
       "      <td>https://pbs.twimg.com/media/CT4521TWwAEvMyu.jpg</td>\n",
       "      <td>German_shepherd</td>\n",
       "      <td>0.596461</td>\n",
       "    </tr>\n",
       "    <tr>\n",
       "      <th>3</th>\n",
       "      <td>666044226329800704</td>\n",
       "      <td>https://pbs.twimg.com/media/CT5Dr8HUEAA-lEu.jpg</td>\n",
       "      <td>Rhodesian_ridgeback</td>\n",
       "      <td>0.408143</td>\n",
       "    </tr>\n",
       "    <tr>\n",
       "      <th>4</th>\n",
       "      <td>666049248165822465</td>\n",
       "      <td>https://pbs.twimg.com/media/CT5IQmsXIAAKY4A.jpg</td>\n",
       "      <td>miniature_pinscher</td>\n",
       "      <td>0.560311</td>\n",
       "    </tr>\n",
       "  </tbody>\n",
       "</table>\n",
       "</div>"
      ],
      "text/plain": [
       "             tweet_id                                          jpg_url  \\\n",
       "0  666020888022790149  https://pbs.twimg.com/media/CT4udn0WwAA0aMy.jpg   \n",
       "1  666029285002620928  https://pbs.twimg.com/media/CT42GRgUYAA5iDo.jpg   \n",
       "2  666033412701032449  https://pbs.twimg.com/media/CT4521TWwAEvMyu.jpg   \n",
       "3  666044226329800704  https://pbs.twimg.com/media/CT5Dr8HUEAA-lEu.jpg   \n",
       "4  666049248165822465  https://pbs.twimg.com/media/CT5IQmsXIAAKY4A.jpg   \n",
       "\n",
       "               prediction  prediction_confidence  \n",
       "0  Welsh_springer_spaniel               0.465074  \n",
       "1                 redbone               0.506826  \n",
       "2         German_shepherd               0.596461  \n",
       "3     Rhodesian_ridgeback               0.408143  \n",
       "4      miniature_pinscher               0.560311  "
      ]
     },
     "execution_count": 82,
     "metadata": {},
     "output_type": "execute_result"
    }
   ],
   "source": [
    "image_predictions_clean_df.head()"
   ]
  },
  {
   "cell_type": "markdown",
   "metadata": {},
   "source": [
    "#### Test"
   ]
  },
  {
   "cell_type": "code",
   "execution_count": 83,
   "metadata": {},
   "outputs": [],
   "source": [
    "for _, original_row in image_predictions_df.iterrows():\n",
    "    row = image_predictions_clean_df[image_predictions_clean_df.tweet_id == original_row.tweet_id].iloc[0]\n",
    "    \n",
    "    if original_row.p1_dog:\n",
    "        assert row.prediction == original_row.p1\n",
    "        assert row.prediction_confidence == original_row.p1_conf\n",
    "    elif original_row.p2_dog:\n",
    "        assert row.prediction == original_row.p2\n",
    "        assert row.prediction_confidence == original_row.p2_conf\n",
    "    elif original_row.p3_dog:\n",
    "        assert row.prediction == original_row.p3\n",
    "        assert row.prediction_confidence == original_row.p3_conf\n",
    "    else:\n",
    "        assert np.isnan(row.prediction)\n",
    "        assert np.isnan(row.prediction_confidence)"
   ]
  },
  {
   "cell_type": "markdown",
   "metadata": {},
   "source": [
    "### Issue #2: Dog breed names could be made consitent and readable<a class=\"anchor\" id=\"issue-2\"></a>"
   ]
  },
  {
   "cell_type": "markdown",
   "metadata": {
    "collapsed": true,
    "extensions": {
     "jupyter_dashboards": {
      "version": 1,
      "views": {
       "grid_default": {
        "hidden": true
       },
       "report_default": {
        "hidden": true
       }
      }
     }
    }
   },
   "source": [
    "#### Define"
   ]
  },
  {
   "cell_type": "markdown",
   "metadata": {},
   "source": [
    "<span style=\"color: red;\">Replace the underscore (``_``) character on the ``prediction`` column and capitalize each word.</span>"
   ]
  },
  {
   "cell_type": "markdown",
   "metadata": {},
   "source": [
    "#### Code"
   ]
  },
  {
   "cell_type": "code",
   "execution_count": 84,
   "metadata": {},
   "outputs": [],
   "source": [
    "image_predictions_clean_df[\"prediction\"] = image_predictions_clean_df.prediction.str.replace(\"_\", \" \").str.title()"
   ]
  },
  {
   "cell_type": "markdown",
   "metadata": {},
   "source": [
    "#### Test"
   ]
  },
  {
   "cell_type": "code",
   "execution_count": 85,
   "metadata": {},
   "outputs": [
    {
     "data": {
      "text/html": [
       "<div>\n",
       "<style scoped>\n",
       "    .dataframe tbody tr th:only-of-type {\n",
       "        vertical-align: middle;\n",
       "    }\n",
       "\n",
       "    .dataframe tbody tr th {\n",
       "        vertical-align: top;\n",
       "    }\n",
       "\n",
       "    .dataframe thead th {\n",
       "        text-align: right;\n",
       "    }\n",
       "</style>\n",
       "<table border=\"1\" class=\"dataframe\">\n",
       "  <thead>\n",
       "    <tr style=\"text-align: right;\">\n",
       "      <th></th>\n",
       "      <th>tweet_id</th>\n",
       "      <th>jpg_url</th>\n",
       "      <th>prediction</th>\n",
       "      <th>prediction_confidence</th>\n",
       "    </tr>\n",
       "  </thead>\n",
       "  <tbody>\n",
       "    <tr>\n",
       "      <th>0</th>\n",
       "      <td>666020888022790149</td>\n",
       "      <td>https://pbs.twimg.com/media/CT4udn0WwAA0aMy.jpg</td>\n",
       "      <td>Welsh Springer Spaniel</td>\n",
       "      <td>0.465074</td>\n",
       "    </tr>\n",
       "    <tr>\n",
       "      <th>1</th>\n",
       "      <td>666029285002620928</td>\n",
       "      <td>https://pbs.twimg.com/media/CT42GRgUYAA5iDo.jpg</td>\n",
       "      <td>Redbone</td>\n",
       "      <td>0.506826</td>\n",
       "    </tr>\n",
       "    <tr>\n",
       "      <th>2</th>\n",
       "      <td>666033412701032449</td>\n",
       "      <td>https://pbs.twimg.com/media/CT4521TWwAEvMyu.jpg</td>\n",
       "      <td>German Shepherd</td>\n",
       "      <td>0.596461</td>\n",
       "    </tr>\n",
       "    <tr>\n",
       "      <th>3</th>\n",
       "      <td>666044226329800704</td>\n",
       "      <td>https://pbs.twimg.com/media/CT5Dr8HUEAA-lEu.jpg</td>\n",
       "      <td>Rhodesian Ridgeback</td>\n",
       "      <td>0.408143</td>\n",
       "    </tr>\n",
       "    <tr>\n",
       "      <th>4</th>\n",
       "      <td>666049248165822465</td>\n",
       "      <td>https://pbs.twimg.com/media/CT5IQmsXIAAKY4A.jpg</td>\n",
       "      <td>Miniature Pinscher</td>\n",
       "      <td>0.560311</td>\n",
       "    </tr>\n",
       "  </tbody>\n",
       "</table>\n",
       "</div>"
      ],
      "text/plain": [
       "             tweet_id                                          jpg_url  \\\n",
       "0  666020888022790149  https://pbs.twimg.com/media/CT4udn0WwAA0aMy.jpg   \n",
       "1  666029285002620928  https://pbs.twimg.com/media/CT42GRgUYAA5iDo.jpg   \n",
       "2  666033412701032449  https://pbs.twimg.com/media/CT4521TWwAEvMyu.jpg   \n",
       "3  666044226329800704  https://pbs.twimg.com/media/CT5Dr8HUEAA-lEu.jpg   \n",
       "4  666049248165822465  https://pbs.twimg.com/media/CT5IQmsXIAAKY4A.jpg   \n",
       "\n",
       "               prediction  prediction_confidence  \n",
       "0  Welsh Springer Spaniel               0.465074  \n",
       "1                 Redbone               0.506826  \n",
       "2         German Shepherd               0.596461  \n",
       "3     Rhodesian Ridgeback               0.408143  \n",
       "4      Miniature Pinscher               0.560311  "
      ]
     },
     "execution_count": 85,
     "metadata": {},
     "output_type": "execute_result"
    }
   ],
   "source": [
    "image_predictions_clean_df.head()"
   ]
  },
  {
   "cell_type": "code",
   "execution_count": 86,
   "metadata": {},
   "outputs": [
    {
     "data": {
      "text/plain": [
       "0"
      ]
     },
     "execution_count": 86,
     "metadata": {},
     "output_type": "execute_result"
    }
   ],
   "source": [
    "image_predictions_clean_df.prediction.str.contains(\"_\").sum()"
   ]
  },
  {
   "cell_type": "code",
   "execution_count": 87,
   "metadata": {},
   "outputs": [
    {
     "data": {
      "text/plain": [
       "Golden Retriever        173\n",
       "Labrador Retriever      113\n",
       "Pembroke                 96\n",
       "Chihuahua                95\n",
       "Pug                      65\n",
       "                       ... \n",
       "Entlebucher               1\n",
       "Japanese Spaniel          1\n",
       "Scotch Terrier            1\n",
       "Standard Schnauzer        1\n",
       "Bouvier Des Flandres      1\n",
       "Name: prediction, Length: 113, dtype: int64"
      ]
     },
     "execution_count": 87,
     "metadata": {},
     "output_type": "execute_result"
    }
   ],
   "source": [
    "image_predictions_clean_df.prediction.value_counts()"
   ]
  },
  {
   "cell_type": "markdown",
   "metadata": {},
   "source": [
    "### Issue #3: The predictions are a string but should be a category<a class=\"anchor\" id=\"issue-3\"></a>"
   ]
  },
  {
   "cell_type": "markdown",
   "metadata": {},
   "source": [
    "#### Define"
   ]
  },
  {
   "cell_type": "markdown",
   "metadata": {},
   "source": [
    "<span style=\"color: red;\">Cast ``prediction`` as ``category``.</span>"
   ]
  },
  {
   "cell_type": "markdown",
   "metadata": {},
   "source": [
    "#### Code"
   ]
  },
  {
   "cell_type": "code",
   "execution_count": 88,
   "metadata": {},
   "outputs": [],
   "source": [
    "image_predictions_clean_df[\"prediction\"] = image_predictions_clean_df.prediction.astype(\"category\")"
   ]
  },
  {
   "cell_type": "markdown",
   "metadata": {},
   "source": [
    "#### Test"
   ]
  },
  {
   "cell_type": "code",
   "execution_count": 89,
   "metadata": {},
   "outputs": [
    {
     "name": "stdout",
     "output_type": "stream",
     "text": [
      "<class 'pandas.core.frame.DataFrame'>\n",
      "Int64Index: 2075 entries, 0 to 2074\n",
      "Data columns (total 4 columns):\n",
      " #   Column                 Non-Null Count  Dtype   \n",
      "---  ------                 --------------  -----   \n",
      " 0   tweet_id               2075 non-null   int64   \n",
      " 1   jpg_url                2075 non-null   object  \n",
      " 2   prediction             1751 non-null   category\n",
      " 3   prediction_confidence  1751 non-null   float64 \n",
      "dtypes: category(1), float64(1), int64(1), object(1)\n",
      "memory usage: 71.8+ KB\n"
     ]
    }
   ],
   "source": [
    "image_predictions_clean_df.info()"
   ]
  },
  {
   "cell_type": "markdown",
   "metadata": {},
   "source": [
    "### Issue #4: Multiple columns for the doggo stage variable<a class=\"anchor\" id=\"issue-4\"></a>"
   ]
  },
  {
   "cell_type": "markdown",
   "metadata": {},
   "source": [
    "#### Define"
   ]
  },
  {
   "cell_type": "markdown",
   "metadata": {},
   "source": [
    "<span style=\"color: red;\">Convert the ``doggo``, ``floofer``, ``pupper``, ``puppo`` columns onto a ``stage`` column.</span>"
   ]
  },
  {
   "cell_type": "markdown",
   "metadata": {},
   "source": [
    "#### Code"
   ]
  },
  {
   "cell_type": "code",
   "execution_count": 90,
   "metadata": {},
   "outputs": [],
   "source": [
    "stages = [\"doggo\", \"floofer\", \"pupper\", \"puppo\"]"
   ]
  },
  {
   "cell_type": "markdown",
   "metadata": {},
   "source": [
    "<span style=\"color: red;\">We use ``np.select`` to assign a ``stage`` value depending on each condition.</span>"
   ]
  },
  {
   "cell_type": "code",
   "execution_count": 91,
   "metadata": {},
   "outputs": [],
   "source": [
    "twitter_archived_enhanced_clean_df[\"stage\"] = np.select(\n",
    "    [\n",
    "        # A stage is defined (one condition per stage)\n",
    "        twitter_archived_enhanced_clean_df[stage] == stage\n",
    "        for stage in stages\n",
    "    ], stages, default=None)"
   ]
  },
  {
   "cell_type": "code",
   "execution_count": 92,
   "metadata": {},
   "outputs": [
    {
     "data": {
      "text/plain": [
       "pupper     245\n",
       "doggo       97\n",
       "puppo       29\n",
       "floofer      9\n",
       "Name: stage, dtype: int64"
      ]
     },
     "execution_count": 92,
     "metadata": {},
     "output_type": "execute_result"
    }
   ],
   "source": [
    "twitter_archived_enhanced_clean_df.stage.value_counts()"
   ]
  },
  {
   "cell_type": "markdown",
   "metadata": {},
   "source": [
    "#### Test"
   ]
  },
  {
   "cell_type": "code",
   "execution_count": 93,
   "metadata": {},
   "outputs": [],
   "source": [
    "for stage in stages:\n",
    "    assert twitter_archived_enhanced_clean_df[\n",
    "        (twitter_archived_enhanced_clean_df.stage == stage) &\n",
    "        (twitter_archived_enhanced_clean_df[\"stage\"] != stage)\n",
    "    ].empty\n",
    "    \n",
    "assert twitter_archived_enhanced_clean_df[\n",
    "    twitter_archived_enhanced_clean_df[\"doggo\"].isna() &\n",
    "    twitter_archived_enhanced_clean_df[\"floofer\"].isna() &\n",
    "    twitter_archived_enhanced_clean_df[\"pupper\"].isna() &\n",
    "    twitter_archived_enhanced_clean_df[\"puppo\"].isna()\n",
    "].stage.isna().all()"
   ]
  },
  {
   "cell_type": "markdown",
   "metadata": {},
   "source": [
    "<span style=\"color: red;\">We drop the old columns stage columns</span>"
   ]
  },
  {
   "cell_type": "code",
   "execution_count": 94,
   "metadata": {},
   "outputs": [],
   "source": [
    "twitter_archived_enhanced_clean_df = twitter_archived_enhanced_clean_df.drop(stages, axis=1)"
   ]
  },
  {
   "cell_type": "markdown",
   "metadata": {},
   "source": [
    "### Issue #5: ``timestamp`` is a string, could be a datetime<a class=\"anchor\" id=\"issue-5\"></a>"
   ]
  },
  {
   "cell_type": "markdown",
   "metadata": {},
   "source": [
    "#### Define"
   ]
  },
  {
   "cell_type": "markdown",
   "metadata": {},
   "source": [
    "<span style=\"color: red;\">Convert the ``timestamp`` column to ``datetime``.</span>"
   ]
  },
  {
   "cell_type": "markdown",
   "metadata": {},
   "source": [
    "#### Code"
   ]
  },
  {
   "cell_type": "code",
   "execution_count": 95,
   "metadata": {},
   "outputs": [],
   "source": [
    "twitter_archived_enhanced_clean_df[\"timestamp\"] = pd.to_datetime(twitter_archived_enhanced_clean_df.timestamp)"
   ]
  },
  {
   "cell_type": "markdown",
   "metadata": {},
   "source": [
    "#### Test"
   ]
  },
  {
   "cell_type": "code",
   "execution_count": 96,
   "metadata": {},
   "outputs": [
    {
     "name": "stdout",
     "output_type": "stream",
     "text": [
      "<class 'pandas.core.frame.DataFrame'>\n",
      "RangeIndex: 2356 entries, 0 to 2355\n",
      "Data columns (total 14 columns):\n",
      " #   Column                      Non-Null Count  Dtype              \n",
      "---  ------                      --------------  -----              \n",
      " 0   tweet_id                    2356 non-null   int64              \n",
      " 1   in_reply_to_status_id       78 non-null     float64            \n",
      " 2   in_reply_to_user_id         78 non-null     float64            \n",
      " 3   timestamp                   2356 non-null   datetime64[ns, UTC]\n",
      " 4   source                      2356 non-null   object             \n",
      " 5   text                        2356 non-null   object             \n",
      " 6   retweeted_status_id         181 non-null    float64            \n",
      " 7   retweeted_status_user_id    181 non-null    float64            \n",
      " 8   retweeted_status_timestamp  181 non-null    object             \n",
      " 9   expanded_urls               2297 non-null   object             \n",
      " 10  rating_numerator            2356 non-null   int64              \n",
      " 11  rating_denominator          2356 non-null   int64              \n",
      " 12  name                        2356 non-null   object             \n",
      " 13  stage                       380 non-null    object             \n",
      "dtypes: datetime64[ns, UTC](1), float64(4), int64(3), object(6)\n",
      "memory usage: 257.8+ KB\n"
     ]
    }
   ],
   "source": [
    "twitter_archived_enhanced_clean_df.info()"
   ]
  },
  {
   "cell_type": "markdown",
   "metadata": {},
   "source": [
    "### Issue #6: Multiple doggo ratings on a single tweet<a class=\"anchor\" id=\"issue-6\"></a>"
   ]
  },
  {
   "cell_type": "markdown",
   "metadata": {},
   "source": [
    "#### Define"
   ]
  },
  {
   "cell_type": "markdown",
   "metadata": {},
   "source": [
    "<span style=\"color: red;\">Drop the offending tweets.</span>"
   ]
  },
  {
   "cell_type": "markdown",
   "metadata": {},
   "source": [
    "#### Code"
   ]
  },
  {
   "cell_type": "code",
   "execution_count": 97,
   "metadata": {},
   "outputs": [
    {
     "data": {
      "text/html": [
       "<div>\n",
       "<style scoped>\n",
       "    .dataframe tbody tr th:only-of-type {\n",
       "        vertical-align: middle;\n",
       "    }\n",
       "\n",
       "    .dataframe tbody tr th {\n",
       "        vertical-align: top;\n",
       "    }\n",
       "\n",
       "    .dataframe thead th {\n",
       "        text-align: right;\n",
       "    }\n",
       "</style>\n",
       "<table border=\"1\" class=\"dataframe\">\n",
       "  <thead>\n",
       "    <tr style=\"text-align: right;\">\n",
       "      <th></th>\n",
       "      <th>tweet_id</th>\n",
       "      <th>text</th>\n",
       "      <th>rating_numerator</th>\n",
       "      <th>rating_denominator</th>\n",
       "    </tr>\n",
       "  </thead>\n",
       "  <tbody>\n",
       "    <tr>\n",
       "      <th>433</th>\n",
       "      <td>820690176645140481</td>\n",
       "      <td>The floofs have been released I repeat the flo...</td>\n",
       "      <td>84</td>\n",
       "      <td>70</td>\n",
       "    </tr>\n",
       "    <tr>\n",
       "      <th>902</th>\n",
       "      <td>758467244762497024</td>\n",
       "      <td>Why does this never happen at my front door......</td>\n",
       "      <td>165</td>\n",
       "      <td>150</td>\n",
       "    </tr>\n",
       "    <tr>\n",
       "      <th>1120</th>\n",
       "      <td>731156023742988288</td>\n",
       "      <td>Say hello to this unbelievably well behaved sq...</td>\n",
       "      <td>204</td>\n",
       "      <td>170</td>\n",
       "    </tr>\n",
       "    <tr>\n",
       "      <th>1228</th>\n",
       "      <td>713900603437621249</td>\n",
       "      <td>Happy Saturday here's 9 puppers on a bench. 99...</td>\n",
       "      <td>99</td>\n",
       "      <td>90</td>\n",
       "    </tr>\n",
       "    <tr>\n",
       "      <th>1254</th>\n",
       "      <td>710658690886586372</td>\n",
       "      <td>Here's a brigade of puppers. All look very pre...</td>\n",
       "      <td>80</td>\n",
       "      <td>80</td>\n",
       "    </tr>\n",
       "    <tr>\n",
       "      <th>1274</th>\n",
       "      <td>709198395643068416</td>\n",
       "      <td>From left to right:\\nCletus, Jerome, Alejandro...</td>\n",
       "      <td>45</td>\n",
       "      <td>50</td>\n",
       "    </tr>\n",
       "    <tr>\n",
       "      <th>1351</th>\n",
       "      <td>704054845121142784</td>\n",
       "      <td>Here is a whole flock of puppers.  60/50 I'll ...</td>\n",
       "      <td>60</td>\n",
       "      <td>50</td>\n",
       "    </tr>\n",
       "    <tr>\n",
       "      <th>1433</th>\n",
       "      <td>697463031882764288</td>\n",
       "      <td>Happy Wednesday here's a bucket of pups. 44/40...</td>\n",
       "      <td>44</td>\n",
       "      <td>40</td>\n",
       "    </tr>\n",
       "    <tr>\n",
       "      <th>1635</th>\n",
       "      <td>684222868335505415</td>\n",
       "      <td>Someone help the girl is being mugged. Several...</td>\n",
       "      <td>121</td>\n",
       "      <td>110</td>\n",
       "    </tr>\n",
       "    <tr>\n",
       "      <th>1779</th>\n",
       "      <td>677716515794329600</td>\n",
       "      <td>IT'S PUPPERGEDDON. Total of 144/120 ...I think...</td>\n",
       "      <td>144</td>\n",
       "      <td>120</td>\n",
       "    </tr>\n",
       "    <tr>\n",
       "      <th>1843</th>\n",
       "      <td>675853064436391936</td>\n",
       "      <td>Here we have an entire platoon of puppers. Tot...</td>\n",
       "      <td>88</td>\n",
       "      <td>80</td>\n",
       "    </tr>\n",
       "  </tbody>\n",
       "</table>\n",
       "</div>"
      ],
      "text/plain": [
       "                tweet_id                                               text  \\\n",
       "433   820690176645140481  The floofs have been released I repeat the flo...   \n",
       "902   758467244762497024  Why does this never happen at my front door......   \n",
       "1120  731156023742988288  Say hello to this unbelievably well behaved sq...   \n",
       "1228  713900603437621249  Happy Saturday here's 9 puppers on a bench. 99...   \n",
       "1254  710658690886586372  Here's a brigade of puppers. All look very pre...   \n",
       "1274  709198395643068416  From left to right:\\nCletus, Jerome, Alejandro...   \n",
       "1351  704054845121142784  Here is a whole flock of puppers.  60/50 I'll ...   \n",
       "1433  697463031882764288  Happy Wednesday here's a bucket of pups. 44/40...   \n",
       "1635  684222868335505415  Someone help the girl is being mugged. Several...   \n",
       "1779  677716515794329600  IT'S PUPPERGEDDON. Total of 144/120 ...I think...   \n",
       "1843  675853064436391936  Here we have an entire platoon of puppers. Tot...   \n",
       "\n",
       "      rating_numerator  rating_denominator  \n",
       "433                 84                  70  \n",
       "902                165                 150  \n",
       "1120               204                 170  \n",
       "1228                99                  90  \n",
       "1254                80                  80  \n",
       "1274                45                  50  \n",
       "1351                60                  50  \n",
       "1433                44                  40  \n",
       "1635               121                 110  \n",
       "1779               144                 120  \n",
       "1843                88                  80  "
      ]
     },
     "execution_count": 97,
     "metadata": {},
     "output_type": "execute_result"
    }
   ],
   "source": [
    "twitter_archived_enhanced_clean_df[twitter_archived_enhanced_clean_df.tweet_id.isin([\n",
    "    820690176645140481, 675853064436391936, 677716515794329600, 684222868335505415, 697463031882764288,\n",
    "    704054845121142784, 709198395643068416, 710658690886586372, 713900603437621249, 731156023742988288,\n",
    "    758467244762497024\n",
    "])][[\"tweet_id\", \"text\", \"rating_numerator\", \"rating_denominator\"]]"
   ]
  },
  {
   "cell_type": "code",
   "execution_count": 98,
   "metadata": {},
   "outputs": [],
   "source": [
    "twitter_archived_enhanced_clean_df = twitter_archived_enhanced_clean_df[~twitter_archived_enhanced_clean_df.tweet_id.isin([\n",
    "    820690176645140481, 675853064436391936, 677716515794329600, 684222868335505415, 697463031882764288,\n",
    "    704054845121142784, 709198395643068416, 710658690886586372, 713900603437621249, 731156023742988288,\n",
    "    758467244762497024\n",
    "])]"
   ]
  },
  {
   "cell_type": "markdown",
   "metadata": {},
   "source": [
    "#### Test"
   ]
  },
  {
   "cell_type": "code",
   "execution_count": 99,
   "metadata": {},
   "outputs": [],
   "source": [
    "assert twitter_archived_enhanced_clean_df[twitter_archived_enhanced_clean_df.tweet_id.isin([\n",
    "    820690176645140481, 675853064436391936, 677716515794329600, 684222868335505415, 697463031882764288,\n",
    "    704054845121142784, 709198395643068416, 710658690886586372, 713900603437621249, 731156023742988288,\n",
    "    758467244762497024\n",
    "])].empty"
   ]
  },
  {
   "cell_type": "markdown",
   "metadata": {},
   "source": [
    "### Issue #7: multiple expressions confused for ratings<a class=\"anchor\" id=\"issue-7\"></a>"
   ]
  },
  {
   "cell_type": "markdown",
   "metadata": {},
   "source": [
    "#### Define"
   ]
  },
  {
   "cell_type": "markdown",
   "metadata": {},
   "source": [
    "<span style=\"color: red;\">When there are multiple matches on a tweet for segments that look like a rating, pick the one with a \"10\" as denominator.</span>"
   ]
  },
  {
   "cell_type": "markdown",
   "metadata": {},
   "source": [
    "#### Code"
   ]
  },
  {
   "cell_type": "code",
   "execution_count": 100,
   "metadata": {},
   "outputs": [
    {
     "data": {
      "text/html": [
       "<div>\n",
       "<style scoped>\n",
       "    .dataframe tbody tr th:only-of-type {\n",
       "        vertical-align: middle;\n",
       "    }\n",
       "\n",
       "    .dataframe tbody tr th {\n",
       "        vertical-align: top;\n",
       "    }\n",
       "\n",
       "    .dataframe thead th {\n",
       "        text-align: right;\n",
       "    }\n",
       "</style>\n",
       "<table border=\"1\" class=\"dataframe\">\n",
       "  <thead>\n",
       "    <tr style=\"text-align: right;\">\n",
       "      <th></th>\n",
       "      <th>tweet_id</th>\n",
       "      <th>text</th>\n",
       "      <th>rating_numerator</th>\n",
       "      <th>rating_denominator</th>\n",
       "    </tr>\n",
       "  </thead>\n",
       "  <tbody>\n",
       "    <tr>\n",
       "      <th>516</th>\n",
       "      <td>810984652412424192</td>\n",
       "      <td>Meet Sam. She smiles 24/7 &amp;amp; secretly aspir...</td>\n",
       "      <td>24</td>\n",
       "      <td>7</td>\n",
       "    </tr>\n",
       "    <tr>\n",
       "      <th>1068</th>\n",
       "      <td>740373189193256964</td>\n",
       "      <td>After so many requests, this is Bretagne. She ...</td>\n",
       "      <td>9</td>\n",
       "      <td>11</td>\n",
       "    </tr>\n",
       "    <tr>\n",
       "      <th>1165</th>\n",
       "      <td>722974582966214656</td>\n",
       "      <td>Happy 4/20 from the squad! 13/10 for all https...</td>\n",
       "      <td>4</td>\n",
       "      <td>20</td>\n",
       "    </tr>\n",
       "    <tr>\n",
       "      <th>1202</th>\n",
       "      <td>716439118184652801</td>\n",
       "      <td>This is Bluebert. He just saw that both #Final...</td>\n",
       "      <td>50</td>\n",
       "      <td>50</td>\n",
       "    </tr>\n",
       "    <tr>\n",
       "      <th>1662</th>\n",
       "      <td>682962037429899265</td>\n",
       "      <td>This is Darrel. He just robbed a 7/11 and is i...</td>\n",
       "      <td>7</td>\n",
       "      <td>11</td>\n",
       "    </tr>\n",
       "    <tr>\n",
       "      <th>2335</th>\n",
       "      <td>666287406224695296</td>\n",
       "      <td>This is an Albanian 3 1/2 legged  Episcopalian...</td>\n",
       "      <td>1</td>\n",
       "      <td>2</td>\n",
       "    </tr>\n",
       "  </tbody>\n",
       "</table>\n",
       "</div>"
      ],
      "text/plain": [
       "                tweet_id                                               text  \\\n",
       "516   810984652412424192  Meet Sam. She smiles 24/7 &amp; secretly aspir...   \n",
       "1068  740373189193256964  After so many requests, this is Bretagne. She ...   \n",
       "1165  722974582966214656  Happy 4/20 from the squad! 13/10 for all https...   \n",
       "1202  716439118184652801  This is Bluebert. He just saw that both #Final...   \n",
       "1662  682962037429899265  This is Darrel. He just robbed a 7/11 and is i...   \n",
       "2335  666287406224695296  This is an Albanian 3 1/2 legged  Episcopalian...   \n",
       "\n",
       "      rating_numerator  rating_denominator  \n",
       "516                 24                   7  \n",
       "1068                 9                  11  \n",
       "1165                 4                  20  \n",
       "1202                50                  50  \n",
       "1662                 7                  11  \n",
       "2335                 1                   2  "
      ]
     },
     "execution_count": 100,
     "metadata": {},
     "output_type": "execute_result"
    }
   ],
   "source": [
    "twitter_archived_enhanced_clean_df[twitter_archived_enhanced_clean_df.tweet_id.isin([\n",
    "    810984652412424192, 716439118184652801, 716439118184652801, 740373189193256964, 682962037429899265,\n",
    "    722974582966214656, 666287406224695296\n",
    "])][[\"tweet_id\", \"text\", \"rating_numerator\", \"rating_denominator\"]]"
   ]
  },
  {
   "cell_type": "code",
   "execution_count": 101,
   "metadata": {},
   "outputs": [
    {
     "data": {
      "text/html": [
       "<div>\n",
       "<style scoped>\n",
       "    .dataframe tbody tr th:only-of-type {\n",
       "        vertical-align: middle;\n",
       "    }\n",
       "\n",
       "    .dataframe tbody tr th {\n",
       "        vertical-align: top;\n",
       "    }\n",
       "\n",
       "    .dataframe thead th {\n",
       "        text-align: right;\n",
       "    }\n",
       "</style>\n",
       "<table border=\"1\" class=\"dataframe\">\n",
       "  <thead>\n",
       "    <tr style=\"text-align: right;\">\n",
       "      <th></th>\n",
       "      <th>rating_numerator</th>\n",
       "      <th>rating_denominator</th>\n",
       "    </tr>\n",
       "  </thead>\n",
       "  <tbody>\n",
       "    <tr>\n",
       "      <th>0</th>\n",
       "      <td>13</td>\n",
       "      <td>10</td>\n",
       "    </tr>\n",
       "    <tr>\n",
       "      <th>1</th>\n",
       "      <td>13</td>\n",
       "      <td>10</td>\n",
       "    </tr>\n",
       "    <tr>\n",
       "      <th>2</th>\n",
       "      <td>12</td>\n",
       "      <td>10</td>\n",
       "    </tr>\n",
       "    <tr>\n",
       "      <th>3</th>\n",
       "      <td>13</td>\n",
       "      <td>10</td>\n",
       "    </tr>\n",
       "    <tr>\n",
       "      <th>4</th>\n",
       "      <td>12</td>\n",
       "      <td>10</td>\n",
       "    </tr>\n",
       "    <tr>\n",
       "      <th>...</th>\n",
       "      <td>...</td>\n",
       "      <td>...</td>\n",
       "    </tr>\n",
       "    <tr>\n",
       "      <th>2351</th>\n",
       "      <td>5</td>\n",
       "      <td>10</td>\n",
       "    </tr>\n",
       "    <tr>\n",
       "      <th>2352</th>\n",
       "      <td>6</td>\n",
       "      <td>10</td>\n",
       "    </tr>\n",
       "    <tr>\n",
       "      <th>2353</th>\n",
       "      <td>9</td>\n",
       "      <td>10</td>\n",
       "    </tr>\n",
       "    <tr>\n",
       "      <th>2354</th>\n",
       "      <td>7</td>\n",
       "      <td>10</td>\n",
       "    </tr>\n",
       "    <tr>\n",
       "      <th>2355</th>\n",
       "      <td>8</td>\n",
       "      <td>10</td>\n",
       "    </tr>\n",
       "  </tbody>\n",
       "</table>\n",
       "<p>2345 rows × 2 columns</p>\n",
       "</div>"
      ],
      "text/plain": [
       "     rating_numerator rating_denominator\n",
       "0                  13                 10\n",
       "1                  13                 10\n",
       "2                  12                 10\n",
       "3                  13                 10\n",
       "4                  12                 10\n",
       "...               ...                ...\n",
       "2351                5                 10\n",
       "2352                6                 10\n",
       "2353                9                 10\n",
       "2354                7                 10\n",
       "2355                8                 10\n",
       "\n",
       "[2345 rows x 2 columns]"
      ]
     },
     "execution_count": 101,
     "metadata": {},
     "output_type": "execute_result"
    }
   ],
   "source": [
    "new_ratings_df = twitter_archived_enhanced_clean_df.text.str.extract(\n",
    "    r\"(?P<rating_numerator>\\d+)/(?P<rating_denominator>10)\"\n",
    ")\n",
    "new_ratings_df"
   ]
  },
  {
   "cell_type": "code",
   "execution_count": 102,
   "metadata": {},
   "outputs": [],
   "source": [
    "new_ratings_df.loc[\n",
    "    ~new_ratings_df.isnull().any(axis=1),\n",
    "    [\"rating_numerator\", \"rating_denominator\"]\n",
    "] = new_ratings_df[~new_ratings_df.isnull().any(axis=1)][[\"rating_numerator\", \"rating_denominator\"]].astype(int)"
   ]
  },
  {
   "cell_type": "code",
   "execution_count": 103,
   "metadata": {},
   "outputs": [],
   "source": [
    "twitter_archived_enhanced_clean_df.loc[\n",
    "    new_ratings_df.index,\n",
    "    [\"rating_numerator\", \"rating_denominator\"]\n",
    "] = new_ratings_df[[\"rating_numerator\", \"rating_denominator\"]]"
   ]
  },
  {
   "cell_type": "code",
   "execution_count": 104,
   "metadata": {},
   "outputs": [],
   "source": [
    "twitter_archived_enhanced_clean_df = twitter_archived_enhanced_clean_df[~(\n",
    "    twitter_archived_enhanced_clean_df.rating_numerator.isna() |\n",
    "    twitter_archived_enhanced_clean_df.rating_denominator.isna()\n",
    ")]"
   ]
  },
  {
   "cell_type": "markdown",
   "metadata": {},
   "source": [
    "#### Test"
   ]
  },
  {
   "cell_type": "code",
   "execution_count": 105,
   "metadata": {},
   "outputs": [
    {
     "data": {
      "text/html": [
       "<div>\n",
       "<style scoped>\n",
       "    .dataframe tbody tr th:only-of-type {\n",
       "        vertical-align: middle;\n",
       "    }\n",
       "\n",
       "    .dataframe tbody tr th {\n",
       "        vertical-align: top;\n",
       "    }\n",
       "\n",
       "    .dataframe thead th {\n",
       "        text-align: right;\n",
       "    }\n",
       "</style>\n",
       "<table border=\"1\" class=\"dataframe\">\n",
       "  <thead>\n",
       "    <tr style=\"text-align: right;\">\n",
       "      <th></th>\n",
       "      <th>tweet_id</th>\n",
       "      <th>text</th>\n",
       "      <th>rating_numerator</th>\n",
       "      <th>rating_denominator</th>\n",
       "    </tr>\n",
       "  </thead>\n",
       "  <tbody>\n",
       "    <tr>\n",
       "      <th>1068</th>\n",
       "      <td>740373189193256964</td>\n",
       "      <td>After so many requests, this is Bretagne. She ...</td>\n",
       "      <td>14</td>\n",
       "      <td>10</td>\n",
       "    </tr>\n",
       "    <tr>\n",
       "      <th>1165</th>\n",
       "      <td>722974582966214656</td>\n",
       "      <td>Happy 4/20 from the squad! 13/10 for all https...</td>\n",
       "      <td>13</td>\n",
       "      <td>10</td>\n",
       "    </tr>\n",
       "    <tr>\n",
       "      <th>1202</th>\n",
       "      <td>716439118184652801</td>\n",
       "      <td>This is Bluebert. He just saw that both #Final...</td>\n",
       "      <td>11</td>\n",
       "      <td>10</td>\n",
       "    </tr>\n",
       "    <tr>\n",
       "      <th>1662</th>\n",
       "      <td>682962037429899265</td>\n",
       "      <td>This is Darrel. He just robbed a 7/11 and is i...</td>\n",
       "      <td>10</td>\n",
       "      <td>10</td>\n",
       "    </tr>\n",
       "    <tr>\n",
       "      <th>2335</th>\n",
       "      <td>666287406224695296</td>\n",
       "      <td>This is an Albanian 3 1/2 legged  Episcopalian...</td>\n",
       "      <td>9</td>\n",
       "      <td>10</td>\n",
       "    </tr>\n",
       "  </tbody>\n",
       "</table>\n",
       "</div>"
      ],
      "text/plain": [
       "                tweet_id                                               text  \\\n",
       "1068  740373189193256964  After so many requests, this is Bretagne. She ...   \n",
       "1165  722974582966214656  Happy 4/20 from the squad! 13/10 for all https...   \n",
       "1202  716439118184652801  This is Bluebert. He just saw that both #Final...   \n",
       "1662  682962037429899265  This is Darrel. He just robbed a 7/11 and is i...   \n",
       "2335  666287406224695296  This is an Albanian 3 1/2 legged  Episcopalian...   \n",
       "\n",
       "     rating_numerator rating_denominator  \n",
       "1068               14                 10  \n",
       "1165               13                 10  \n",
       "1202               11                 10  \n",
       "1662               10                 10  \n",
       "2335                9                 10  "
      ]
     },
     "execution_count": 105,
     "metadata": {},
     "output_type": "execute_result"
    }
   ],
   "source": [
    "twitter_archived_enhanced_clean_df[twitter_archived_enhanced_clean_df.tweet_id.isin([\n",
    "    810984652412424192, 716439118184652801, 716439118184652801, 740373189193256964, 682962037429899265,\n",
    "    722974582966214656, 666287406224695296\n",
    "])][[\"tweet_id\", \"text\", \"rating_numerator\", \"rating_denominator\"]]"
   ]
  },
  {
   "cell_type": "markdown",
   "metadata": {},
   "source": [
    "### Issue #8: There tweets with fractional ratings<a class=\"anchor\" id=\"issue-8\"></a>"
   ]
  },
  {
   "cell_type": "markdown",
   "metadata": {},
   "source": [
    "#### Define"
   ]
  },
  {
   "cell_type": "markdown",
   "metadata": {},
   "source": [
    "<span style=\"color: red;\">Convert the rating numerator and denominator to float. Parse the fractional ratings properly.</span>"
   ]
  },
  {
   "cell_type": "markdown",
   "metadata": {},
   "source": [
    "#### Code"
   ]
  },
  {
   "cell_type": "code",
   "execution_count": 106,
   "metadata": {},
   "outputs": [],
   "source": [
    "twitter_archived_enhanced_clean_df[[\"rating_numerator\", \"rating_denominator\"]] = twitter_archived_enhanced_clean_df[[\"rating_numerator\", \"rating_denominator\"]].astype(float)"
   ]
  },
  {
   "cell_type": "code",
   "execution_count": 107,
   "metadata": {},
   "outputs": [
    {
     "data": {
      "text/html": [
       "<div>\n",
       "<style scoped>\n",
       "    .dataframe tbody tr th:only-of-type {\n",
       "        vertical-align: middle;\n",
       "    }\n",
       "\n",
       "    .dataframe tbody tr th {\n",
       "        vertical-align: top;\n",
       "    }\n",
       "\n",
       "    .dataframe thead th {\n",
       "        text-align: right;\n",
       "    }\n",
       "</style>\n",
       "<table border=\"1\" class=\"dataframe\">\n",
       "  <thead>\n",
       "    <tr style=\"text-align: right;\">\n",
       "      <th></th>\n",
       "      <th>rating_numerator</th>\n",
       "      <th>rating_denominator</th>\n",
       "    </tr>\n",
       "  </thead>\n",
       "  <tbody>\n",
       "    <tr>\n",
       "      <th>45</th>\n",
       "      <td>13.5</td>\n",
       "      <td>10</td>\n",
       "    </tr>\n",
       "    <tr>\n",
       "      <th>340</th>\n",
       "      <td>9.75</td>\n",
       "      <td>10</td>\n",
       "    </tr>\n",
       "    <tr>\n",
       "      <th>695</th>\n",
       "      <td>9.75</td>\n",
       "      <td>10</td>\n",
       "    </tr>\n",
       "    <tr>\n",
       "      <th>763</th>\n",
       "      <td>11.27</td>\n",
       "      <td>10</td>\n",
       "    </tr>\n",
       "    <tr>\n",
       "      <th>1689</th>\n",
       "      <td>9.5</td>\n",
       "      <td>10</td>\n",
       "    </tr>\n",
       "    <tr>\n",
       "      <th>1712</th>\n",
       "      <td>11.26</td>\n",
       "      <td>10</td>\n",
       "    </tr>\n",
       "  </tbody>\n",
       "</table>\n",
       "</div>"
      ],
      "text/plain": [
       "     rating_numerator rating_denominator\n",
       "45               13.5                 10\n",
       "340              9.75                 10\n",
       "695              9.75                 10\n",
       "763             11.27                 10\n",
       "1689              9.5                 10\n",
       "1712            11.26                 10"
      ]
     },
     "execution_count": 107,
     "metadata": {},
     "output_type": "execute_result"
    }
   ],
   "source": [
    "new_ratings_df = twitter_archived_enhanced_clean_df.text.str.extract(\n",
    "    r\"(?P<rating_numerator>\\d+\\.\\d+)/(?P<rating_denominator>10)\"\n",
    ").dropna()\n",
    "new_ratings_df"
   ]
  },
  {
   "cell_type": "code",
   "execution_count": 108,
   "metadata": {},
   "outputs": [],
   "source": [
    "twitter_archived_enhanced_clean_df.loc[\n",
    "    new_ratings_df.index,\n",
    "    [\"rating_numerator\", \"rating_denominator\"]\n",
    "] = new_ratings_df[[\"rating_numerator\", \"rating_denominator\"]].astype(float)"
   ]
  },
  {
   "cell_type": "markdown",
   "metadata": {},
   "source": [
    "#### Test"
   ]
  },
  {
   "cell_type": "code",
   "execution_count": 109,
   "metadata": {},
   "outputs": [
    {
     "data": {
      "text/html": [
       "<div>\n",
       "<style scoped>\n",
       "    .dataframe tbody tr th:only-of-type {\n",
       "        vertical-align: middle;\n",
       "    }\n",
       "\n",
       "    .dataframe tbody tr th {\n",
       "        vertical-align: top;\n",
       "    }\n",
       "\n",
       "    .dataframe thead th {\n",
       "        text-align: right;\n",
       "    }\n",
       "</style>\n",
       "<table border=\"1\" class=\"dataframe\">\n",
       "  <thead>\n",
       "    <tr style=\"text-align: right;\">\n",
       "      <th></th>\n",
       "      <th>tweet_id</th>\n",
       "      <th>text</th>\n",
       "      <th>rating_numerator</th>\n",
       "      <th>rating_denominator</th>\n",
       "    </tr>\n",
       "  </thead>\n",
       "  <tbody>\n",
       "    <tr>\n",
       "      <th>695</th>\n",
       "      <td>786709082849828864</td>\n",
       "      <td>This is Logan, the Chow who lived. He solemnly...</td>\n",
       "      <td>9.75</td>\n",
       "      <td>10.0</td>\n",
       "    </tr>\n",
       "    <tr>\n",
       "      <th>763</th>\n",
       "      <td>778027034220126208</td>\n",
       "      <td>This is Sophie. She's a Jubilant Bush Pupper. ...</td>\n",
       "      <td>11.27</td>\n",
       "      <td>10.0</td>\n",
       "    </tr>\n",
       "    <tr>\n",
       "      <th>1712</th>\n",
       "      <td>680494726643068929</td>\n",
       "      <td>Here we have uncovered an entire battalion of ...</td>\n",
       "      <td>11.26</td>\n",
       "      <td>10.0</td>\n",
       "    </tr>\n",
       "  </tbody>\n",
       "</table>\n",
       "</div>"
      ],
      "text/plain": [
       "                tweet_id                                               text  \\\n",
       "695   786709082849828864  This is Logan, the Chow who lived. He solemnly...   \n",
       "763   778027034220126208  This is Sophie. She's a Jubilant Bush Pupper. ...   \n",
       "1712  680494726643068929  Here we have uncovered an entire battalion of ...   \n",
       "\n",
       "      rating_numerator  rating_denominator  \n",
       "695               9.75                10.0  \n",
       "763              11.27                10.0  \n",
       "1712             11.26                10.0  "
      ]
     },
     "execution_count": 109,
     "metadata": {},
     "output_type": "execute_result"
    }
   ],
   "source": [
    "twitter_archived_enhanced_clean_df[twitter_archived_enhanced_clean_df.tweet_id.isin([\n",
    "    680494726643068929, 778027034220126208, 786709082849828864\n",
    "])][[\"tweet_id\", \"text\", \"rating_numerator\", \"rating_denominator\"]]"
   ]
  },
  {
   "cell_type": "markdown",
   "metadata": {},
   "source": [
    "### Issue #9: The rating is a single variable represented in two columns<a class=\"anchor\" id=\"issue-9\"></a>"
   ]
  },
  {
   "cell_type": "markdown",
   "metadata": {},
   "source": [
    "#### Define"
   ]
  },
  {
   "cell_type": "markdown",
   "metadata": {},
   "source": [
    "<span style=\"color: red;\">Create a new column named ``rating`` which is ``rating_numerator`` divided by ``rating_denominator``.</span>"
   ]
  },
  {
   "cell_type": "markdown",
   "metadata": {},
   "source": [
    "#### Code"
   ]
  },
  {
   "cell_type": "code",
   "execution_count": 110,
   "metadata": {},
   "outputs": [],
   "source": [
    "twitter_archived_enhanced_clean_df[\"rating\"] = twitter_archived_enhanced_clean_df[\"rating_numerator\"] / twitter_archived_enhanced_clean_df[\"rating_denominator\"]"
   ]
  },
  {
   "cell_type": "code",
   "execution_count": 111,
   "metadata": {},
   "outputs": [
    {
     "data": {
      "text/plain": [
       "1408    1.2\n",
       "939     1.3\n",
       "1891    1.0\n",
       "2310    0.2\n",
       "280     1.2\n",
       "Name: rating, dtype: float64"
      ]
     },
     "execution_count": 111,
     "metadata": {},
     "output_type": "execute_result"
    }
   ],
   "source": [
    "twitter_archived_enhanced_clean_df.rating.sample(5)"
   ]
  },
  {
   "cell_type": "markdown",
   "metadata": {},
   "source": [
    "#### Test"
   ]
  },
  {
   "cell_type": "code",
   "execution_count": 112,
   "metadata": {},
   "outputs": [],
   "source": [
    "for index, row in twitter_archived_enhanced_clean_df[\n",
    "    ~(twitter_archived_enhanced_clean_df.rating_numerator.isna() | twitter_archived_enhanced_clean_df.rating_denominator.isna())\n",
    "].iterrows():\n",
    "    assert row.rating == row.rating_numerator / row.rating_denominator"
   ]
  },
  {
   "cell_type": "markdown",
   "metadata": {},
   "source": [
    "### Issue #10: Multiple tables to represent the same observational unit: the tweet<a class=\"anchor\" id=\"issue-10\"></a>"
   ]
  },
  {
   "cell_type": "markdown",
   "metadata": {},
   "source": [
    "#### Define"
   ]
  },
  {
   "cell_type": "markdown",
   "metadata": {},
   "source": [
    "<span style=\"color: red;\">Merge all dataframes on the ``tweet_id``column to a dataframe calld ``twitter_archive_master_df``.</span>"
   ]
  },
  {
   "cell_type": "markdown",
   "metadata": {},
   "source": [
    "#### Code"
   ]
  },
  {
   "cell_type": "code",
   "execution_count": 113,
   "metadata": {},
   "outputs": [],
   "source": [
    "twitter_archive_master_df = pd.merge(\n",
    "    twitter_archived_enhanced_clean_df,\n",
    "    image_predictions_clean_df,\n",
    "    on=[\"tweet_id\"],\n",
    "    how=\"left\"\n",
    ")\n",
    "twitter_archive_master_df = pd.merge(\n",
    "    twitter_archive_master_df,\n",
    "    tweet_json_txt_clean_df,\n",
    "    on=[\"tweet_id\"],\n",
    "    how=\"left\"\n",
    ")"
   ]
  },
  {
   "cell_type": "markdown",
   "metadata": {},
   "source": [
    "#### Test"
   ]
  },
  {
   "cell_type": "code",
   "execution_count": 114,
   "metadata": {},
   "outputs": [
    {
     "data": {
      "text/html": [
       "<div>\n",
       "<style scoped>\n",
       "    .dataframe tbody tr th:only-of-type {\n",
       "        vertical-align: middle;\n",
       "    }\n",
       "\n",
       "    .dataframe tbody tr th {\n",
       "        vertical-align: top;\n",
       "    }\n",
       "\n",
       "    .dataframe thead th {\n",
       "        text-align: right;\n",
       "    }\n",
       "</style>\n",
       "<table border=\"1\" class=\"dataframe\">\n",
       "  <thead>\n",
       "    <tr style=\"text-align: right;\">\n",
       "      <th></th>\n",
       "      <th>tweet_id</th>\n",
       "      <th>in_reply_to_status_id</th>\n",
       "      <th>in_reply_to_user_id</th>\n",
       "      <th>timestamp</th>\n",
       "      <th>source</th>\n",
       "      <th>text</th>\n",
       "      <th>retweeted_status_id</th>\n",
       "      <th>retweeted_status_user_id</th>\n",
       "      <th>retweeted_status_timestamp</th>\n",
       "      <th>expanded_urls</th>\n",
       "      <th>rating_numerator</th>\n",
       "      <th>rating_denominator</th>\n",
       "      <th>name</th>\n",
       "      <th>stage</th>\n",
       "      <th>rating</th>\n",
       "      <th>jpg_url</th>\n",
       "      <th>prediction</th>\n",
       "      <th>prediction_confidence</th>\n",
       "      <th>retweet_count</th>\n",
       "      <th>favorite_count</th>\n",
       "    </tr>\n",
       "  </thead>\n",
       "  <tbody>\n",
       "    <tr>\n",
       "      <th>0</th>\n",
       "      <td>892420643555336193</td>\n",
       "      <td>NaN</td>\n",
       "      <td>NaN</td>\n",
       "      <td>2017-08-01 16:23:56+00:00</td>\n",
       "      <td>&lt;a href=\"http://twitter.com/download/iphone\" r...</td>\n",
       "      <td>This is Phineas. He's a mystical boy. Only eve...</td>\n",
       "      <td>NaN</td>\n",
       "      <td>NaN</td>\n",
       "      <td>NaN</td>\n",
       "      <td>https://twitter.com/dog_rates/status/892420643...</td>\n",
       "      <td>13.0</td>\n",
       "      <td>10.0</td>\n",
       "      <td>Phineas</td>\n",
       "      <td>None</td>\n",
       "      <td>1.3</td>\n",
       "      <td>https://pbs.twimg.com/media/DGKD1-bXoAAIAUK.jpg</td>\n",
       "      <td>NaN</td>\n",
       "      <td>NaN</td>\n",
       "      <td>6978.0</td>\n",
       "      <td>33722.0</td>\n",
       "    </tr>\n",
       "    <tr>\n",
       "      <th>1</th>\n",
       "      <td>892177421306343426</td>\n",
       "      <td>NaN</td>\n",
       "      <td>NaN</td>\n",
       "      <td>2017-08-01 00:17:27+00:00</td>\n",
       "      <td>&lt;a href=\"http://twitter.com/download/iphone\" r...</td>\n",
       "      <td>This is Tilly. She's just checking pup on you....</td>\n",
       "      <td>NaN</td>\n",
       "      <td>NaN</td>\n",
       "      <td>NaN</td>\n",
       "      <td>https://twitter.com/dog_rates/status/892177421...</td>\n",
       "      <td>13.0</td>\n",
       "      <td>10.0</td>\n",
       "      <td>Tilly</td>\n",
       "      <td>None</td>\n",
       "      <td>1.3</td>\n",
       "      <td>https://pbs.twimg.com/media/DGGmoV4XsAAUL6n.jpg</td>\n",
       "      <td>Chihuahua</td>\n",
       "      <td>0.323581</td>\n",
       "      <td>5279.0</td>\n",
       "      <td>29251.0</td>\n",
       "    </tr>\n",
       "    <tr>\n",
       "      <th>2</th>\n",
       "      <td>891815181378084864</td>\n",
       "      <td>NaN</td>\n",
       "      <td>NaN</td>\n",
       "      <td>2017-07-31 00:18:03+00:00</td>\n",
       "      <td>&lt;a href=\"http://twitter.com/download/iphone\" r...</td>\n",
       "      <td>This is Archie. He is a rare Norwegian Pouncin...</td>\n",
       "      <td>NaN</td>\n",
       "      <td>NaN</td>\n",
       "      <td>NaN</td>\n",
       "      <td>https://twitter.com/dog_rates/status/891815181...</td>\n",
       "      <td>12.0</td>\n",
       "      <td>10.0</td>\n",
       "      <td>Archie</td>\n",
       "      <td>None</td>\n",
       "      <td>1.2</td>\n",
       "      <td>https://pbs.twimg.com/media/DGBdLU1WsAANxJ9.jpg</td>\n",
       "      <td>Chihuahua</td>\n",
       "      <td>0.716012</td>\n",
       "      <td>3465.0</td>\n",
       "      <td>21985.0</td>\n",
       "    </tr>\n",
       "    <tr>\n",
       "      <th>3</th>\n",
       "      <td>891689557279858688</td>\n",
       "      <td>NaN</td>\n",
       "      <td>NaN</td>\n",
       "      <td>2017-07-30 15:58:51+00:00</td>\n",
       "      <td>&lt;a href=\"http://twitter.com/download/iphone\" r...</td>\n",
       "      <td>This is Darla. She commenced a snooze mid meal...</td>\n",
       "      <td>NaN</td>\n",
       "      <td>NaN</td>\n",
       "      <td>NaN</td>\n",
       "      <td>https://twitter.com/dog_rates/status/891689557...</td>\n",
       "      <td>13.0</td>\n",
       "      <td>10.0</td>\n",
       "      <td>Darla</td>\n",
       "      <td>None</td>\n",
       "      <td>1.3</td>\n",
       "      <td>https://pbs.twimg.com/media/DF_q7IAWsAEuuN8.jpg</td>\n",
       "      <td>Labrador Retriever</td>\n",
       "      <td>0.168086</td>\n",
       "      <td>7198.0</td>\n",
       "      <td>36817.0</td>\n",
       "    </tr>\n",
       "    <tr>\n",
       "      <th>4</th>\n",
       "      <td>891327558926688256</td>\n",
       "      <td>NaN</td>\n",
       "      <td>NaN</td>\n",
       "      <td>2017-07-29 16:00:24+00:00</td>\n",
       "      <td>&lt;a href=\"http://twitter.com/download/iphone\" r...</td>\n",
       "      <td>This is Franklin. He would like you to stop ca...</td>\n",
       "      <td>NaN</td>\n",
       "      <td>NaN</td>\n",
       "      <td>NaN</td>\n",
       "      <td>https://twitter.com/dog_rates/status/891327558...</td>\n",
       "      <td>12.0</td>\n",
       "      <td>10.0</td>\n",
       "      <td>Franklin</td>\n",
       "      <td>None</td>\n",
       "      <td>1.2</td>\n",
       "      <td>https://pbs.twimg.com/media/DF6hr6BUMAAzZgT.jpg</td>\n",
       "      <td>Basset</td>\n",
       "      <td>0.555712</td>\n",
       "      <td>7722.0</td>\n",
       "      <td>35202.0</td>\n",
       "    </tr>\n",
       "  </tbody>\n",
       "</table>\n",
       "</div>"
      ],
      "text/plain": [
       "             tweet_id  in_reply_to_status_id  in_reply_to_user_id  \\\n",
       "0  892420643555336193                    NaN                  NaN   \n",
       "1  892177421306343426                    NaN                  NaN   \n",
       "2  891815181378084864                    NaN                  NaN   \n",
       "3  891689557279858688                    NaN                  NaN   \n",
       "4  891327558926688256                    NaN                  NaN   \n",
       "\n",
       "                  timestamp  \\\n",
       "0 2017-08-01 16:23:56+00:00   \n",
       "1 2017-08-01 00:17:27+00:00   \n",
       "2 2017-07-31 00:18:03+00:00   \n",
       "3 2017-07-30 15:58:51+00:00   \n",
       "4 2017-07-29 16:00:24+00:00   \n",
       "\n",
       "                                              source  \\\n",
       "0  <a href=\"http://twitter.com/download/iphone\" r...   \n",
       "1  <a href=\"http://twitter.com/download/iphone\" r...   \n",
       "2  <a href=\"http://twitter.com/download/iphone\" r...   \n",
       "3  <a href=\"http://twitter.com/download/iphone\" r...   \n",
       "4  <a href=\"http://twitter.com/download/iphone\" r...   \n",
       "\n",
       "                                                text  retweeted_status_id  \\\n",
       "0  This is Phineas. He's a mystical boy. Only eve...                  NaN   \n",
       "1  This is Tilly. She's just checking pup on you....                  NaN   \n",
       "2  This is Archie. He is a rare Norwegian Pouncin...                  NaN   \n",
       "3  This is Darla. She commenced a snooze mid meal...                  NaN   \n",
       "4  This is Franklin. He would like you to stop ca...                  NaN   \n",
       "\n",
       "   retweeted_status_user_id retweeted_status_timestamp  \\\n",
       "0                       NaN                        NaN   \n",
       "1                       NaN                        NaN   \n",
       "2                       NaN                        NaN   \n",
       "3                       NaN                        NaN   \n",
       "4                       NaN                        NaN   \n",
       "\n",
       "                                       expanded_urls  rating_numerator  \\\n",
       "0  https://twitter.com/dog_rates/status/892420643...              13.0   \n",
       "1  https://twitter.com/dog_rates/status/892177421...              13.0   \n",
       "2  https://twitter.com/dog_rates/status/891815181...              12.0   \n",
       "3  https://twitter.com/dog_rates/status/891689557...              13.0   \n",
       "4  https://twitter.com/dog_rates/status/891327558...              12.0   \n",
       "\n",
       "   rating_denominator      name stage  rating  \\\n",
       "0                10.0   Phineas  None     1.3   \n",
       "1                10.0     Tilly  None     1.3   \n",
       "2                10.0    Archie  None     1.2   \n",
       "3                10.0     Darla  None     1.3   \n",
       "4                10.0  Franklin  None     1.2   \n",
       "\n",
       "                                           jpg_url          prediction  \\\n",
       "0  https://pbs.twimg.com/media/DGKD1-bXoAAIAUK.jpg                 NaN   \n",
       "1  https://pbs.twimg.com/media/DGGmoV4XsAAUL6n.jpg           Chihuahua   \n",
       "2  https://pbs.twimg.com/media/DGBdLU1WsAANxJ9.jpg           Chihuahua   \n",
       "3  https://pbs.twimg.com/media/DF_q7IAWsAEuuN8.jpg  Labrador Retriever   \n",
       "4  https://pbs.twimg.com/media/DF6hr6BUMAAzZgT.jpg              Basset   \n",
       "\n",
       "   prediction_confidence  retweet_count  favorite_count  \n",
       "0                    NaN         6978.0         33722.0  \n",
       "1               0.323581         5279.0         29251.0  \n",
       "2               0.716012         3465.0         21985.0  \n",
       "3               0.168086         7198.0         36817.0  \n",
       "4               0.555712         7722.0         35202.0  "
      ]
     },
     "execution_count": 114,
     "metadata": {},
     "output_type": "execute_result"
    }
   ],
   "source": [
    "twitter_archive_master_df.head()"
   ]
  },
  {
   "cell_type": "code",
   "execution_count": 115,
   "metadata": {},
   "outputs": [
    {
     "name": "stdout",
     "output_type": "stream",
     "text": [
      "<class 'pandas.core.frame.DataFrame'>\n",
      "Int64Index: 2340 entries, 0 to 2339\n",
      "Data columns (total 20 columns):\n",
      " #   Column                      Non-Null Count  Dtype              \n",
      "---  ------                      --------------  -----              \n",
      " 0   tweet_id                    2340 non-null   int64              \n",
      " 1   in_reply_to_status_id       74 non-null     float64            \n",
      " 2   in_reply_to_user_id         74 non-null     float64            \n",
      " 3   timestamp                   2340 non-null   datetime64[ns, UTC]\n",
      " 4   source                      2340 non-null   object             \n",
      " 5   text                        2340 non-null   object             \n",
      " 6   retweeted_status_id         181 non-null    float64            \n",
      " 7   retweeted_status_user_id    181 non-null    float64            \n",
      " 8   retweeted_status_timestamp  181 non-null    object             \n",
      " 9   expanded_urls               2284 non-null   object             \n",
      " 10  rating_numerator            2340 non-null   float64            \n",
      " 11  rating_denominator          2340 non-null   float64            \n",
      " 12  name                        2340 non-null   object             \n",
      " 13  stage                       380 non-null    object             \n",
      " 14  rating                      2340 non-null   float64            \n",
      " 15  jpg_url                     2062 non-null   object             \n",
      " 16  prediction                  1739 non-null   category           \n",
      " 17  prediction_confidence       1739 non-null   float64            \n",
      " 18  retweet_count               2311 non-null   float64            \n",
      " 19  favorite_count              2311 non-null   float64            \n",
      "dtypes: category(1), datetime64[ns, UTC](1), float64(10), int64(1), object(7)\n",
      "memory usage: 372.9+ KB\n"
     ]
    }
   ],
   "source": [
    "twitter_archive_master_df.info()"
   ]
  },
  {
   "cell_type": "markdown",
   "metadata": {},
   "source": [
    "### Issue #11: There are 78 replies and 181 retweets on ``twitter_archived_enhanced_df``<a class=\"anchor\" id=\"issue-11\"></a>"
   ]
  },
  {
   "cell_type": "markdown",
   "metadata": {},
   "source": [
    "#### Define"
   ]
  },
  {
   "cell_type": "markdown",
   "metadata": {},
   "source": [
    "<span style=\"color: red;\">Drop rows where ``in_reply_to_status_id`` or ``retweeted_status_id`` are not ``NaN``. Drop the unnecessary columns.</span>"
   ]
  },
  {
   "cell_type": "markdown",
   "metadata": {},
   "source": [
    "#### Code"
   ]
  },
  {
   "cell_type": "code",
   "execution_count": 116,
   "metadata": {},
   "outputs": [
    {
     "data": {
      "text/plain": [
       "255"
      ]
     },
     "execution_count": 116,
     "metadata": {},
     "output_type": "execute_result"
    }
   ],
   "source": [
    "twitter_archive_master_df[~(twitter_archive_master_df.in_reply_to_status_id.isna() & twitter_archive_master_df.retweeted_status_id.isna())].shape[0]"
   ]
  },
  {
   "cell_type": "code",
   "execution_count": 117,
   "metadata": {},
   "outputs": [],
   "source": [
    "twitter_archive_master_df = twitter_archive_master_df[twitter_archive_master_df.in_reply_to_status_id.isna() & twitter_archive_master_df.retweeted_status_id.isna()]"
   ]
  },
  {
   "cell_type": "markdown",
   "metadata": {},
   "source": [
    "#### Test"
   ]
  },
  {
   "cell_type": "markdown",
   "metadata": {},
   "source": [
    "<span style=\"color: red;\">We drop the unnecessary columns AFTER the test.</span>"
   ]
  },
  {
   "cell_type": "code",
   "execution_count": 118,
   "metadata": {},
   "outputs": [
    {
     "data": {
      "text/plain": [
       "0"
      ]
     },
     "execution_count": 118,
     "metadata": {},
     "output_type": "execute_result"
    }
   ],
   "source": [
    "twitter_archive_master_df[~(twitter_archive_master_df.in_reply_to_status_id.isna() & twitter_archive_master_df.retweeted_status_id.isna())].shape[0]"
   ]
  },
  {
   "cell_type": "code",
   "execution_count": 119,
   "metadata": {},
   "outputs": [],
   "source": [
    "twitter_archive_master_df = twitter_archive_master_df.drop(\n",
    "    [\n",
    "        \"in_reply_to_status_id\", \"in_reply_to_user_id\", \"retweeted_status_id\", \"retweeted_status_user_id\",\n",
    "        \"retweeted_status_timestamp\"\n",
    "    ],\n",
    "    axis=1\n",
    ")"
   ]
  },
  {
   "cell_type": "code",
   "execution_count": 120,
   "metadata": {},
   "outputs": [
    {
     "name": "stdout",
     "output_type": "stream",
     "text": [
      "<class 'pandas.core.frame.DataFrame'>\n",
      "Int64Index: 2085 entries, 0 to 2339\n",
      "Data columns (total 15 columns):\n",
      " #   Column                 Non-Null Count  Dtype              \n",
      "---  ------                 --------------  -----              \n",
      " 0   tweet_id               2085 non-null   int64              \n",
      " 1   timestamp              2085 non-null   datetime64[ns, UTC]\n",
      " 2   source                 2085 non-null   object             \n",
      " 3   text                   2085 non-null   object             \n",
      " 4   expanded_urls          2082 non-null   object             \n",
      " 5   rating_numerator       2085 non-null   float64            \n",
      " 6   rating_denominator     2085 non-null   float64            \n",
      " 7   name                   2085 non-null   object             \n",
      " 8   stage                  336 non-null    object             \n",
      " 9   rating                 2085 non-null   float64            \n",
      " 10  jpg_url                1959 non-null   object             \n",
      " 11  prediction             1655 non-null   category           \n",
      " 12  prediction_confidence  1655 non-null   float64            \n",
      " 13  retweet_count          2077 non-null   float64            \n",
      " 14  favorite_count         2077 non-null   float64            \n",
      "dtypes: category(1), datetime64[ns, UTC](1), float64(6), int64(1), object(6)\n",
      "memory usage: 251.3+ KB\n"
     ]
    }
   ],
   "source": [
    "twitter_archive_master_df.info()"
   ]
  },
  {
   "cell_type": "markdown",
   "metadata": {},
   "source": [
    "### Issue #12: There were missing tweets when fetching the retweet and favourite counts with Twitter's API<a class=\"anchor\" id=\"issue-12\"></a>"
   ]
  },
  {
   "cell_type": "markdown",
   "metadata": {},
   "source": [
    "#### Define"
   ]
  },
  {
   "cell_type": "markdown",
   "metadata": {},
   "source": [
    "<span style=\"color: red;\">Drop columns where ``retweet_count`` or ``favorite_count`` as ``NaN``.</span>"
   ]
  },
  {
   "cell_type": "markdown",
   "metadata": {},
   "source": [
    "#### Code"
   ]
  },
  {
   "cell_type": "code",
   "execution_count": 121,
   "metadata": {},
   "outputs": [
    {
     "data": {
      "text/plain": [
       "8"
      ]
     },
     "execution_count": 121,
     "metadata": {},
     "output_type": "execute_result"
    }
   ],
   "source": [
    "twitter_archive_master_df[twitter_archive_master_df.retweet_count.isna() | twitter_archive_master_df.retweet_count.isna()].shape[0]"
   ]
  },
  {
   "cell_type": "code",
   "execution_count": 122,
   "metadata": {},
   "outputs": [],
   "source": [
    "twitter_archive_master_df = twitter_archive_master_df[~(twitter_archive_master_df.retweet_count.isna() | twitter_archive_master_df.retweet_count.isna())]"
   ]
  },
  {
   "cell_type": "markdown",
   "metadata": {},
   "source": [
    "#### Test"
   ]
  },
  {
   "cell_type": "code",
   "execution_count": 123,
   "metadata": {},
   "outputs": [
    {
     "data": {
      "text/plain": [
       "0"
      ]
     },
     "execution_count": 123,
     "metadata": {},
     "output_type": "execute_result"
    }
   ],
   "source": [
    "twitter_archive_master_df[twitter_archive_master_df.retweet_count.isna() | twitter_archive_master_df.retweet_count.isna()].shape[0]"
   ]
  },
  {
   "cell_type": "markdown",
   "metadata": {},
   "source": [
    "### Issue #13: There are 324 records without a dog prediction on image_predictions_df<a class=\"anchor\" id=\"issue-13\"></a>"
   ]
  },
  {
   "cell_type": "markdown",
   "metadata": {},
   "source": [
    "#### Define"
   ]
  },
  {
   "cell_type": "markdown",
   "metadata": {},
   "source": [
    "<span style=\"color: red;\">Drop rows where ``prediction`` is ``NaN``.</span>"
   ]
  },
  {
   "cell_type": "markdown",
   "metadata": {},
   "source": [
    "#### Code"
   ]
  },
  {
   "cell_type": "code",
   "execution_count": 124,
   "metadata": {},
   "outputs": [
    {
     "data": {
      "text/plain": [
       "Index(['tweet_id', 'timestamp', 'source', 'text', 'expanded_urls',\n",
       "       'rating_numerator', 'rating_denominator', 'name', 'stage', 'rating',\n",
       "       'jpg_url', 'prediction', 'prediction_confidence', 'retweet_count',\n",
       "       'favorite_count'],\n",
       "      dtype='object')"
      ]
     },
     "execution_count": 124,
     "metadata": {},
     "output_type": "execute_result"
    }
   ],
   "source": [
    "twitter_archive_master_df.columns"
   ]
  },
  {
   "cell_type": "code",
   "execution_count": 125,
   "metadata": {},
   "outputs": [
    {
     "data": {
      "text/plain": [
       "430"
      ]
     },
     "execution_count": 125,
     "metadata": {},
     "output_type": "execute_result"
    }
   ],
   "source": [
    "twitter_archive_master_df.prediction.isna().sum()"
   ]
  },
  {
   "cell_type": "code",
   "execution_count": 126,
   "metadata": {},
   "outputs": [],
   "source": [
    "twitter_archive_master_df = twitter_archive_master_df[~twitter_archive_master_df.prediction.isna()]"
   ]
  },
  {
   "cell_type": "markdown",
   "metadata": {},
   "source": [
    "#### Test"
   ]
  },
  {
   "cell_type": "code",
   "execution_count": 127,
   "metadata": {},
   "outputs": [
    {
     "data": {
      "text/plain": [
       "0"
      ]
     },
     "execution_count": 127,
     "metadata": {},
     "output_type": "execute_result"
    }
   ],
   "source": [
    "twitter_archive_master_df.prediction.isna().sum()"
   ]
  },
  {
   "cell_type": "markdown",
   "metadata": {},
   "source": [
    "### Issue #14: On tweet ``670842764863651840`` the rating is invalid as the subject is not a doggo<a class=\"anchor\" id=\"issue-14\"></a>"
   ]
  },
  {
   "cell_type": "markdown",
   "metadata": {},
   "source": [
    "#### Define"
   ]
  },
  {
   "cell_type": "markdown",
   "metadata": {},
   "source": [
    "<span style=\"color: red;\">Drop the offending tweet.</span>"
   ]
  },
  {
   "cell_type": "markdown",
   "metadata": {},
   "source": [
    "#### Code"
   ]
  },
  {
   "cell_type": "code",
   "execution_count": 128,
   "metadata": {},
   "outputs": [
    {
     "data": {
      "text/html": [
       "<div>\n",
       "<style scoped>\n",
       "    .dataframe tbody tr th:only-of-type {\n",
       "        vertical-align: middle;\n",
       "    }\n",
       "\n",
       "    .dataframe tbody tr th {\n",
       "        vertical-align: top;\n",
       "    }\n",
       "\n",
       "    .dataframe thead th {\n",
       "        text-align: right;\n",
       "    }\n",
       "</style>\n",
       "<table border=\"1\" class=\"dataframe\">\n",
       "  <thead>\n",
       "    <tr style=\"text-align: right;\">\n",
       "      <th></th>\n",
       "      <th>tweet_id</th>\n",
       "      <th>timestamp</th>\n",
       "      <th>source</th>\n",
       "      <th>text</th>\n",
       "      <th>expanded_urls</th>\n",
       "      <th>rating_numerator</th>\n",
       "      <th>rating_denominator</th>\n",
       "      <th>name</th>\n",
       "      <th>stage</th>\n",
       "      <th>rating</th>\n",
       "      <th>jpg_url</th>\n",
       "      <th>prediction</th>\n",
       "      <th>prediction_confidence</th>\n",
       "      <th>retweet_count</th>\n",
       "      <th>favorite_count</th>\n",
       "    </tr>\n",
       "  </thead>\n",
       "  <tbody>\n",
       "  </tbody>\n",
       "</table>\n",
       "</div>"
      ],
      "text/plain": [
       "Empty DataFrame\n",
       "Columns: [tweet_id, timestamp, source, text, expanded_urls, rating_numerator, rating_denominator, name, stage, rating, jpg_url, prediction, prediction_confidence, retweet_count, favorite_count]\n",
       "Index: []"
      ]
     },
     "execution_count": 128,
     "metadata": {},
     "output_type": "execute_result"
    }
   ],
   "source": [
    "twitter_archive_master_df[twitter_archive_master_df.tweet_id == 670842764863651840]"
   ]
  },
  {
   "cell_type": "markdown",
   "metadata": {},
   "source": [
    "<span style=\"color: red;\">The tweet has already been taken care of by another fix.</span>"
   ]
  },
  {
   "cell_type": "markdown",
   "metadata": {},
   "source": [
    "#### Test"
   ]
  },
  {
   "cell_type": "markdown",
   "metadata": {},
   "source": [
    "### Issue #15: Remove outlier on tweet ``749981277374128128``<a class=\"anchor\" id=\"issue-15\"></a>"
   ]
  },
  {
   "cell_type": "markdown",
   "metadata": {},
   "source": [
    "#### Define"
   ]
  },
  {
   "cell_type": "markdown",
   "metadata": {},
   "source": [
    "<span style=\"color: red;\">Drop the offending tweet.</span>"
   ]
  },
  {
   "cell_type": "markdown",
   "metadata": {},
   "source": [
    "#### Code"
   ]
  },
  {
   "cell_type": "code",
   "execution_count": 129,
   "metadata": {},
   "outputs": [
    {
     "data": {
      "text/html": [
       "<div>\n",
       "<style scoped>\n",
       "    .dataframe tbody tr th:only-of-type {\n",
       "        vertical-align: middle;\n",
       "    }\n",
       "\n",
       "    .dataframe tbody tr th {\n",
       "        vertical-align: top;\n",
       "    }\n",
       "\n",
       "    .dataframe thead th {\n",
       "        text-align: right;\n",
       "    }\n",
       "</style>\n",
       "<table border=\"1\" class=\"dataframe\">\n",
       "  <thead>\n",
       "    <tr style=\"text-align: right;\">\n",
       "      <th></th>\n",
       "      <th>tweet_id</th>\n",
       "      <th>timestamp</th>\n",
       "      <th>source</th>\n",
       "      <th>text</th>\n",
       "      <th>expanded_urls</th>\n",
       "      <th>rating_numerator</th>\n",
       "      <th>rating_denominator</th>\n",
       "      <th>name</th>\n",
       "      <th>stage</th>\n",
       "      <th>rating</th>\n",
       "      <th>jpg_url</th>\n",
       "      <th>prediction</th>\n",
       "      <th>prediction_confidence</th>\n",
       "      <th>retweet_count</th>\n",
       "      <th>favorite_count</th>\n",
       "    </tr>\n",
       "  </thead>\n",
       "  <tbody>\n",
       "  </tbody>\n",
       "</table>\n",
       "</div>"
      ],
      "text/plain": [
       "Empty DataFrame\n",
       "Columns: [tweet_id, timestamp, source, text, expanded_urls, rating_numerator, rating_denominator, name, stage, rating, jpg_url, prediction, prediction_confidence, retweet_count, favorite_count]\n",
       "Index: []"
      ]
     },
     "execution_count": 129,
     "metadata": {},
     "output_type": "execute_result"
    }
   ],
   "source": [
    "twitter_archive_master_df[twitter_archive_master_df.tweet_id == 749981277374128128]"
   ]
  },
  {
   "cell_type": "markdown",
   "metadata": {},
   "source": [
    "#### Test"
   ]
  },
  {
   "cell_type": "markdown",
   "metadata": {},
   "source": [
    "<span style=\"color: red;\">The tweet has already been taken care of by another fix.</span>"
   ]
  },
  {
   "cell_type": "markdown",
   "metadata": {},
   "source": [
    "### Issue #16: Invalid name \"a\" on 55 tweets<a class=\"anchor\" id=\"issue-16\"></a>"
   ]
  },
  {
   "cell_type": "markdown",
   "metadata": {},
   "source": [
    "#### Define"
   ]
  },
  {
   "cell_type": "markdown",
   "metadata": {},
   "source": [
    "<span style=\"color: red;\">Replace ``\"a\"`` with ``None`` on column ``name``.</span>"
   ]
  },
  {
   "cell_type": "markdown",
   "metadata": {},
   "source": [
    "#### Code"
   ]
  },
  {
   "cell_type": "code",
   "execution_count": 130,
   "metadata": {},
   "outputs": [],
   "source": [
    "twitter_archive_master_df.loc[twitter_archive_master_df.name == \"a\", \"name\"] = None"
   ]
  },
  {
   "cell_type": "markdown",
   "metadata": {},
   "source": [
    "#### Test"
   ]
  },
  {
   "cell_type": "code",
   "execution_count": 131,
   "metadata": {},
   "outputs": [
    {
     "data": {
      "text/plain": [
       "0"
      ]
     },
     "execution_count": 131,
     "metadata": {},
     "output_type": "execute_result"
    }
   ],
   "source": [
    "(twitter_archive_master_df.name == \"a\").sum()"
   ]
  },
  {
   "cell_type": "markdown",
   "metadata": {},
   "source": [
    "## Storing Data<a class=\"anchor\" id=\"storing-data\"></a>\n",
    "Save gathered, assessed, and cleaned master dataset to a CSV file named \"twitter_archive_master.csv\"."
   ]
  },
  {
   "cell_type": "markdown",
   "metadata": {},
   "source": [
    "<span style=\"color: red;\">Saving onto a CSV file is actually quite trivial:</span>"
   ]
  },
  {
   "cell_type": "code",
   "execution_count": 132,
   "metadata": {},
   "outputs": [],
   "source": [
    "twitter_archive_master_df.to_csv(data_dir / \"twitter_archive_master.csv\", index=False)"
   ]
  },
  {
   "cell_type": "markdown",
   "metadata": {},
   "source": [
    "<span style=\"color: red;\">However, if we load this CSV again, we loose some of the column type information:</span>"
   ]
  },
  {
   "cell_type": "code",
   "execution_count": 133,
   "metadata": {},
   "outputs": [
    {
     "name": "stdout",
     "output_type": "stream",
     "text": [
      "<class 'pandas.core.frame.DataFrame'>\n",
      "RangeIndex: 1647 entries, 0 to 1646\n",
      "Data columns (total 15 columns):\n",
      " #   Column                 Non-Null Count  Dtype  \n",
      "---  ------                 --------------  -----  \n",
      " 0   tweet_id               1647 non-null   int64  \n",
      " 1   timestamp              1647 non-null   object \n",
      " 2   source                 1647 non-null   object \n",
      " 3   text                   1647 non-null   object \n",
      " 4   expanded_urls          1647 non-null   object \n",
      " 5   rating_numerator       1647 non-null   float64\n",
      " 6   rating_denominator     1647 non-null   float64\n",
      " 7   name                   1602 non-null   object \n",
      " 8   stage                  256 non-null    object \n",
      " 9   rating                 1647 non-null   float64\n",
      " 10  jpg_url                1647 non-null   object \n",
      " 11  prediction             1647 non-null   object \n",
      " 12  prediction_confidence  1647 non-null   float64\n",
      " 13  retweet_count          1647 non-null   float64\n",
      " 14  favorite_count         1647 non-null   float64\n",
      "dtypes: float64(6), int64(1), object(8)\n",
      "memory usage: 193.1+ KB\n"
     ]
    }
   ],
   "source": [
    "pd.read_csv(data_dir / \"twitter_archive_master.csv\").info()"
   ]
  },
  {
   "cell_type": "markdown",
   "metadata": {},
   "source": [
    "<span style=\"color: red;\">Due to this limitation, I think it's better to use a portable and type aware format like ``feather``.</span>"
   ]
  },
  {
   "cell_type": "code",
   "execution_count": 134,
   "metadata": {},
   "outputs": [],
   "source": [
    "twitter_archive_master_df.reset_index().to_feather(data_dir / \"twitter_archive_master.feather\")"
   ]
  },
  {
   "cell_type": "code",
   "execution_count": 135,
   "metadata": {},
   "outputs": [
    {
     "name": "stdout",
     "output_type": "stream",
     "text": [
      "<class 'pandas.core.frame.DataFrame'>\n",
      "RangeIndex: 1647 entries, 0 to 1646\n",
      "Data columns (total 16 columns):\n",
      " #   Column                 Non-Null Count  Dtype              \n",
      "---  ------                 --------------  -----              \n",
      " 0   index                  1647 non-null   int64              \n",
      " 1   tweet_id               1647 non-null   int64              \n",
      " 2   timestamp              1647 non-null   datetime64[ns, UTC]\n",
      " 3   source                 1647 non-null   object             \n",
      " 4   text                   1647 non-null   object             \n",
      " 5   expanded_urls          1647 non-null   object             \n",
      " 6   rating_numerator       1647 non-null   float64            \n",
      " 7   rating_denominator     1647 non-null   float64            \n",
      " 8   name                   1602 non-null   object             \n",
      " 9   stage                  256 non-null    object             \n",
      " 10  rating                 1647 non-null   float64            \n",
      " 11  jpg_url                1647 non-null   object             \n",
      " 12  prediction             1647 non-null   category           \n",
      " 13  prediction_confidence  1647 non-null   float64            \n",
      " 14  retweet_count          1647 non-null   float64            \n",
      " 15  favorite_count         1647 non-null   float64            \n",
      "dtypes: category(1), datetime64[ns, UTC](1), float64(6), int64(2), object(6)\n",
      "memory usage: 199.7+ KB\n"
     ]
    }
   ],
   "source": [
    "pd.read_feather(data_dir / \"twitter_archive_master.feather\").info()"
   ]
  },
  {
   "cell_type": "markdown",
   "metadata": {},
   "source": [
    "<span style=\"color: red;\">We could have also save to a ``sqlite`` table as well.</span>"
   ]
  },
  {
   "cell_type": "code",
   "execution_count": 136,
   "metadata": {},
   "outputs": [],
   "source": [
    "database = data_dir / \"twitter_archive_master.sqlite\"\n",
    "database.unlink(missing_ok=True)"
   ]
  },
  {
   "cell_type": "code",
   "execution_count": 137,
   "metadata": {},
   "outputs": [],
   "source": [
    "with sqlite3.connect(database) as connection:\n",
    "    twitter_archive_master_df.to_sql(name='twitter_archive_master', con=connection)"
   ]
  },
  {
   "cell_type": "code",
   "execution_count": 138,
   "metadata": {},
   "outputs": [
    {
     "name": "stdout",
     "output_type": "stream",
     "text": [
      "<class 'pandas.core.frame.DataFrame'>\n",
      "RangeIndex: 1647 entries, 0 to 1646\n",
      "Data columns (total 16 columns):\n",
      " #   Column                 Non-Null Count  Dtype  \n",
      "---  ------                 --------------  -----  \n",
      " 0   index                  1647 non-null   int64  \n",
      " 1   tweet_id               1647 non-null   int64  \n",
      " 2   timestamp              1647 non-null   object \n",
      " 3   source                 1647 non-null   object \n",
      " 4   text                   1647 non-null   object \n",
      " 5   expanded_urls          1647 non-null   object \n",
      " 6   rating_numerator       1647 non-null   float64\n",
      " 7   rating_denominator     1647 non-null   float64\n",
      " 8   name                   1602 non-null   object \n",
      " 9   stage                  256 non-null    object \n",
      " 10  rating                 1647 non-null   float64\n",
      " 11  jpg_url                1647 non-null   object \n",
      " 12  prediction             1647 non-null   object \n",
      " 13  prediction_confidence  1647 non-null   float64\n",
      " 14  retweet_count          1647 non-null   float64\n",
      " 15  favorite_count         1647 non-null   float64\n",
      "dtypes: float64(6), int64(2), object(8)\n",
      "memory usage: 206.0+ KB\n"
     ]
    }
   ],
   "source": [
    "with sqlite3.connect(database) as connection:\n",
    "    pd.read_sql(sql=\"SELECT * FROM twitter_archive_master\", con=connection).info()"
   ]
  },
  {
   "cell_type": "markdown",
   "metadata": {},
   "source": [
    "<span style=\"color: red;\">But once again we lose the type information.</span>"
   ]
  },
  {
   "cell_type": "markdown",
   "metadata": {},
   "source": [
    "## Analyzing and Visualizing Data<a class=\"anchor\" id=\"analyzing-and-visualizing-data\"></a>\n",
    "In this section, analyze and visualize your wrangled data. You must produce at least **three (3) insights and one (1) visualization.**"
   ]
  },
  {
   "cell_type": "markdown",
   "metadata": {},
   "source": [
    "<span style=\"color: red;\">The following cells contain the exploratory work that led to the insights.</span>"
   ]
  },
  {
   "cell_type": "code",
   "execution_count": 139,
   "metadata": {},
   "outputs": [
    {
     "data": {
      "text/plain": [
       "None       390\n",
       "None        45\n",
       "Cooper      10\n",
       "Charlie      9\n",
       "Lucy         9\n",
       "Tucker       9\n",
       "Oliver       9\n",
       "Penny        8\n",
       "Sadie        7\n",
       "the          7\n",
       "Name: name, dtype: int64"
      ]
     },
     "execution_count": 139,
     "metadata": {},
     "output_type": "execute_result"
    }
   ],
   "source": [
    "twitter_archive_master_df.name.value_counts(dropna=False)[:10]"
   ]
  },
  {
   "cell_type": "code",
   "execution_count": 140,
   "metadata": {},
   "outputs": [
    {
     "data": {
      "text/plain": [
       "1.0820752884031573"
      ]
     },
     "execution_count": 140,
     "metadata": {},
     "output_type": "execute_result"
    }
   ],
   "source": [
    "twitter_archive_master_df.rating.mean()"
   ]
  },
  {
   "cell_type": "code",
   "execution_count": 141,
   "metadata": {},
   "outputs": [
    {
     "data": {
      "text/plain": [
       "0.17777543390270223"
      ]
     },
     "execution_count": 141,
     "metadata": {},
     "output_type": "execute_result"
    }
   ],
   "source": [
    "twitter_archive_master_df.rating.std()"
   ]
  },
  {
   "cell_type": "code",
   "execution_count": 142,
   "metadata": {},
   "outputs": [
    {
     "data": {
      "text/plain": [
       "array([1. , 1.1, 1.2])"
      ]
     },
     "execution_count": 142,
     "metadata": {},
     "output_type": "execute_result"
    }
   ],
   "source": [
    "np.percentile(twitter_archive_master_df.rating, [25, 50, 75])"
   ]
  },
  {
   "cell_type": "code",
   "execution_count": 143,
   "metadata": {},
   "outputs": [
    {
     "data": {
      "text/plain": [
       "(0.0, 1.4)"
      ]
     },
     "execution_count": 143,
     "metadata": {},
     "output_type": "execute_result"
    }
   ],
   "source": [
    "twitter_archive_master_df.rating.min(), twitter_archive_master_df.rating.max()"
   ]
  },
  {
   "cell_type": "code",
   "execution_count": 144,
   "metadata": {},
   "outputs": [
    {
     "data": {
      "image/png": "[encoded data removed]",
      "text/plain": [
       "<Figure size 640x480 with 1 Axes>"
      ]
     },
     "metadata": {},
     "output_type": "display_data"
    }
   ],
   "source": [
    "twitter_archive_master_df.rating.hist();"
   ]
  },
  {
   "cell_type": "code",
   "execution_count": 145,
   "metadata": {},
   "outputs": [
    {
     "data": {
      "image/png": "[encoded data removed]",
      "text/plain": [
       "<Figure size 640x480 with 1 Axes>"
      ]
     },
     "metadata": {},
     "output_type": "display_data"
    }
   ],
   "source": [
    "plt.scatter(\n",
    "    twitter_archive_master_df.rating,\n",
    "    twitter_archive_master_df.favorite_count\n",
    ");"
   ]
  },
  {
   "cell_type": "code",
   "execution_count": 146,
   "metadata": {},
   "outputs": [
    {
     "data": {
      "text/plain": [
       "0.4112524328126853"
      ]
     },
     "execution_count": 146,
     "metadata": {},
     "output_type": "execute_result"
    }
   ],
   "source": [
    "twitter_archive_master_df.rating.corr(twitter_archive_master_df.favorite_count)"
   ]
  },
  {
   "cell_type": "code",
   "execution_count": 147,
   "metadata": {},
   "outputs": [
    {
     "data": {
      "image/png": "[encoded data removed]",
      "text/plain": [
       "<Figure size 640x480 with 1 Axes>"
      ]
     },
     "metadata": {},
     "output_type": "display_data"
    }
   ],
   "source": [
    "plt.scatter(\n",
    "    twitter_archive_master_df.rating,\n",
    "    twitter_archive_master_df.retweet_count\n",
    ");"
   ]
  },
  {
   "cell_type": "code",
   "execution_count": 148,
   "metadata": {},
   "outputs": [
    {
     "data": {
      "text/plain": [
       "0.4112524328126853"
      ]
     },
     "execution_count": 148,
     "metadata": {},
     "output_type": "execute_result"
    }
   ],
   "source": [
    "twitter_archive_master_df.rating.corr(twitter_archive_master_df.favorite_count)"
   ]
  },
  {
   "cell_type": "code",
   "execution_count": 149,
   "metadata": {},
   "outputs": [
    {
     "data": {
      "text/plain": [
       "Golden Retriever      154\n",
       "Labrador Retriever    100\n",
       "Pembroke               94\n",
       "Chihuahua              90\n",
       "Pug                    62\n",
       "Toy Poodle             49\n",
       "Chow                   47\n",
       "Pomeranian             41\n",
       "Samoyed                41\n",
       "Malamute               33\n",
       "Name: prediction, dtype: int64"
      ]
     },
     "execution_count": 149,
     "metadata": {},
     "output_type": "execute_result"
    }
   ],
   "source": [
    "twitter_archive_master_df.prediction.value_counts()[:10]"
   ]
  },
  {
   "cell_type": "code",
   "execution_count": 150,
   "metadata": {},
   "outputs": [
    {
     "data": {
      "text/plain": [
       "prediction\n",
       "Bouvier Des Flandres    1.300000\n",
       "Saluki                  1.250000\n",
       "Briard                  1.233333\n",
       "Tibetan Mastiff         1.225000\n",
       "Border Terrier          1.214286\n",
       "Silky Terrier           1.200000\n",
       "Standard Schnauzer      1.200000\n",
       "Irish Setter            1.175000\n",
       "Gordon Setter           1.175000\n",
       "Samoyed                 1.173171\n",
       "Name: rating, dtype: float64"
      ]
     },
     "execution_count": 150,
     "metadata": {},
     "output_type": "execute_result"
    }
   ],
   "source": [
    "twitter_archive_master_df.groupby(\"prediction\").rating.mean().sort_values(ascending=False)[:10]"
   ]
  },
  {
   "cell_type": "code",
   "execution_count": 151,
   "metadata": {},
   "outputs": [
    {
     "data": {
      "image/png": "[encoded data removed]",
      "text/plain": [
       "<Figure size 640x480 with 1 Axes>"
      ]
     },
     "metadata": {},
     "output_type": "display_data"
    }
   ],
   "source": [
    "twitter_archive_master_df.stage.value_counts().plot(kind=\"pie\");"
   ]
  },
  {
   "cell_type": "code",
   "execution_count": 152,
   "metadata": {},
   "outputs": [
    {
     "data": {
      "image/png": "[encoded data removed]",
      "text/plain": [
       "<Figure size 640x480 with 1 Axes>"
      ]
     },
     "metadata": {},
     "output_type": "display_data"
    }
   ],
   "source": [
    "twitter_archive_master_df.stage.value_counts(dropna=False).plot(kind=\"pie\");"
   ]
  },
  {
   "cell_type": "code",
   "execution_count": 153,
   "metadata": {},
   "outputs": [
    {
     "data": {
      "image/png": "[encoded data removed]",
      "text/plain": [
       "<Figure size 640x480 with 1 Axes>"
      ]
     },
     "metadata": {},
     "output_type": "display_data"
    }
   ],
   "source": [
    "twitter_archive_master_df.groupby(\"stage\").rating.mean().plot(kind=\"bar\");"
   ]
  },
  {
   "cell_type": "code",
   "execution_count": 154,
   "metadata": {},
   "outputs": [
    {
     "data": {
      "image/png": "[encoded data removed]",
      "text/plain": [
       "<Figure size 640x480 with 1 Axes>"
      ]
     },
     "metadata": {},
     "output_type": "display_data"
    }
   ],
   "source": [
    "twitter_archive_master_df.groupby(\"stage\").favorite_count.sum().plot(kind=\"bar\");"
   ]
  },
  {
   "cell_type": "markdown",
   "metadata": {},
   "source": [
    "### Insights:\n",
    "\n",
    "1. Most ratings are over 10/10 (1.0)\n",
    "\n",
    "2. Golden retrievers are the most popular breed\n",
    "\n",
    "3. There's a slight correlation between rating and favorite and retweet counts\n",
    "\n",
    "4. All stages are evenly rated.\n",
    "\n",
    "5. All doggos are good doggos."
   ]
  },
  {
   "cell_type": "markdown",
   "metadata": {},
   "source": [
    "#### Insight: Most ratings are over 10/10 (1.0)"
   ]
  },
  {
   "cell_type": "markdown",
   "metadata": {},
   "source": [
    "<span style=\"color: red;\">The \"Average Rating\" histogram, as well as the 5 number summary clearly shows that most ratings are over 1.0, which means (assuming that all valid ratings have a 10 as denominator) that most ratings are over 10/10. We used ``twitter_archive_master_df.rating`` for this insight, which was computed dividing the ``rating_numerator`` column over the ``rating_denominator`` column. In turn, this columns, which were originally provided, required some cleaning as they were invalid ratings (due to pattern matching) as well as some outliers. </span>"
   ]
  },
  {
   "cell_type": "code",
   "execution_count": 155,
   "metadata": {},
   "outputs": [
    {
     "data": {
      "text/plain": [
       "1.0820752884031573"
      ]
     },
     "execution_count": 155,
     "metadata": {},
     "output_type": "execute_result"
    }
   ],
   "source": [
    "twitter_archive_master_df.rating.mean()  # mean"
   ]
  },
  {
   "cell_type": "code",
   "execution_count": 156,
   "metadata": {},
   "outputs": [
    {
     "data": {
      "text/plain": [
       "0.17777543390270223"
      ]
     },
     "execution_count": 156,
     "metadata": {},
     "output_type": "execute_result"
    }
   ],
   "source": [
    "twitter_archive_master_df.rating.std()  # standard deviation"
   ]
  },
  {
   "cell_type": "code",
   "execution_count": 157,
   "metadata": {},
   "outputs": [
    {
     "data": {
      "text/plain": [
       "array([1. , 1.1, 1.2])"
      ]
     },
     "execution_count": 157,
     "metadata": {},
     "output_type": "execute_result"
    }
   ],
   "source": [
    "np.percentile(twitter_archive_master_df.rating, [25, 50, 75])  # quartiles"
   ]
  },
  {
   "cell_type": "code",
   "execution_count": 158,
   "metadata": {},
   "outputs": [
    {
     "data": {
      "text/plain": [
       "(0.0, 1.4)"
      ]
     },
     "execution_count": 158,
     "metadata": {},
     "output_type": "execute_result"
    }
   ],
   "source": [
    "twitter_archive_master_df.rating.min(), twitter_archive_master_df.rating.max()  # range"
   ]
  },
  {
   "cell_type": "markdown",
   "metadata": {},
   "source": [
    "#### Insight: Golden retrievers are the most popular breed"
   ]
  },
  {
   "cell_type": "markdown",
   "metadata": {},
   "source": [
    "<span style=\"color: red;\">The following ranking (as well as the chart \"Popular Breed Predition\" included in the visualizations section) shows the 10 most propular (predicted) breeds amongst the rated tweets. The chart \"\"</span>"
   ]
  },
  {
   "cell_type": "code",
   "execution_count": 159,
   "metadata": {},
   "outputs": [
    {
     "data": {
      "text/plain": [
       "Golden Retriever      154\n",
       "Labrador Retriever    100\n",
       "Pembroke               94\n",
       "Chihuahua              90\n",
       "Pug                    62\n",
       "Toy Poodle             49\n",
       "Chow                   47\n",
       "Pomeranian             41\n",
       "Samoyed                41\n",
       "Malamute               33\n",
       "Name: prediction, dtype: int64"
      ]
     },
     "execution_count": 159,
     "metadata": {},
     "output_type": "execute_result"
    }
   ],
   "source": [
    "twitter_archive_master_df.prediction.value_counts()[:10]"
   ]
  },
  {
   "cell_type": "markdown",
   "metadata": {},
   "source": [
    "<span style=\"color: red;\">The ``prediction`` column came from a consolidation of the ``p1``, ``p2``, and ``p3`` columns from the ``image_predictions.tsv`` file. I select the first column that predicted a dog breed for the ``prediction`` column. Afterwards we cleaned up the strings to make them readable, and turned them into a category. If you need a reason for why this breed is so popular, just check the visualization section.</span>"
   ]
  },
  {
   "cell_type": "markdown",
   "metadata": {},
   "source": [
    "#### Insight: There's a slight correlation between rating and favorite and retweet counts"
   ]
  },
  {
   "cell_type": "markdown",
   "metadata": {},
   "source": [
    "<span style=\"color: red;\">The following correlation factors, shows there's a slight correlation between ``rating`` and ``favorite_count`` and ``retweet_count`` columns. These last two were missing from the original CSV file and had to be fetched from Twitter's API. Not much cleaning was needed, but there were a handful of deleted tweets for which we couldn't get these values and were dropped eventually.</span>"
   ]
  },
  {
   "cell_type": "code",
   "execution_count": 160,
   "metadata": {},
   "outputs": [
    {
     "data": {
      "text/plain": [
       "0.4112524328126853"
      ]
     },
     "execution_count": 160,
     "metadata": {},
     "output_type": "execute_result"
    }
   ],
   "source": [
    "twitter_archive_master_df.rating.corr(twitter_archive_master_df.favorite_count)"
   ]
  },
  {
   "cell_type": "code",
   "execution_count": 161,
   "metadata": {},
   "outputs": [
    {
     "data": {
      "text/plain": [
       "0.3117353235682869"
      ]
     },
     "execution_count": 161,
     "metadata": {},
     "output_type": "execute_result"
    }
   ],
   "source": [
    "twitter_archive_master_df.rating.corr(twitter_archive_master_df.retweet_count)"
   ]
  },
  {
   "cell_type": "markdown",
   "metadata": {},
   "source": [
    "<span style=\"color: red;\">The \"Rating vs. Favorite Count\" and \"Rating vs. Retweet Count\" scatter plots are consistent with these correlation factors.</span>"
   ]
  },
  {
   "cell_type": "markdown",
   "metadata": {},
   "source": [
    "#### Insight: All stages are evenly rated"
   ]
  },
  {
   "cell_type": "markdown",
   "metadata": {},
   "source": [
    "<span style=\"color: red;\">The \"Stage Rating Avergage\" clearly shows that all stages are similarily rated (on average). The ``stage``  column is a combination of the columns ``doggo``, ``pupper``, ``puppo`` and ``fluffer``  from ``twitter-archive-enhanced.csv``. When each column had a value (with the same string as the name of the column) we took that as the ``stage`` of the individual.</span>"
   ]
  },
  {
   "cell_type": "markdown",
   "metadata": {},
   "source": [
    "#### Insight: All doggos are good doggos"
   ]
  },
  {
   "cell_type": "markdown",
   "metadata": {},
   "source": [
    "<span style=\"color: red;\">Juss a fact of life.</span>"
   ]
  },
  {
   "cell_type": "markdown",
   "metadata": {
    "collapsed": true
   },
   "source": [
    "### Visualization"
   ]
  },
  {
   "cell_type": "code",
   "execution_count": 162,
   "metadata": {},
   "outputs": [
    {
     "data": {
      "image/png": "[encoded data removed]",
      "text/plain": [
       "<Figure size 640x480 with 1 Axes>"
      ]
     },
     "metadata": {},
     "output_type": "display_data"
    }
   ],
   "source": [
    "plt.hist(twitter_archive_master_df.rating);\n",
    "plt.xlabel('Average Rating')\n",
    "plt.title('Average Rating Histogram')\n",
    "plt.axvline(twitter_archive_master_df.rating.mean(), color=\"red\");"
   ]
  },
  {
   "cell_type": "code",
   "execution_count": 163,
   "metadata": {},
   "outputs": [
    {
     "data": {
      "image/png": "[encoded data removed]",
      "text/plain": [
       "<Figure size 640x480 with 1 Axes>"
      ]
     },
     "metadata": {},
     "output_type": "display_data"
    }
   ],
   "source": [
    "twitter_archive_master_df.prediction.value_counts()[:10].plot(kind=\"bar\");\n",
    "plt.xlabel('Popular Breed Predition');\n",
    "plt.ylabel('# Predictions');\n",
    "plt.title('Most Popular Breed Predictions');"
   ]
  },
  {
   "cell_type": "code",
   "execution_count": 164,
   "metadata": {},
   "outputs": [
    {
     "data": {
      "text/plain": [
       "482    https://pbs.twimg.com/media/C04taUjWIAA6Mo4.jpg\n",
       "84     https://pbs.twimg.com/media/DCnll_dUQAAkBdG.jpg\n",
       "115    https://pbs.twimg.com/media/DBQwlFCXkAACSkI.jpg\n",
       "47     https://pbs.twimg.com/media/DEF2-_hXoAAs62q.jpg\n",
       "Name: jpg_url, dtype: object"
      ]
     },
     "execution_count": 164,
     "metadata": {},
     "output_type": "execute_result"
    }
   ],
   "source": [
    "twitter_archive_master_df[twitter_archive_master_df.prediction == \"Golden Retriever\"].jpg_url.sample(4)"
   ]
  },
  {
   "cell_type": "code",
   "execution_count": 165,
   "metadata": {},
   "outputs": [
    {
     "data": {
      "image/png": "[encoded data removed]",
      "text/plain": [
       "<Figure size 640x480 with 4 Axes>"
      ]
     },
     "metadata": {},
     "output_type": "display_data"
    }
   ],
   "source": [
    "urls = twitter_archive_master_df[twitter_archive_master_df.prediction == \"Golden Retriever\"].jpg_url.sample(4)\n",
    "images = [\n",
    "    plt.imread(urllib.request.urlopen(url), format=\"jpg\")\n",
    "    for url in urls\n",
    "]\n",
    "fig, ((ax1, ax2), (ax3, ax4)) = plt.subplots(2, 2, sharex=True, sharey=True) ;\n",
    "ax1.imshow(images[0]);\n",
    "ax1.axis('off');\n",
    "ax2.imshow(images[1]);\n",
    "ax2.axis('off');\n",
    "ax3.imshow(images[2]);\n",
    "ax3.axis('off');\n",
    "ax4.imshow(images[3]);\n",
    "ax4.axis('off');"
   ]
  },
  {
   "cell_type": "code",
   "execution_count": 166,
   "metadata": {},
   "outputs": [
    {
     "data": {
      "image/png": "[encoded data removed]",
      "text/plain": [
       "<Figure size 640x480 with 1 Axes>"
      ]
     },
     "metadata": {},
     "output_type": "display_data"
    }
   ],
   "source": [
    "plt.scatter(\n",
    "    twitter_archive_master_df.rating,\n",
    "    twitter_archive_master_df.favorite_count\n",
    ");\n",
    "plt.xlabel('Rating');\n",
    "plt.ylabel('Favorite Count');\n",
    "plt.title('Rating vs. Favorite Count');"
   ]
  },
  {
   "cell_type": "code",
   "execution_count": 167,
   "metadata": {},
   "outputs": [
    {
     "data": {
      "image/png": "[encoded data removed]",
      "text/plain": [
       "<Figure size 640x480 with 1 Axes>"
      ]
     },
     "metadata": {},
     "output_type": "display_data"
    }
   ],
   "source": [
    "plt.scatter(\n",
    "    twitter_archive_master_df.rating,\n",
    "    twitter_archive_master_df.retweet_count\n",
    ");\n",
    "plt.xlabel('Rating');\n",
    "plt.ylabel('Retweet Count');\n",
    "plt.title('Rating vs. Retweet Count');"
   ]
  },
  {
   "cell_type": "code",
   "execution_count": 168,
   "metadata": {},
   "outputs": [
    {
     "data": {
      "image/png": "[encoded data removed]",
      "text/plain": [
       "<Figure size 640x480 with 1 Axes>"
      ]
     },
     "metadata": {},
     "output_type": "display_data"
    }
   ],
   "source": [
    "twitter_archive_master_df.groupby(\"stage\").rating.mean().plot(kind=\"bar\");\n",
    "plt.xlabel('Rating');\n",
    "plt.ylabel('Rating Average');\n",
    "plt.title('Stage Rating Avergage');"
   ]
  },
  {
   "cell_type": "code",
   "execution_count": null,
   "metadata": {},
   "outputs": [],
   "source": []
  }
 ],
 "metadata": {
  "extensions": {
   "jupyter_dashboards": {
    "activeView": "report_default",
    "version": 1,
    "views": {
     "grid_default": {
      "cellMargin": 10,
      "defaultCellHeight": 20,
      "maxColumns": 12,
      "name": "grid",
      "type": "grid"
     },
     "report_default": {
      "name": "report",
      "type": "report"
     }
    }
   }
  },
  "kernelspec": {
   "display_name": "Python 3 (ipykernel)",
   "language": "python",
   "name": "python3"
  },
  "language_info": {
   "codemirror_mode": {
    "name": "ipython",
    "version": 3
   },
   "file_extension": ".py",
   "mimetype": "text/x-python",
   "name": "python",
   "nbconvert_exporter": "python",
   "pygments_lexer": "ipython3",
   "version": "3.10.4"
  }
 },
 "nbformat": 4,
 "nbformat_minor": 2
}
